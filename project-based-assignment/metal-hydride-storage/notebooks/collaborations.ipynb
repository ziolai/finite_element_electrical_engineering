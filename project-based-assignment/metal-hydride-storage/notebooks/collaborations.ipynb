{
 "cells": [
  {
   "cell_type": "markdown",
   "id": "cd0e5f10-2ed1-4573-be8e-4f1e92807e6e",
   "metadata": {},
   "source": [
    "# Collaborations"
   ]
  },
  {
   "cell_type": "markdown",
   "id": "78aad84d-ceab-4663-bec7-07e418780419",
   "metadata": {
    "jp-MarkdownHeadingCollapsed": true
   },
   "source": [
    "## Marco Talice  \n",
    "\n",
    "### Section 1: Introduction \n",
    "\n",
    "Become familiar with the project. Advice on alternative modeling and solution approaches. Advice on preprocessing (meshing) and postprocessing (Paraview) tools. \n",
    "\n",
    "### Section 2: Zero-D Reactor Model for Pressure \n",
    "\n",
    "Advice on interpretation of the zero-D reactor model for pressure and possible extensions to take spatial gradients of the pressure into account.  \n",
    "\n",
    "### Section 3: Poiseuille Flow, Darcy and 0D Reactor Analytical Reference Solutions \n",
    "\n",
    "#### Section 1.3: Poiseuille Flow in Empty Channel \n",
    "Advice on application of the [Poiseuille Flow](https://en.wikipedia.org/wiki/Hagen%E2%80%93Poiseuille_equation) to verify computed pressure and velocity field in a laminar flow model in absence of porous medium in open channel. Advice on possible corrections to take the presence of the porous medium (Darcy?) and/or closed vessel into account in the Poiseuille flow model. \n",
    "\n",
    "<b>Geometry</b>\n",
    "2D rectangular channel of radius $R_2 = 4 \\, \\text{cm}$ and length $L = 80 \\, \\text{cm}$ (nomenclature and values from Darzi paper). No nozzle (else backward facing step is obtained). No revolve. \n",
    "\n",
    "<b>Mesh</b>\n",
    "1. mesh in GMSH ready;\n",
    "2. requires converting to OpenFoam format;\n",
    "    \n",
    "<b>Inlet Conditions</b>\n",
    "Parabolic vs. flat inlet profile with given amplitude; \n",
    "\n",
    "#### Section 2.3: Darcy Porous Medium Channel \n",
    "Advice on application of the [Darcy model](https://en.wikipedia.org/wiki/Darcy–Weisbach_equation) to verify computed pressure drop in a laminar flow model in presence of porous medium in an open channel. The velocity can be compared between simulation codes (Ferrite and OpenFoam). For closed vessel (no outlet) the pressure drop and velocity can be compared between simulation codes. Same 2D rectangular channel specs (open channel and closed vessel) as above. Requires porosity of the medium. \n",
    "\n",
    "#### Section 3.3: 0D Reactor Model Empty Reactor \n",
    "Compare time accurate transient computations of velocity and pressure fields during fill and empty of tank with 0D reactor model. \n",
    "\n",
    "<b>Geometry</b>\n",
    "3D wedge over 90 degrees. Radius and length of reactor as before. Attach nozzle to be able to implement pressure inlet boundary conditions. Diameter and length of nozzle to be determined. Length long enough for laminar profile to fullty develop. (similar to $L = 0.05 * D * Re$). \n",
    "\n",
    "<b>Mesh</b>\n",
    "Domenico to verify \n",
    "1. how to combine transfinite meshes and resolve (tutorials surely exists);\n",
    "2. how to use combined wedge and hexahedral elements in Ferrite.jl\n",
    "   \n",
    "### Section 4: Geometry Definition and Mesh Generation for 90-Degrees Wedge Vessel Model \n",
    "\n",
    "Generate geometry and mesh for 90-Degrees Wedge Vessel Model. Possibly use gmshToFoam on already existing. See, however, [this issue](https://www.cfd-online.com/Forums/openfoam-meshing/250486-gmshtofoam-recombined-wedge-defaultfaces.html). \n",
    "\n",
    "### Section 5: Iso-thermal Non-Reative Laminar Flow Computation\n",
    "\n",
    "Set up and run simulation for pimpleFoam (specify version of openFoam to be used) for laminar flow \n",
    "\n",
    "1. parabolic velocoty inlet open channel without porous material; \n",
    "2. parabolic velocoty inlet open channel with porous material;\n",
    "3. pressure inlet (for both inflow and outflow) closed vessel without porous material;\n",
    "4. pressure inlet (for both inflow and outflow) closed vessel with porous material;\n",
    "\n",
    "Detials on mesh, solver settings, solver profiling and post-processing to be specified. \n",
    "\n",
    "### Section 6: Next Steps \n",
    "\n",
    "Advice on next steps in the project that include: \n",
    "\n",
    "1. heat transfer effects in the vessel assuming vessel no heat loss to the environment using rhoPimpleFoam. Details on temperature dependance of molecular viscosity to be specificied;\n",
    "2. transport and chemistry for hydrogen gass and metal-oxide density using reactingFoam (including heat transfer assuming adiabatic conditions). Using laminar chemistry mechanism (details on chemical reactions mechanism to be specified);\n",
    "3. heat transfer effects between the vessel and environment through boundary conditions. Inclusing diffusive effects in the boundary conditions   "
   ]
  },
  {
   "cell_type": "markdown",
   "id": "a29814ee-17c2-4307-8bf4-9e4219f1d3b6",
   "metadata": {},
   "source": [
    "## Remy Morel - Summer Internship \n",
    "\n",
    "The summer internship of Remi Morel at the Delft Institute of Applied Mathematics at the Technical University of Delft is scheduled to take place from July 2025 to September 2025. During this internship, Remi is expected to contribute to the mathematical  modeling and numerical simulation of the storage of hydrogen gas using metal-organic frameworks as binding agent. The project is part of a collaboration between Almajdouie - deRijke and TU Delft described at [1]. A first milestone is the project is to reproduce results published in the literature using of public domain software tools. This milestone is described at [2]. The model described in [2] consists of two components. The first component is a model for the laminar non-isothermal flow of hydrogen gas in the storage container filled with a metal-oxide framework. The metal-oxide can be considered to be a porous medium through which the hydrogen gas flows. The second component is a two-component convection-diffusion-reaction model for the hydrogen gas and metal-oxide densities. The model is solved using the finite element method for the spatial discretization and an implicit time integration method. \n",
    "\n",
    "The main target of the summer internship of Remi Morel is to contribute to solving the assignment outlined at [2]. Other references are available at The internship requests Remi to go through a short and superficial literature study on storage of hydrogen gas using metal-oxide frameworks and of mathematical models for this application. The paper referenced in [2] can be used as a point of departure. The internship furthermore foresees in the possibility that Remi seeks advice from a student working previous on the project (Ms. Anouchka Desmettre) on software tools to be used in the project. \n",
    "\n",
    "An important ingredient is to account for the effect of temperature gradients on the absorption and release of hydrogen (heat required for absorption and released due to desorption of hydrogen). Both steady-state (quantifying the amount of hydrogen absorbed and released) and transient (quantifying the time required for (de)charging) models are of interest to developed. This requires to study the heat transfer through the porous medium of the metal-oxide framework by diffusion and laminar convection. The Stokes, Oseen and Navier-Stokes pressure-velocity models for iso-thermal flow will have to be extended with an equation for the energy (temperature) and with the equation of state for an ideal gas. Both segregated and coupled solution approaches can be investigated.  Initially adiabatic models will be investigated. In a later stage, the heat loss to the environment can be taken into account by imposing suitable boundary conditions. Other aspects that are of interest to pursue are listed as exercises in [2]. \n",
    "\n",
    "The summer internship of Remi Morel is expected to result in a Jupyter notebook (or a set of interlinked Jupyter notebooks) for the Julia programming language. Numerical  results of the internship will be bundled with other results and shared with project partners. \n",
    "   \n",
    "References: \n",
    "1. https://github.com/ziolai/finite_element_electrical_engineering/blob/main/project-based-assignment/metal-hydride-storage/notebooks/readme.md \n",
    "2. https://github.com/ziolai/finite_element_electrical_engineering/blob/main/project-based-assignment/metal-hydride-storage/notebooks/darzi-2016.ipynb \n",
    "3. https://mega.nz/folder/LFVlkA5L#aVsa5VFcMgmTl9i_FNCEOA \n"
   ]
  },
  {
   "cell_type": "markdown",
   "id": "38dcb855-eaaa-4905-a4bb-133150acb656",
   "metadata": {},
   "source": [
    "## Swayam Kuckreja  2025 TAShip "
   ]
  },
  {
   "cell_type": "code",
   "execution_count": null,
   "id": "902844a1-528e-4dc2-a69e-322c3d019030",
   "metadata": {},
   "outputs": [],
   "source": []
  }
 ],
 "metadata": {
  "kernelspec": {
   "display_name": "Julia 1.9.1",
   "language": "julia",
   "name": "julia-1.9"
  },
  "language_info": {
   "file_extension": ".jl",
   "mimetype": "application/julia",
   "name": "julia",
   "version": "1.9.1"
  }
 },
 "nbformat": 4,
 "nbformat_minor": 5
}
