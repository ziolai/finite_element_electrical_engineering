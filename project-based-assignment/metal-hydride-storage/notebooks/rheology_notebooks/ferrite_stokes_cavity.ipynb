{
 "cells": [
  {
   "cell_type": "markdown",
   "id": "e52a9a18-dc8a-4a76-899e-b494d36b8972",
   "metadata": {},
   "source": [
    "# FEM Simulatons of Stationary Stokes Flow in Cylindrical Cavity with Rotating Lid \n",
    "\n",
    "Simulates [Stokes flow](https://en.wikipedia.org/wiki/Stokes_flow) for a Newtonian fluid in a shallow cylindrical cavity with rotating lid using the [Ferrite.jl](https://ferrite-fem.github.io/Ferrite.jl/stable/) finite element solver. Code adapted from the tutorial [Ferrite.jl Stokes Flow Tutorial](https://ferrite-fem.github.io/Ferrite.jl/stable/tutorials/stokes-flow/). \n",
    "\n",
    "<b>Problem to Solve</b>\n",
    "\n",
    "See [Stokes flow](https://en.wikipedia.org/wiki/Stokes_flow). \n",
    "\n",
    "<b>Boundary Conditions</b>\n",
    "\n",
    "At top lid: Dirichlet boundary condition for velocity. At vertical walls and bottom lid: [no-slip](https://en.wikipedia.org/wiki/No-slip_condition) boundary condition for the velocity. Average boundary condition for the pressure. \n",
    "\n",
    "<b>Weak or Variational Formulation</b>\n",
    "\n",
    "See e.g. [weak formulation](https://en.wikipedia.org/wiki/Weak_formulation) for the Poisson equation. Requires extension for the Stokes equations. See e.g. Section 6.5 of book of Donea and Huerta. \n",
    "\n",
    "<b>Finite Element Discretization</b>\n",
    "\n",
    "See e.g. Section 6.5 of book of Donea and Huerta.\n",
    "\n",
    "<b>Coupled Pressure-Velocity Linear System</b>\n",
    "\n",
    "See e.g. tutorial [Ferrite.jl Stokes Flow Tutorial](https://ferrite-fem.github.io/Ferrite.jl/stable/tutorials/stokes-flow/) and Section 6.5 of book of Donea and Huerta.\n",
    "\n",
    "<b>Questions</b>\n",
    "1. Can second order shape functions in 3D be used?\n",
    "3. What does the mean pressure constraint actually do? \n",
    "4. Do pressure oscillations at the boundary of the lid disappear when using a finer mesh?\n",
    "5. Do pressure oscillations at the boundary of the lid disappear when making the cavity deeper? \n",
    "\n",
    "<b>To do</b> \n",
    "1. repeat for various viscosity values; \n",
    "2. add post-processing for the volume-averaged strain rate. Similar to function compute_stress() in the tutorial [computational_homogenization](https://ferrite-fem.github.io/Ferrite.jl/stable/tutorials/computational_homogenization);\n",
    "3. extend to non-Newtonian fluid with shear thinning. Similar to tutorial [hyperelasticity](https://ferrite-fem.github.io/Ferrite.jl/stable/tutorials/hyperelasticity);\n",
    "4. try third order velocity and second order pressure; \n",
    "5. extend to Oseen model by using Stokes model as initial guess; \n",
    "6. extend to various measurement protocols;   "
   ]
  },
  {
   "cell_type": "markdown",
   "id": "cc016459-7d67-4e1d-89e6-2eacf462ad8d",
   "metadata": {},
   "source": [
    "##  Import Packages"
   ]
  },
  {
   "cell_type": "code",
   "execution_count": 21,
   "id": "c3f62844-3286-488a-9283-8a737d235584",
   "metadata": {},
   "outputs": [],
   "source": [
    "using BlockArrays\n",
    "using LinearAlgebra\n",
    "using UnPack\n",
    "using LinearSolve \n",
    "using SparseArrays\n",
    "using Ferrite\n",
    "using FerriteGmsh \n",
    "using OrdinaryDiffEq\n",
    "using DifferentialEquations\n",
    "using Plots \n",
    "using WriteVTK"
   ]
  },
  {
   "cell_type": "markdown",
   "id": "4218ba48-f412-4f54-9d4d-6b3d2babc21e",
   "metadata": {},
   "source": [
    "## Section 1: Introduction \n",
    "\n",
    "Simulates Stokes flow in a cylindrical cavity. Code copied from [Ferrite.jl Stokes Flow Tutorial](https://ferrite-fem.github.io/Ferrite.jl/stable/tutorials/stokes-flow/). Requires more details."
   ]
  },
  {
   "cell_type": "markdown",
   "id": "422845cf-32a7-4720-8ac5-ee5ff2c85e08",
   "metadata": {},
   "source": [
    "## Section 2: Read 2D Mesh From External Input Mesh File  "
   ]
  },
  {
   "cell_type": "code",
   "execution_count": 22,
   "id": "7cf68409-48ef-4084-bd80-3f20c04c4aa6",
   "metadata": {},
   "outputs": [
    {
     "name": "stdout",
     "output_type": "stream",
     "text": [
      "Info    : Reading 'mesh_cylinder.msh'...\n",
      "Info    : 9 entities\n",
      "Info    : 17208 nodes\n",
      "Info    : 97679 elements\n",
      "Info    : Done reading 'mesh_cylinder.msh'\n"
     ]
    },
    {
     "data": {
      "text/plain": [
       "Grid{3, Tetrahedron, Float64} with 81637 Tetrahedron cells and 17208 nodes"
      ]
     },
     "execution_count": 22,
     "metadata": {},
     "output_type": "execute_result"
    }
   ],
   "source": [
    "# grid = togrid(\"mesh_cavity_coarse.msh\")\n",
    "grid = togrid(\"mesh_cylinder.msh\")"
   ]
  },
  {
   "cell_type": "code",
   "execution_count": 23,
   "id": "85a00226-2992-4ce2-b448-a13dba072611",
   "metadata": {},
   "outputs": [],
   "source": [
    "#getfacetset(grid,\"wall\")"
   ]
  },
  {
   "cell_type": "code",
   "execution_count": 24,
   "id": "5913516b-1ade-4823-b68c-88cb570c7ceb",
   "metadata": {},
   "outputs": [],
   "source": [
    "#getcellset(grid,\"volume\")"
   ]
  },
  {
   "cell_type": "markdown",
   "id": "a3f83798-1884-40a2-93af-d715dfb36028",
   "metadata": {},
   "source": [
    "## Section 3: Functions for Assembly of Stiffness Matrix and Load Vector \n",
    "Modified tutorial by removing the volumetric source term. "
   ]
  },
  {
   "cell_type": "code",
   "execution_count": 25,
   "id": "a1f0bb88-e897-4b4d-b5bc-4abd90c61db9",
   "metadata": {},
   "outputs": [],
   "source": [
    "#getfacetset(grid,\"lid\")"
   ]
  },
  {
   "cell_type": "code",
   "execution_count": 26,
   "id": "7bd34e12-70ec-410c-9399-446ce6e5b4b3",
   "metadata": {},
   "outputs": [
    {
     "data": {
      "text/plain": [
       "setup_mean_constraint (generic function with 1 method)"
      ]
     },
     "execution_count": 26,
     "metadata": {},
     "output_type": "execute_result"
    }
   ],
   "source": [
    "function lid_rotation(X, t)\n",
    "    # velocity in cylindrical coordinates (0, om, 0)\n",
    "    x, y, z = X\n",
    "    r = sqrt(x^2+y^2)\n",
    "    th = atan(y,x) \n",
    "    vmax = 20. \n",
    "    return Vec{3}((-r*vmax*sin(th), r*vmax*cos(th), 0.0)) \n",
    "end\n",
    "\n",
    "function assemble_system!(K, f, dh, cvu, cvp,viscosity)\n",
    "    assembler = start_assemble(K, f)\n",
    "    ke = zeros(ndofs_per_cell(dh), ndofs_per_cell(dh))\n",
    "    fe = zeros(ndofs_per_cell(dh))\n",
    "    range_u = dof_range(dh, :u)\n",
    "    ndofs_u = length(range_u)\n",
    "    range_p = dof_range(dh, :p)\n",
    "    ndofs_p = length(range_p)\n",
    "    ϕᵤ = Vector{Vec{3,Float64}}(undef, ndofs_u)\n",
    "    ∇ϕᵤ = Vector{Tensor{2,3,Float64,9}}(undef, ndofs_u) # 3-by-3 tensor \n",
    "    divϕᵤ = Vector{Float64}(undef, ndofs_u)\n",
    "    ϕₚ = Vector{Float64}(undef, ndofs_p)\n",
    "    for cell in CellIterator(dh)\n",
    "        Ferrite.reinit!(cvu, cell)\n",
    "        Ferrite.reinit!(cvp, cell)\n",
    "        ke .= 0\n",
    "        fe .= 0\n",
    "        for qp in 1:getnquadpoints(cvu)\n",
    "            dΩ = getdetJdV(cvu, qp)\n",
    "            for i in 1:ndofs_u\n",
    "                ϕᵤ[i] = shape_value(cvu, qp, i)\n",
    "                ∇ϕᵤ[i] = shape_gradient(cvu, qp, i)\n",
    "                divϕᵤ[i] = shape_divergence(cvu, qp, i)\n",
    "            end\n",
    "            for i in 1:ndofs_p\n",
    "                ϕₚ[i] = shape_value(cvp, qp, i)\n",
    "            end\n",
    "            # u-u\n",
    "            for (i, I) in pairs(range_u), (j, J) in pairs(range_u)\n",
    "                ke[I, J] += viscosity*( ∇ϕᵤ[i] ⊡ ∇ϕᵤ[j] ) * dΩ\n",
    "            end\n",
    "            # u-p\n",
    "            for (i, I) in pairs(range_u), (j, J) in pairs(range_p)\n",
    "                ke[I, J] += ( -divϕᵤ[i] * ϕₚ[j] ) * dΩ\n",
    "            end\n",
    "            # p-u\n",
    "            for (i, I) in pairs(range_p), (j, J) in pairs(range_u)\n",
    "                ke[I, J] += ( -divϕᵤ[j] * ϕₚ[i] ) * dΩ\n",
    "            end\n",
    "            # rhs\n",
    "            for (i, I) in pairs(range_u)\n",
    "                x = spatial_coordinate(cvu, qp, getcoordinates(cell))\n",
    "                # b = exp(-100 * norm(x - Vec{2}((0.75, 0.1)))^2)\n",
    "                bv = Vec{3}((0.0, 0.0,0.0))\n",
    "                fe[I] += (ϕᵤ[i] ⋅ bv) * dΩ\n",
    "            end\n",
    "        end\n",
    "        assemble!(assembler, celldofs(cell), ke, fe)\n",
    "    end\n",
    "    return K, f\n",
    "end\n",
    "\n",
    "function setup_mean_constraint(dh, fvp)\n",
    "    assembler = Ferrite.COOAssembler()\n",
    "    # All external boundaries\n",
    "    set = union(\n",
    "        getfacetset(dh.grid, \"lid\"),\n",
    "        getfacetset(dh.grid, \"wall\"),\n",
    "    )\n",
    "    # Allocate buffers\n",
    "    range_p = dof_range(dh, :p)\n",
    "    element_dofs = zeros(Int, ndofs_per_cell(dh))\n",
    "    element_dofs_p = view(element_dofs, range_p)\n",
    "    element_coords = zeros(Vec{3}, 4) # assuming mesh with tetrahedra only \n",
    "    Ce = zeros(1, length(range_p)) # Local constraint matrix (only 1 row)\n",
    "    # Loop over all the boundaries\n",
    "    for (ci, fi) in set\n",
    "        Ce .= 0\n",
    "        getcoordinates!(element_coords, dh.grid, ci)\n",
    "        Ferrite.reinit!(fvp, element_coords, fi)\n",
    "        celldofs!(element_dofs, dh, ci)\n",
    "        for qp in 1:getnquadpoints(fvp)\n",
    "            dΓ = getdetJdV(fvp, qp)\n",
    "            for i in 1:getnbasefunctions(fvp)\n",
    "                Ce[1, i] += shape_value(fvp, qp, i) * dΓ\n",
    "            end\n",
    "        end\n",
    "        # Assemble to row 1\n",
    "        assemble!(assembler, [1], element_dofs_p, Ce)\n",
    "    end\n",
    "    C, _ = finish_assemble(assembler)\n",
    "    # Create an AffineConstraint from the C-matrix\n",
    "    _, J, V = findnz(C)\n",
    "    _, constrained_dof_idx = findmax(abs2, V)\n",
    "    constrained_dof = J[constrained_dof_idx]\n",
    "    V ./= V[constrained_dof_idx]\n",
    "    mean_value_constraint = AffineConstraint(\n",
    "        constrained_dof,\n",
    "        Pair{Int,Float64}[J[i] => -V[i] for i in 1:length(J) if J[i] != constrained_dof],\n",
    "        0.0,\n",
    "    )\n",
    "\n",
    "    return mean_value_constraint\n",
    "end"
   ]
  },
  {
   "cell_type": "markdown",
   "id": "1fd72509-068c-4750-b73c-664ced7d0a7c",
   "metadata": {},
   "source": [
    "## Section 4: Set-up, Assembly and Solve"
   ]
  },
  {
   "cell_type": "code",
   "execution_count": 32,
   "id": "6ef7829f-a67a-4111-bf86-287b3397f1cd",
   "metadata": {},
   "outputs": [],
   "source": [
    "dim = 3 \n",
    "degree = 1\n",
    "\n",
    "# Interpolations\n",
    "ipu = Lagrange{RefTetrahedron,degree+1}() ^ 3 # quadratic for 3 velocity components \n",
    "ipp = Lagrange{RefTetrahedron,degree}()       # linear for scalar pressure \n",
    "\n",
    "# Dofs\n",
    "dh = DofHandler(grid)\n",
    "add!(dh, :u, ipu)\n",
    "add!(dh, :p, ipp)\n",
    "close!(dh)\n",
    "\n",
    "# FE values\n",
    "qr = QuadratureRule{RefTetrahedron}(2)\n",
    "ipg = Lagrange{RefTetrahedron,1}() # linear geometric interpolation\n",
    "cvu = CellValues(qr, ipu, ipg) # observe three arguments - need to document whether this is required \n",
    "cvp = CellValues(qr, ipp, ipg) # observe three arguments - need to document whether this is required\n",
    "qr_facet = FacetQuadratureRule{RefTetrahedron}(2)\n",
    "fvp = FacetValues(qr_facet, ipp, ipg) # required for pressure constraint \n",
    "\n",
    "# Boundary conditions \n",
    "ch = ConstraintHandler(dh)\n",
    "\n",
    "# Boundary conditions part (1/3): Dirichlet BC for the velocity at the top lid \n",
    "lid = getfacetset(dh.grid, \"lid\")\n",
    "dbc1 = Dirichlet(:u, lid, (x, t) -> lid_rotation(x,t) )\n",
    "add!(ch, dbc1)\n",
    "\n",
    "# Boundary conditions part (2/3): no slip boundary condition - impose velocity to be zero vector on the walls   \n",
    "wall = getfacetset(dh.grid, \"wall\")\n",
    "dbc2 = Dirichlet(:u, wall, (x, t) -> [0, 0, 0])\n",
    "add!(ch, dbc2)\n",
    "    \n",
    "# Boundary conditions part (3/3): apply pressure constraint\n",
    "# mean_value_constraint = setup_mean_constraint(dh, fvp)\n",
    "# add!(ch, mean_value_constraint)\n",
    "dbc3 = Dirichlet(:p, lid, (x, t) -> 0)\n",
    "add!(ch, dbc3)\n",
    "    \n",
    "# Finalize\n",
    "close!(ch)\n",
    "\n",
    "# Global tangent matrix and rhs\n",
    "coupling = [true true; true false] # no coupling between pressure test/trial functions\n",
    "K = allocate_matrix(dh, ch; coupling=coupling)\n",
    "f = zeros(ndofs(dh))\n",
    "\n",
    "# Assemble system\n",
    "viscosity = 1e3\n",
    "assemble_system!(K, f, dh, cvu, cvp, viscosity); "
   ]
  },
  {
   "cell_type": "code",
   "execution_count": 33,
   "id": "83de962c-9d24-4479-b359-a2a422798bce",
   "metadata": {},
   "outputs": [],
   "source": [
    "# Apply boundary conditions and solve\n",
    "apply!(K, f, ch)\n",
    "u = K \\ f;"
   ]
  },
  {
   "cell_type": "markdown",
   "id": "b43bedb3-f2a4-4831-b885-509fd96e26d5",
   "metadata": {},
   "source": [
    "## Section 5: Post-Processing"
   ]
  },
  {
   "cell_type": "code",
   "execution_count": 34,
   "id": "2af6c615-5068-418f-8000-60bd232e250d",
   "metadata": {},
   "outputs": [
    {
     "data": {
      "text/plain": [
       "VTKGridFile for the closed file \"stokes_cylinder.vtu\"."
      ]
     },
     "execution_count": 34,
     "metadata": {},
     "output_type": "execute_result"
    }
   ],
   "source": [
    "VTKGridFile(\"stokes_cylinder\", dh) do vtk\n",
    "    write_solution(vtk, dh, u)\n",
    "    Ferrite.write_constraints(vtk, ch)\n",
    "end"
   ]
  },
  {
   "cell_type": "code",
   "execution_count": null,
   "id": "a1be7169-9438-42e6-a5d8-89f6c60a930c",
   "metadata": {},
   "outputs": [],
   "source": []
  },
  {
   "cell_type": "code",
   "execution_count": null,
   "id": "15a86304-7df5-430a-adbb-c2cd7e197d28",
   "metadata": {},
   "outputs": [],
   "source": []
  },
  {
   "cell_type": "code",
   "execution_count": null,
   "id": "dec7873f-7f8e-43b9-96cb-abd4c222d4ff",
   "metadata": {},
   "outputs": [],
   "source": []
  }
 ],
 "metadata": {
  "kernelspec": {
   "display_name": "Julia 1.9.1",
   "language": "julia",
   "name": "julia-1.9"
  },
  "language_info": {
   "file_extension": ".jl",
   "mimetype": "application/julia",
   "name": "julia",
   "version": "1.9.1"
  }
 },
 "nbformat": 4,
 "nbformat_minor": 5
}
