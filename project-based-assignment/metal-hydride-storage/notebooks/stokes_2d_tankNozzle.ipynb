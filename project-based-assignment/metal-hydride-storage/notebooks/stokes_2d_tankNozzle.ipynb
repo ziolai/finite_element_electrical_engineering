{
 "cells": [
  {
   "cell_type": "markdown",
   "id": "e52a9a18-dc8a-4a76-899e-b494d36b8972",
   "metadata": {},
   "source": [
    "# FEM Simulatons of Stationary Stokes Flow on Tank with Nozzle Geometry      "
   ]
  },
  {
   "cell_type": "markdown",
   "id": "cc016459-7d67-4e1d-89e6-2eacf462ad8d",
   "metadata": {},
   "source": [
    "##  Import Packages"
   ]
  },
  {
   "cell_type": "code",
   "execution_count": 1,
   "id": "c3f62844-3286-488a-9283-8a737d235584",
   "metadata": {},
   "outputs": [],
   "source": [
    "using BlockArrays\n",
    "using LinearAlgebra\n",
    "using UnPack\n",
    "using LinearSolve \n",
    "using SparseArrays\n",
    "using Ferrite\n",
    "using FerriteGmsh \n",
    "using OrdinaryDiffEq\n",
    "using DifferentialEquations\n",
    "using Plots \n",
    "using WriteVTK"
   ]
  },
  {
   "cell_type": "markdown",
   "id": "4218ba48-f412-4f54-9d4d-6b3d2babc21e",
   "metadata": {},
   "source": [
    "## Section 1: Introduction \n",
    "\n",
    "More later."
   ]
  },
  {
   "cell_type": "markdown",
   "id": "422845cf-32a7-4720-8ac5-ee5ff2c85e08",
   "metadata": {},
   "source": [
    "## Section 2: Read 2D Mesh from File and Perform Elementary Checks"
   ]
  },
  {
   "cell_type": "code",
   "execution_count": 2,
   "id": "7cf68409-48ef-4084-bd80-3f20c04c4aa6",
   "metadata": {},
   "outputs": [
    {
     "name": "stdout",
     "output_type": "stream",
     "text": [
      "Info    : Reading 'tankAndNozzle.msh'...\n",
      "Info    : 17 entities\n",
      "Info    : 14713 nodes\n",
      "Info    : 29424 elements\n",
      "Info    : Done reading 'tankAndNozzle.msh'\n"
     ]
    }
   ],
   "source": [
    "grid  = togrid(\"tankAndNozzle.msh\")\n",
    "inlet = getfacetset(grid, \"inlet\")\n",
    "wall  = getfacetset(grid, \"wall\");"
   ]
  },
  {
   "cell_type": "code",
   "execution_count": 3,
   "id": "22fc0bcc-7f0c-4f31-8316-7f1127dbc092",
   "metadata": {},
   "outputs": [],
   "source": [
    "getfacetset(grid,\"wall\")\n",
    "getfacetset(grid,\"inlet\");"
   ]
  },
  {
   "cell_type": "markdown",
   "id": "26d91a48-1de1-4785-b972-a732d814726f",
   "metadata": {},
   "source": [
    "## Section 3: Functions for Assembly of Stiffness Matrix and Load Vector \n",
    "Note: wish to modified Ferrire tutorial code by removing the volumetric source term. "
   ]
  },
  {
   "cell_type": "code",
   "execution_count": 4,
   "id": "2e1c229e-f31b-4c3f-ac3b-0832eb465432",
   "metadata": {},
   "outputs": [
    {
     "data": {
      "text/plain": [
       "setup_mean_constraint (generic function with 1 method)"
      ]
     },
     "execution_count": 4,
     "metadata": {},
     "output_type": "execute_result"
    }
   ],
   "source": [
    "function assemble_system!(K, f, dh, cvu, cvp,viscosity)\n",
    "    assembler = start_assemble(K, f)\n",
    "    ke = zeros(ndofs_per_cell(dh), ndofs_per_cell(dh))\n",
    "    fe = zeros(ndofs_per_cell(dh))\n",
    "    range_u = dof_range(dh, :u)\n",
    "    ndofs_u = length(range_u)\n",
    "    range_p = dof_range(dh, :p)\n",
    "    ndofs_p = length(range_p)\n",
    "    ϕᵤ = Vector{Vec{2,Float64}}(undef, ndofs_u)\n",
    "    ∇ϕᵤ = Vector{Tensor{2,2,Float64,4}}(undef, ndofs_u) # 3-by-3 tensor \n",
    "    divϕᵤ = Vector{Float64}(undef, ndofs_u)\n",
    "    ϕₚ = Vector{Float64}(undef, ndofs_p)\n",
    "    for cell in CellIterator(dh)\n",
    "        Ferrite.reinit!(cvu, cell)\n",
    "        Ferrite.reinit!(cvp, cell)\n",
    "        ke .= 0\n",
    "        fe .= 0\n",
    "        for qp in 1:getnquadpoints(cvu)\n",
    "            dΩ = getdetJdV(cvu, qp)\n",
    "            for i in 1:ndofs_u\n",
    "                ϕᵤ[i] = shape_value(cvu, qp, i)\n",
    "                ∇ϕᵤ[i] = shape_gradient(cvu, qp, i)\n",
    "                divϕᵤ[i] = shape_divergence(cvu, qp, i)\n",
    "            end\n",
    "            for i in 1:ndofs_p\n",
    "                ϕₚ[i] = shape_value(cvp, qp, i)\n",
    "            end\n",
    "            # u-u\n",
    "            for (i, I) in pairs(range_u), (j, J) in pairs(range_u)\n",
    "                ke[I, J] += viscosity*( ∇ϕᵤ[i] ⊡ ∇ϕᵤ[j] ) * dΩ\n",
    "            end\n",
    "            # u-p\n",
    "            for (i, I) in pairs(range_u), (j, J) in pairs(range_p)\n",
    "                ke[I, J] += ( -divϕᵤ[i] * ϕₚ[j] ) * dΩ\n",
    "            end\n",
    "            # p-u\n",
    "            for (i, I) in pairs(range_p), (j, J) in pairs(range_u)\n",
    "                ke[I, J] += ( -divϕᵤ[j] * ϕₚ[i] ) * dΩ\n",
    "            end\n",
    "            # rhs\n",
    "            for (i, I) in pairs(range_u)\n",
    "                x = spatial_coordinate(cvu, qp, getcoordinates(cell))\n",
    "                # b = exp(-100 * norm(x - Vec{2}((0.75, 0.1)))^2)\n",
    "                bv = Vec{2}((0.0, 0.0))\n",
    "                fe[I] += (ϕᵤ[i] ⋅ bv) * dΩ\n",
    "            end\n",
    "        end\n",
    "        assemble!(assembler, celldofs(cell), ke, fe)\n",
    "    end\n",
    "    return K, f\n",
    "end\n",
    "\n",
    "function setup_mean_constraint(dh, fvp)\n",
    "    assembler = Ferrite.COOAssembler()\n",
    "    # All external boundaries\n",
    "    set = union(\n",
    "            getfacetset(dh.grid, \"wall\"),\n",
    "            getfacetset(dh.grid, \"inlet\"),\n",
    "    )\n",
    "    # Allocate buffers\n",
    "    range_p = dof_range(dh, :p)\n",
    "    element_dofs = zeros(Int, ndofs_per_cell(dh))\n",
    "    element_dofs_p = view(element_dofs, range_p)\n",
    "    element_coords = zeros(Vec{2}, 3) # assuming 2D mesh with triangles only \n",
    "    Ce = zeros(1, length(range_p)) # Local constraint matrix (only 1 row)\n",
    "    # Loop over all the boundaries\n",
    "    for (ci, fi) in set\n",
    "        Ce .= 0\n",
    "        getcoordinates!(element_coords, dh.grid, ci)\n",
    "        Ferrite.reinit!(fvp, element_coords, fi)\n",
    "        celldofs!(element_dofs, dh, ci)\n",
    "        for qp in 1:getnquadpoints(fvp)\n",
    "            dΓ = getdetJdV(fvp, qp)\n",
    "            for i in 1:getnbasefunctions(fvp)\n",
    "                Ce[1, i] += shape_value(fvp, qp, i) * dΓ\n",
    "            end\n",
    "        end\n",
    "        # Assemble to row 1\n",
    "        assemble!(assembler, [1], element_dofs_p, Ce)\n",
    "    end\n",
    "    C, _ = finish_assemble(assembler)\n",
    "    # Create an AffineConstraint from the C-matrix\n",
    "    _, J, V = findnz(C)\n",
    "    _, constrained_dof_idx = findmax(abs2, V)\n",
    "    constrained_dof = J[constrained_dof_idx]\n",
    "    V ./= V[constrained_dof_idx]\n",
    "    mean_value_constraint = AffineConstraint(\n",
    "        constrained_dof,\n",
    "        Pair{Int,Float64}[J[i] => -V[i] for i in 1:length(J) if J[i] != constrained_dof],\n",
    "        0.0,\n",
    "    )\n",
    "\n",
    "    return mean_value_constraint\n",
    "end"
   ]
  },
  {
   "cell_type": "markdown",
   "id": "48de8fb8-2e51-4183-b24b-44a2d0545786",
   "metadata": {},
   "source": [
    "## Section 4: Set-up, Assembly and Solve"
   ]
  },
  {
   "cell_type": "code",
   "execution_count": 5,
   "id": "3e08a7bf-4f0b-46ca-a3fa-45af6fd76770",
   "metadata": {},
   "outputs": [
    {
     "data": {
      "text/plain": [
       "VTKGridFile for the closed file \"stokes_2d_tankNozzle.vtu\"."
      ]
     },
     "execution_count": 5,
     "metadata": {},
     "output_type": "execute_result"
    }
   ],
   "source": [
    "dim = 2 \n",
    "degree = 1\n",
    "\n",
    "# Interpolations\n",
    "ipu = Lagrange{RefTriangle,degree+1}() ^ dim # quadratic for 2 velocity components \n",
    "ipp = Lagrange{RefTriangle,degree}()         # linear for scalar pressure \n",
    "\n",
    "# FE values\n",
    "qr = QuadratureRule{RefTriangle}(2*degree+1)\n",
    "ipg = Lagrange{RefTriangle,1}() # linear geometric interpolation\n",
    "cvu = CellValues(qr, ipu, ipg) # observe three arguments - need to document whether this is required \n",
    "cvp = CellValues(qr, ipp, ipg) # observe three arguments - need to document whether this is required\n",
    "qr_facet = FacetQuadratureRule{RefTriangle}(2)\n",
    "fvp = FacetValues(qr_facet, ipp, ipg) # facet values for pressure  \n",
    "\n",
    "# Dofs\n",
    "dh = DofHandler(grid)\n",
    "add!(dh, :u, ipu)\n",
    "add!(dh, :p, ipp)\n",
    "close!(dh) \n",
    "\n",
    "# Boundary conditions \n",
    "ch = ConstraintHandler(dh)\n",
    "\n",
    "vmax = 10. \n",
    "Rin = 0.02 \n",
    "parabolic_inflow_profile(x) = Vec((4*vmax*(Rin+x[2])*(Rin-x[2]), 0.0))\n",
    "\n",
    "# Boundary conditions part (1/3): Dirichlet BC for the velocity at the top lid \n",
    "inlet = getfacetset(dh.grid, \"inlet\")\n",
    "dbc1 = Dirichlet(:u, inlet, x ->  parabolic_inflow_profile(x) )\n",
    "add!(ch, dbc1)\n",
    "\n",
    "# Boundary conditions part (2/3): no slip boundary condition - impose velocity to be zero vector on the walls   \n",
    "wall = union(\n",
    "    getfacetset(grid, \"wall\"),\n",
    ")\n",
    "dbc2 = Dirichlet(:u, wall, (x, t) -> [0, 0])\n",
    "add!(ch, dbc2)\n",
    "    \n",
    "# Boundary conditions part (3/3): apply pressure constraint\n",
    "mean_value_constraint = setup_mean_constraint(dh, fvp)\n",
    "add!(ch, mean_value_constraint)\n",
    "#dbc3 = Dirichlet(:p, inlet, (x, t) -> 0)\n",
    "#add!(ch, dbc3)\n",
    "    \n",
    "# Finalize\n",
    "close!(ch)\n",
    "\n",
    " # Global tangent matrix and rhs\n",
    "coupling = [true true; true false] # no coupling between pressure test/trial functions\n",
    "K = allocate_matrix(dh, ch; coupling=coupling)\n",
    "f = zeros(ndofs(dh))\n",
    "\n",
    "# Assemble system\n",
    "viscosity = 1e3\n",
    "assemble_system!(K, f, dh, cvu, cvp, viscosity); \n",
    "\n",
    "# Apply boundary conditions and solve\n",
    "apply!(K, f, ch)\n",
    "u = K \\ f;\n",
    "\n",
    "VTKGridFile(\"stokes_2d_tankNozzle\", dh) do vtk\n",
    "    write_solution(vtk, dh, u)\n",
    "    Ferrite.write_constraints(vtk, ch)\n",
    "end"
   ]
  },
  {
   "cell_type": "markdown",
   "id": "98a2e3f6-1f39-4eea-9266-ee8ae1bdcaf5",
   "metadata": {},
   "source": [
    "## Section 5: Transport of Passive Tracer"
   ]
  },
  {
   "cell_type": "code",
   "execution_count": 56,
   "id": "db56d4f1-4261-44f2-a8f2-1347cf944b2a",
   "metadata": {},
   "outputs": [
    {
     "data": {
      "text/plain": [
       "assemble_flow_system! (generic function with 1 method)"
      ]
     },
     "execution_count": 56,
     "metadata": {},
     "output_type": "execute_result"
    }
   ],
   "source": [
    "function assemble_flow_system!(K, dh, cvu, cvp,viscosity)\n",
    "    assembler = start_assemble(K)\n",
    "    range_u = dof_range(dh, :u)\n",
    "    ndofs_u = length(range_u)\n",
    "    range_p = dof_range(dh, :p)\n",
    "    ndofs_p = length(range_p)\n",
    "    ndofs_up = ndofs_u + ndofs_p \n",
    "    range_up = [range_u; range_p]\n",
    "    ke = zeros(ndofs_up, ndofs_up)\n",
    "    ϕᵤ = Vector{Vec{2,Float64}}(undef, ndofs_u)\n",
    "    ∇ϕᵤ = Vector{Tensor{2,2,Float64,4}}(undef, ndofs_u) # 2-by-2 tensor \n",
    "    divϕᵤ = Vector{Float64}(undef, ndofs_u)\n",
    "    ϕₚ = Vector{Float64}(undef, ndofs_p)\n",
    "    for cell in CellIterator(dh)\n",
    "        Ferrite.reinit!(cvu, cell)\n",
    "        Ferrite.reinit!(cvp, cell)\n",
    "        ke .= 0\n",
    "        for qp in 1:getnquadpoints(cvu)\n",
    "            dΩ = getdetJdV(cvu, qp)\n",
    "            for i in 1:ndofs_u\n",
    "                ϕᵤ[i] = shape_value(cvu, qp, i)\n",
    "                ∇ϕᵤ[i] = shape_gradient(cvu, qp, i)\n",
    "                divϕᵤ[i] = shape_divergence(cvu, qp, i)\n",
    "            end\n",
    "            for i in 1:ndofs_p\n",
    "                ϕₚ[i] = shape_value(cvp, qp, i)\n",
    "            end\n",
    "            # u-u\n",
    "            for (i, I) in pairs(range_u), (j, J) in pairs(range_u)\n",
    "                ke[I, J] += viscosity*( ∇ϕᵤ[i] ⊡ ∇ϕᵤ[j] ) * dΩ\n",
    "            end\n",
    "            # u-p\n",
    "            for (i, I) in pairs(range_u), (j, J) in pairs(range_p)\n",
    "                ke[I, J] += ( -divϕᵤ[i] * ϕₚ[j] ) * dΩ\n",
    "            end\n",
    "            # p-u\n",
    "            for (i, I) in pairs(range_p), (j, J) in pairs(range_u)\n",
    "                ke[I, J] += ( -divϕᵤ[j] * ϕₚ[i] ) * dΩ\n",
    "            end\n",
    "        end\n",
    "        assemble!(assembler, celldofs(cell), ke)\n",
    "    end\n",
    "    return K\n",
    "end"
   ]
  },
  {
   "cell_type": "code",
   "execution_count": 6,
   "id": "41d5047b-8ad1-4245-b2a1-602b63e4c637",
   "metadata": {},
   "outputs": [
    {
     "data": {
      "text/plain": [
       "assemble_chemistry_system! (generic function with 1 method)"
      ]
     },
     "execution_count": 6,
     "metadata": {},
     "output_type": "execute_result"
    }
   ],
   "source": [
    "function assemble_chemistry_system!(K, dh_u12, cellvalues_u1, cellvalues_u2, dh_up, cvu, pres_vel)\n",
    "    assembler = start_assemble(K)\n",
    "    range_u1  = dof_range(dh_u12, :u1)\n",
    "    ndofs_u1  = length(range_u1)\n",
    "    range_u2  = dof_range(dh_u12, :u2)\n",
    "    ndofs_u2  = length(range_u2)\n",
    "    ndofs_u12 = ndofs_u1 + ndofs_u2  \n",
    "    range_u12 = [range_u1; range_u2]\n",
    "    Ke = zeros(ndofs_u12, ndofs_u12)\n",
    "    u1  = Vector{Float64}(undef, ndofs_u1)\n",
    "    ∇u1 = Vector{Vec{2,Float64}}(undef, ndofs_u1)\n",
    "    u2  = Vector{Float64}(undef, ndofs_u2)\n",
    "    ∇u2 = Vector{Vec{2,Float64}}(undef, ndofs_u2)\n",
    "    range_u = dof_range(dh_up, :u)\n",
    "    \n",
    "    for (cell_num, cell) in enumerate(CellIterator(dh_u12))\n",
    "\n",
    "        fill!(Ke, 0)\n",
    "\n",
    "        Ferrite.reinit!(cellvalues_u1, cell)\n",
    "\n",
    "        vel_dof_loc = pres_vel[celldofs(dh_up,cell_num)[range_u]]\n",
    "        \n",
    "        for qp in 1:getnquadpoints(cellvalues_u1)\n",
    "            dΩ = getdetJdV(cellvalues_u1, qp)\n",
    "            for i in 1:ndofs_u1\n",
    "                u1[i] = shape_value(cellvalues_u1, qp, i)\n",
    "                ∇u1[i] = shape_gradient(cellvalues_u1, qp, i)\n",
    "            end\n",
    "            # u2-u2\n",
    "            vel_loc = function_value(cvu, qp, vel_dof_loc)\n",
    "            # velocity_loc = [1,0]\n",
    "            for (i, I) in pairs(range_u2), (j, J) in pairs(range_u2) \n",
    "                Ke[I, J] += ( ∇u1[i] ⋅ ∇u1[j] - (vel_loc ⋅ ∇u1[i] )* u1[j]) * dΩ\n",
    "            end\n",
    "        end \n",
    "            \n",
    "        assemble!(assembler, celldofs(cell), Ke)\n",
    "    end\n",
    "    return K     \n",
    "end"
   ]
  },
  {
   "cell_type": "code",
   "execution_count": 91,
   "id": "8fe2a26a-3b19-4ce8-b739-f0c84afe4e89",
   "metadata": {},
   "outputs": [],
   "source": [
    "dim = 2 \n",
    "degree = 1\n",
    "\n",
    "# Interpolations\n",
    "ipu = Lagrange{RefTriangle,degree+1}() ^ dim # quadratic for 2 velocity components \n",
    "ipp = Lagrange{RefTriangle,degree}()         # linear for scalar pressure \n",
    "ipu1 = Lagrange{RefTriangle,degree+1}()      # linear for scalar pressure \n",
    "ipu2 = Lagrange{RefTriangle,degree+1}()      # linear for scalar pressure \n",
    "\n",
    "# FE values\n",
    "qr = QuadratureRule{RefTriangle}(2*degree+1)\n",
    "ipg = Lagrange{RefTriangle,1}() # linear geometric interpolation\n",
    "cvu = CellValues(qr, ipu, ipg) # observe three arguments - need to document whether this is required \n",
    "cvp = CellValues(qr, ipp, ipg) # observe three arguments - need to document whether this is required\n",
    "cvu1 = CellValues(qr, ipu1, ipg) \n",
    "cvu2 = CellValues(qr, ipu2, ipg)\n",
    "qr_facet = FacetQuadratureRule{RefTriangle}(2)\n",
    "fvp = FacetValues(qr_facet, ipp, ipg) # required for pressure constraint \n",
    "\n",
    "# Dofs for pressure - velocity\n",
    "dh_up = DofHandler(grid)\n",
    "add!(dh_up, :u, ipu)\n",
    "add!(dh_up, :p, ipp)\n",
    "close!(dh_up) \n",
    "\n",
    "# Dofs for chemistry \n",
    "dh_u12 = DofHandler(grid)\n",
    "add!(dh_u12, :u1, ipu1)\n",
    "add!(dh_u12, :u2, ipu2)\n",
    "close!(dh_u12)\n",
    "\n",
    "# Boundary conditions for pressure - velocity\n",
    "ch_up = ConstraintHandler(dh_up)\n",
    "\n",
    "vmax = 10. \n",
    "Rin = 0.02 \n",
    "parabolic_inflow_profile(x) = Vec((4*vmax*(Rin+x[2])*(Rin-x[2]), 0.0))\n",
    "\n",
    "# Boundary conditions part (1/3): Dirichlet BC for the velocity at the top lid \n",
    "dbc1 = Dirichlet(:u, inlet, x ->  parabolic_inflow_profile(x) )\n",
    "add!(ch_up, dbc1)\n",
    "\n",
    "# Boundary conditions part (2/3): no slip boundary condition - impose velocity to be zero vector on the walls   \n",
    "dbc2 = Dirichlet(:u, wall, (x, t) -> [0, 0])\n",
    "add!(ch_up, dbc2)\n",
    "    \n",
    "# Boundary conditions part (3/3): apply pressure constraint\n",
    "mean_value_constraint = setup_mean_constraint(dh_up, fvp)\n",
    "add!(ch_up, mean_value_constraint)\n",
    "#dbc3 = Dirichlet(:p, inlet, (x, t) -> 0)\n",
    "#add!(ch, dbc3)\n",
    "\n",
    "# Finalize\n",
    "close!(ch_up)\n",
    "\n",
    "# Boundary conditions for pressure - velocity\n",
    "ch_u12 = ConstraintHandler(dh_u12)\n",
    "\n",
    "rho_saturated = .5\n",
    "dbc4 = Dirichlet(:u1, inlet, x -> rho_saturated)\n",
    "add!(ch_u12, dbc4)\n",
    "\n",
    "dbc5 = Dirichlet(:u2, inlet, x -> rho_saturated)\n",
    "add!(ch_u12, dbc5)\n",
    "\n",
    "# Finalize\n",
    "close!(ch_u12)\n",
    "\n",
    "dof_range_u1 = dof_range(dh_u12, :u1)\n",
    "dof_range_u2 = dof_range(dh_u12, :u2)\n",
    "range_u1 =  unique!(reduce(vcat, [ celldofs(dh_u12, ce)[dof_range_u1] for ce in 1:length(grid.cells) ]))\n",
    "range_u2 =  unique!(reduce(vcat, [ celldofs(dh_u12, ce)[dof_range_u2] for ce in 1:length(grid.cells) ]))\n",
    "\n",
    "# Global tangent matrix and rhs for pressure - velocity \n",
    "coupling = [true true; true false] \n",
    "K_up = allocate_matrix(dh_up, ch_up; coupling=coupling)\n",
    "f_up = zeros(ndofs(dh_up)); \n",
    "\n",
    "# Global tangent matrix and rhs for chemistry \n",
    "coupling = [true false; false true] \n",
    "K_u12 = allocate_matrix(dh_u12, ch_u12; coupling=coupling)\n",
    "f_u12 = zeros(ndofs(dh_u12));"
   ]
  },
  {
   "cell_type": "code",
   "execution_count": 92,
   "id": "7245f60b-30e5-4ba7-b5d0-30cef89b63df",
   "metadata": {},
   "outputs": [
    {
     "data": {
      "text/plain": [
       "VTKGridFile for the closed file \"stokes_2d_channel.vtu\"."
      ]
     },
     "execution_count": 92,
     "metadata": {},
     "output_type": "execute_result"
    }
   ],
   "source": [
    "# Assemble system\n",
    "viscosity = 1e3\n",
    "assemble_flow_system!(K_up, dh_up, cvu, cvp, viscosity) \n",
    "\n",
    "# Apply boundary conditions and solve\n",
    "apply!(K_up, f_up, ch_up)\n",
    "\n",
    "u_up = K_up \\ f_up  \n",
    "\n",
    "assemble_chemistry_system!(K_u12, dh_u12, cvu1, cvu2, dh_up, cvu, u_up)\n",
    "K_u12[range_u1, range_u1] .= I(length(range_u1)) \n",
    "f_u12[range_u1] .= rho_saturated \n",
    "f_u12[range_u2] .= 0.\n",
    "apply!(K_u12, f_u12, ch_u12)\n",
    "\n",
    "u_u12 = (K_u12) \\ f_u12 \n",
    "\n",
    "VTKGridFile(\"stokes_2d_channel\", dh_up) do vtk\n",
    "    write_solution(vtk, dh_up, u_up)\n",
    "    write_solution(vtk, dh_u12, u_u12)\n",
    "    # Ferrite.write_constraints(vtk, ch)\n",
    "end"
   ]
  },
  {
   "cell_type": "code",
   "execution_count": null,
   "id": "c4bd19e9-3be5-4a89-b697-8723ef62f709",
   "metadata": {},
   "outputs": [],
   "source": []
  },
  {
   "cell_type": "code",
   "execution_count": null,
   "id": "9548cedf-bc04-4494-b023-38de9bb5f1df",
   "metadata": {},
   "outputs": [],
   "source": []
  }
 ],
 "metadata": {
  "kernelspec": {
   "display_name": "Julia 1.9.1",
   "language": "julia",
   "name": "julia-1.9"
  },
  "language_info": {
   "file_extension": ".jl",
   "mimetype": "application/julia",
   "name": "julia",
   "version": "1.9.1"
  }
 },
 "nbformat": 4,
 "nbformat_minor": 5
}
