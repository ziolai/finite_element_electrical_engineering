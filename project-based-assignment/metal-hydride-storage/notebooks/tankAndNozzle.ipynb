{
 "cells": [
  {
   "cell_type": "markdown",
   "id": "b27449a5",
   "metadata": {},
   "source": [
    "# Geometry and Mesh for Tank plus Nozzle \n",
    "\n",
    "To do: \n",
    "1. generate quadrilateral mesh more adapted to the flow; \n",
    "1. revolve mesh around axis to create a 3D wedge mesh; "
   ]
  },
  {
   "cell_type": "markdown",
   "id": "946f36f5",
   "metadata": {},
   "source": [
    "## Import Packages"
   ]
  },
  {
   "cell_type": "code",
   "execution_count": 1,
   "id": "fc3e2e96",
   "metadata": {},
   "outputs": [],
   "source": [
    "try\n",
    "    using Gmsh: gmsh\n",
    "catch\n",
    "    using gmsh\n",
    "end "
   ]
  },
  {
   "cell_type": "markdown",
   "id": "e543e8d2-13aa-4e5a-827b-629bbcace360",
   "metadata": {},
   "source": [
    "## Section 1: Introduction \n",
    "\n",
    "More later. "
   ]
  },
  {
   "cell_type": "markdown",
   "id": "eb1b7a5e-e6a3-4413-964c-7f9dad0836f2",
   "metadata": {},
   "source": [
    "## Section 2: Both Lower and Upper Half of the Geometry"
   ]
  },
  {
   "cell_type": "code",
   "execution_count": null,
   "id": "2f51ff33-fe8d-44a9-a708-e1b46b2cfb20",
   "metadata": {},
   "outputs": [],
   "source": [
    "#..1/7: initialize gmsh \n",
    "gmsh.initialize()\n",
    "\n",
    "#..2/7: generate geometry \n",
    "gmsh.option.setNumber(\"General.Terminal\", 1)\n",
    "gmsh.model.add(\"square\")\n",
    "#..geomettry parameters \n",
    "L = 1. \n",
    "R = 0.1\n",
    "Lin = -0.1*L \n",
    "Rin = 0.2*R \n",
    "#..set mesh density parameter \n",
    "lc1 = .005\n",
    "lc2 = .02\n",
    "#..define four points via (x,y,z) coordinates \n",
    "p1 = gmsh.model.geo.addPoint(0, -R, 0, lc1, 1)\n",
    "p2 = gmsh.model.geo.addPoint(L, -R,  0, lc2, 2)\n",
    "p3 = gmsh.model.geo.addPoint(L, R, 0, lc2, 3)\n",
    "p4 = gmsh.model.geo.addPoint(0, R, 0, lc1, 4)\n",
    "p5 = gmsh.model.geo.addPoint(0, Rin,  0, lc1, 5)\n",
    "p6 = gmsh.model.geo.addPoint(Lin, Rin, 0, lc1, 6)\n",
    "p7 = gmsh.model.geo.addPoint(Lin, -Rin, 0, lc1, 7)\n",
    "p8 = gmsh.model.geo.addPoint(0, -Rin, 0, lc1, 8)\n",
    "#..define four edges by connecting point labels pairwise  \n",
    "l1 = gmsh.model.geo.addLine(1, 2, 1)\n",
    "l2 = gmsh.model.geo.addLine(2, 3, 2)\n",
    "l3 = gmsh.model.geo.addLine(3, 4, 3)\n",
    "l4 = gmsh.model.geo.addLine(4, 5, 4)\n",
    "l5 = gmsh.model.geo.addLine(5, 6, 5)\n",
    "l6 = gmsh.model.geo.addLine(6, 7, 6)\n",
    "l7 = gmsh.model.geo.addLine(7, 8, 7)\n",
    "l8 = gmsh.model.geo.addLine(8, 1, 8)\n",
    "#..define curved loop by connecting four edge labels  \n",
    "loop = gmsh.model.geo.addCurveLoop([1, 2, 3, 4, 5, 6, 7, 8], 1)\n",
    "#..define surface by curved loop \n",
    "surf = gmsh.model.geo.addPlaneSurface([1], 1)\n",
    "\n",
    "#..3/7: synchronize the CAD model \n",
    "gmsh.model.geo.synchronize()\n",
    "\n",
    "#..4/7: assign physical groups\n",
    "gmsh.model.addPhysicalGroup(1, [l1, l2, l3, l4, l5, l7, l8], -1, \"wall\")\n",
    "gmsh.model.addPhysicalGroup(1, [l6], -1, \"inlet\")\n",
    "gmsh.model.addPhysicalGroup(2, [surf], -1, \"omega\")\n",
    "\n",
    "#..5/7: generate two-dimensional mesh \n",
    "gmsh.option.setNumber(\"Mesh.Algorithm\", 8) # generates mesh of quadrilaterals \n",
    "gmsh.model.mesh.generate(2)\n",
    "\n",
    "#..6/7: write mesh to mesh and visualize the mesh  \n",
    "#..if true, write mesh to file for further processing \n",
    "if (true) gmsh.write(\"tankAndNozzle.msh\") end \n",
    "#..if true, visualize mesh through the GUI \n",
    "if (true) gmsh.fltk.run() end \n",
    "\n",
    "#..7/7: finalize gmsh \n",
    "gmsh.finalize()"
   ]
  },
  {
   "cell_type": "markdown",
   "id": "c40af402-1e4f-4f3d-b7a8-1c95468304c3",
   "metadata": {},
   "source": [
    "## Section 3: Upper Half of the Geometry "
   ]
  },
  {
   "cell_type": "code",
   "execution_count": 2,
   "id": "51778b47",
   "metadata": {},
   "outputs": [
    {
     "name": "stdout",
     "output_type": "stream",
     "text": [
      "Info    : Meshing 1D...\n",
      "Info    : [  0%] Meshing curve 1 (Line)\n",
      "Info    : [ 20%] Meshing curve 2 (Line)\n",
      "Info    : [ 30%] Meshing curve 3 (Line)\n",
      "Info    : [ 50%] Meshing curve 4 (Line)\n",
      "Info    : [ 60%] Meshing curve 5 (Line)\n",
      "Info    : [ 80%] Meshing curve 6 (Line)\n",
      "Info    : [ 90%] Meshing curve 7 (Line)\n",
      "Info    : Done meshing 1D (Wall 0.00262963s, CPU 0.002232s)\n",
      "Info    : Meshing 2D...\n",
      "Info    : Meshing surface 1 (Plane, Frontal-Delaunay for Quads)\n",
      "Info    : Done meshing 2D (Wall 0.0137324s, CPU 0.011177s)\n",
      "Info    : 627 nodes 1259 elements\n",
      "Info    : Writing 'tankAndNozzle.msh'...\n",
      "Info    : Done writing 'tankAndNozzle.msh'\n",
      "-------------------------------------------------------\n",
      "Version       : 4.13.1\n",
      "License       : GNU General Public License\n",
      "Build OS      : MacOSX-sdk\n",
      "Build date    : 19700101\n",
      "Build host    : amdci7.julia.csail.mit.edu\n",
      "Build options : 64Bit ALGLIB[contrib] ANN[contrib] Bamg Blossom Cairo DIntegration Dlopen DomHex Eigen[contrib] Fltk GMP Gmm[contrib] Hxt Jpeg Kbipack MathEx[contrib] Mesh Metis[contrib] Mmg Mpeg Netgen Nii2mesh ONELAB ONELABMetamodel OpenCASCADE OpenCASCADE-CAF OpenGL OpenMP OptHom Parser Plugins Png Post QuadMeshingTools QuadTri Solver TetGen/BR TinyXML2[contrib] Untangle Voro++[contrib] WinslowUntangler Zlib\n",
      "FLTK version  : 1.3.8\n",
      "OCC version   : 7.7.2\n",
      "Packaged by   : root\n",
      "Web site      : https://gmsh.info\n",
      "Issue tracker : https://gitlab.onelab.info/gmsh/gmsh/issues\n",
      "-------------------------------------------------------\n"
     ]
    },
    {
     "name": "stderr",
     "output_type": "stream",
     "text": [
      "2025-05-05 10:16:22.590 julia[32675:3031997] +[IMKClient subclass]: chose IMKClient_Modern\n",
      "2025-05-05 10:16:22.590 julia[32675:3031997] +[IMKInputSession subclass]: chose IMKInputSession_Modern\n"
     ]
    }
   ],
   "source": [
    "#..1/7: initialize gmsh \n",
    "gmsh.initialize()\n",
    "\n",
    "#..2/7: generate geometry \n",
    "gmsh.option.setNumber(\"General.Terminal\", 1)\n",
    "gmsh.model.add(\"square\")\n",
    "#..geomettry parameters \n",
    "L = 1. \n",
    "R = 0.1\n",
    "Lin = -0.1*L \n",
    "Rin = 0.3*R \n",
    "#..set mesh density parameter \n",
    "lc1 = .005\n",
    "lc2 = .05 \n",
    "#..define four points via (x,y,z) coordinates \n",
    "p1 = gmsh.model.geo.addPoint(0, 0, 0, lc1, 1)\n",
    "p2 = gmsh.model.geo.addPoint(L, 0,  0, lc2, 2)\n",
    "p3 = gmsh.model.geo.addPoint(L, R, 0, lc2, 3)\n",
    "p4 = gmsh.model.geo.addPoint(0, R, 0, lc1, 4)\n",
    "p5 = gmsh.model.geo.addPoint(0, Rin,  0, lc1, 5)\n",
    "p6 = gmsh.model.geo.addPoint(Lin, Rin, 0, lc1, 6)\n",
    "p7 = gmsh.model.geo.addPoint(Lin, 0, 0, lc1, 7)\n",
    "#..define four edges by connecting point labels pairwise  \n",
    "l1 = gmsh.model.geo.addLine(1, 2, 1)\n",
    "l2 = gmsh.model.geo.addLine(2, 3, 2)\n",
    "l3 = gmsh.model.geo.addLine(3, 4, 3)\n",
    "l4 = gmsh.model.geo.addLine(4, 5, 4)\n",
    "l5 = gmsh.model.geo.addLine(5, 6, 5)\n",
    "l6 = gmsh.model.geo.addLine(6, 7, 6)\n",
    "l7 = gmsh.model.geo.addLine(7, 1, 7)\n",
    "#..define curved loop by connecting four edge labels  \n",
    "loop = gmsh.model.geo.addCurveLoop([1, 2, 3, 4, 5, 6, 7], 1)\n",
    "#..define surface by curved loop \n",
    "surf = gmsh.model.geo.addPlaneSurface([1], 1)\n",
    "\n",
    "#..3/7: synchronize the CAD model \n",
    "gmsh.model.geo.synchronize()\n",
    "\n",
    "#..4/7: assign physical groups\n",
    "gmsh.model.addPhysicalGroup(1, [l1, l7], -1, \"axis\")\n",
    "gmsh.model.addPhysicalGroup(1, [l2], -1, \"outlet\")\n",
    "gmsh.model.addPhysicalGroup(1, [l3,l4,l5], -1, \"wall\")\n",
    "gmsh.model.addPhysicalGroup(1, [l6], -1, \"inlet\")\n",
    "gmsh.model.addPhysicalGroup(2, [surf], -1, \"omega\")\n",
    "\n",
    "#..5/7: generate two-dimensional mesh \n",
    "gmsh.option.setNumber(\"Mesh.Algorithm\", 8) # generates mesh of quadrilaterals \n",
    "gmsh.model.mesh.generate(2)\n",
    "\n",
    "#..6/7: write mesh to mesh and visualize the mesh  \n",
    "#..if true, write mesh to file for further processing \n",
    "if (true) gmsh.write(\"tankAndNozzle.msh\") end \n",
    "#..if true, visualize mesh through the GUI \n",
    "if (true) gmsh.fltk.run() end \n",
    "\n",
    "#..7/7: finalize gmsh \n",
    "gmsh.finalize()"
   ]
  },
  {
   "cell_type": "code",
   "execution_count": null,
   "id": "791a69e6",
   "metadata": {},
   "outputs": [],
   "source": []
  }
 ],
 "metadata": {
  "kernelspec": {
   "display_name": "Julia 1.9.1",
   "language": "julia",
   "name": "julia-1.9"
  },
  "language_info": {
   "file_extension": ".jl",
   "mimetype": "application/julia",
   "name": "julia",
   "version": "1.9.1"
  }
 },
 "nbformat": 4,
 "nbformat_minor": 5
}
