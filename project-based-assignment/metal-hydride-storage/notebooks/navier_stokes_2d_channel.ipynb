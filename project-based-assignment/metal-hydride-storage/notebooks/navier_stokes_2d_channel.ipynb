{
 "cells": [
  {
   "cell_type": "markdown",
   "id": "e52a9a18-dc8a-4a76-899e-b494d36b8972",
   "metadata": {},
   "source": [
    "# 2D Transient Navier-Stokes Flow on Open/Closed Channel\n",
    "\n",
    "<b>Problem to Solve</b> \n",
    "\n",
    "<b>Goals</b>\n",
    "\n",
    "<b>Questions</b>\n",
    "\n",
    "<b>Remarks</b>\n",
    "1. pressure boundary conditions needs be modified to take closed boundary into account;\n",
    "2. function ferrite_limiter!(): in order to obtain correct higher order convergence for time-dependent Dirichlet conditions, one needs to ensure that all the internal buffers are also correctly set at all times. The limiter helps guarantees this (as the time integrators do also other stuff than just calling your right-hand side). See e.g. [rosenbrock_perform_step.jl](https://github.com/SciML/OrdinaryDiffEq.jl/blob/7a4a5fb6d95f78e973b3d7bb41861058d5b00881/lib/OrdinaryDiffEqRosenbrock/src/rosenbrock_perform_step.jl#L1386-L1388)\n",
    "3. Rodas5P() failed: results in MethodError: no method matching Rodas5P(; autodiff::Bool, step_limiter!::typeof(ferrite_limiter!))"
   ]
  },
  {
   "cell_type": "code",
   "execution_count": 1,
   "id": "d5d0bee7-7a20-4706-ae3f-adcdcc8d7480",
   "metadata": {},
   "outputs": [],
   "source": [
    "#?Rodas5P()"
   ]
  },
  {
   "cell_type": "markdown",
   "id": "d1418de5-2ae8-4e98-8752-760223ebecad",
   "metadata": {},
   "source": [
    "### Unknown Stiffness Problems\n",
    "\n",
    "When the stiffness of the problem is unknown, it is recommended you use a stiffness detection and auto-switching algorithm. These methods are multi-paradigm and allow for efficient solution of both stiff and non-stiff problems. The cost for auto-switching is very minimal, but the choices are restrained. They are a good go-to method when applicable.\n",
    "\n",
    "For default tolerances, AutoTsit5(Rosenbrock23()) is a good choice. For lower tolerances, using AutoVern7 or AutoVern9 with Rodas4, KenCarp4, or Rodas5P can all be good choices depending on the problem. For very large systems (>1000 ODEs?), consider using lsoda."
   ]
  },
  {
   "cell_type": "markdown",
   "id": "cc016459-7d67-4e1d-89e6-2eacf462ad8d",
   "metadata": {},
   "source": [
    "##  Import Packages"
   ]
  },
  {
   "cell_type": "code",
   "execution_count": 3,
   "id": "c3f62844-3286-488a-9283-8a737d235584",
   "metadata": {},
   "outputs": [],
   "source": [
    "using BlockArrays\n",
    "using LinearAlgebra\n",
    "using UnPack\n",
    "using LinearSolve \n",
    "using SparseArrays\n",
    "using Ferrite\n",
    "using FerriteGmsh \n",
    "using OrdinaryDiffEq\n",
    "using DifferentialEquations\n",
    "using Plots \n",
    "using WriteVTK"
   ]
  },
  {
   "cell_type": "markdown",
   "id": "4218ba48-f412-4f54-9d4d-6b3d2babc21e",
   "metadata": {},
   "source": [
    "## Section 1: Introduction \n",
    "\n",
    "More later."
   ]
  },
  {
   "cell_type": "markdown",
   "id": "ace94351-5585-4d2d-ab9b-2199e5fd4e6f",
   "metadata": {},
   "source": [
    "## Section 2: Definition of Structs "
   ]
  },
  {
   "cell_type": "code",
   "execution_count": 4,
   "id": "e16ede77-c244-4ab0-9c62-6b9c0b8daa75",
   "metadata": {},
   "outputs": [],
   "source": [
    "#..pass data to RHS of time integration \n",
    "struct RHSparams\n",
    "    K::SparseMatrixCSC\n",
    "    ch::ConstraintHandler\n",
    "    dh::DofHandler\n",
    "    cellvalues_v::CellValues\n",
    "    u::Vector\n",
    "end\n",
    "\n",
    "struct FreeDofErrorNorm\n",
    "    ch::ConstraintHandler\n",
    "end"
   ]
  },
  {
   "cell_type": "markdown",
   "id": "b12b4815-26ef-487b-9ac5-7b1e9b2279fa",
   "metadata": {},
   "source": [
    "## Section 3: Generate 2D Mesh"
   ]
  },
  {
   "cell_type": "code",
   "execution_count": 5,
   "id": "7cf68409-48ef-4084-bd80-3f20c04c4aa6",
   "metadata": {},
   "outputs": [],
   "source": [
    "nelem = 10\n",
    "H = 0.25; L = 4*H \n",
    "nels  = (4*nelem, nelem) # number of elements in each spatial direction\n",
    "left  = Vec((0., 0.))    # start point for geometry \n",
    "right = Vec((L, H,)) # end point for geometry\n",
    "grid = generate_grid(Quadrilateral,nels,left,right);"
   ]
  },
  {
   "cell_type": "code",
   "execution_count": 6,
   "id": "22fc0bcc-7f0c-4f31-8316-7f1127dbc092",
   "metadata": {},
   "outputs": [
    {
     "data": {
      "text/plain": [
       "Grid{2, Quadrilateral, Float64} with 400 Quadrilateral cells and 451 nodes"
      ]
     },
     "execution_count": 6,
     "metadata": {},
     "output_type": "execute_result"
    }
   ],
   "source": [
    "addvertexset!(grid, \"corner\", (x) -> x[1] ≈ 0.0 && x[2] ≈ 0.0)"
   ]
  },
  {
   "cell_type": "markdown",
   "id": "4756ef6e-0fdc-4c7b-a8f0-694a0acd4c4d",
   "metadata": {},
   "source": [
    "## Section 4: Set-up "
   ]
  },
  {
   "cell_type": "code",
   "execution_count": 7,
   "id": "7546582d-bbd9-4d60-99ba-59e0e62db0a3",
   "metadata": {},
   "outputs": [],
   "source": [
    "#?Dirichlet"
   ]
  },
  {
   "cell_type": "code",
   "execution_count": 8,
   "id": "5972f6ca-fd7e-41e6-addd-c761e387a092",
   "metadata": {},
   "outputs": [],
   "source": [
    "#?update!"
   ]
  },
  {
   "cell_type": "code",
   "execution_count": 9,
   "id": "16d66b46-ee62-4524-b44a-35b2a81ea7a7",
   "metadata": {},
   "outputs": [],
   "source": [
    "dim = 2 \n",
    "\n",
    "ip_v = Lagrange{RefQuadrilateral, 2}()^dim\n",
    "qr = QuadratureRule{RefQuadrilateral}(4)\n",
    "cellvalues_v = CellValues(qr, ip_v);\n",
    "\n",
    "ip_p = Lagrange{RefQuadrilateral, 1}()\n",
    "cellvalues_p = CellValues(qr, ip_p);\n",
    "\n",
    "dh = DofHandler(grid)\n",
    "add!(dh, :v, ip_v)\n",
    "add!(dh, :p, ip_p)\n",
    "close!(dh);\n",
    "\n",
    "ch = ConstraintHandler(dh);\n",
    "\n",
    "#..wall boundary conditions.. \n",
    "nosplip_facet_names = [\"top\", \"bottom\"];\n",
    "∂Ω_noslip = union(getfacetset.((grid,), nosplip_facet_names)...);\n",
    "noslip_bc = Dirichlet(:v, ∂Ω_noslip, (x, t) -> Vec((0.0, 0.0)), [1, 2])\n",
    "add!(ch, noslip_bc);\n",
    "\n",
    "#..inflow boundary conditions..\n",
    "∂Ω_inflow = getfacetset(grid, \"left\");\n",
    "# vᵢₙ(t) = min(t * 1.5, 1.5) # ramped inflow velocity\n",
    "vᵢₙ(t) = 1.5 \n",
    "parabolic_inflow_profile(x,t) = Vec((1,0)) # Vec((4*vᵢₙ(t)*x[2]*(0.25-x[2]), 0.0))\n",
    "inflow_bc = Dirichlet(:v, ∂Ω_inflow, parabolic_inflow_profile, [1, 2])\n",
    "add!(ch, inflow_bc);\n",
    "\n",
    "#..outflow boundary conditions: do nothing \n",
    "∂Ω_free = getfacetset(grid, \"right\");\n",
    "\n",
    "close!(ch)\n",
    "update!(ch, 0.0);"
   ]
  },
  {
   "cell_type": "markdown",
   "id": "4fb5b192-cb27-4b50-b289-72369af76249",
   "metadata": {},
   "source": [
    "## Section 5: Functions for Mass and Stiffness Matrix Assembly and Other Functions   "
   ]
  },
  {
   "cell_type": "code",
   "execution_count": 10,
   "id": "61c99840-6465-49d2-a7d9-3bbf86db882d",
   "metadata": {},
   "outputs": [
    {
     "data": {
      "text/plain": [
       "navierstokes_jac! (generic function with 1 method)"
      ]
     },
     "execution_count": 10,
     "metadata": {},
     "output_type": "execute_result"
    }
   ],
   "source": [
    "function assemble_mass_matrix(cellvalues_v::CellValues, cellvalues_p::CellValues, M::SparseMatrixCSC, dh::DofHandler)\n",
    "    # Allocate a buffer for the local matrix and some helpers, together with the assembler.\n",
    "    n_basefuncs_v = getnbasefunctions(cellvalues_v)\n",
    "    n_basefuncs_p = getnbasefunctions(cellvalues_p)\n",
    "    n_basefuncs = n_basefuncs_v + n_basefuncs_p\n",
    "    v▄, p▄ = 1, 2\n",
    "    Mₑ = BlockedArray(zeros(n_basefuncs, n_basefuncs), [n_basefuncs_v, n_basefuncs_p], [n_basefuncs_v, n_basefuncs_p])\n",
    "\n",
    "    # It follows the assembly loop as explained in the basic tutorials.\n",
    "    mass_assembler = start_assemble(M)\n",
    "    for cell in CellIterator(dh)\n",
    "        fill!(Mₑ, 0)\n",
    "        Ferrite.reinit!(cellvalues_v, cell)\n",
    "\n",
    "        for q_point in 1:getnquadpoints(cellvalues_v)\n",
    "            dΩ = getdetJdV(cellvalues_v, q_point)\n",
    "            # Remember that we assemble a vector mass term, hence the dot product.\n",
    "            # There is only one time derivative on the left hand side, so only one mass block is non-zero.\n",
    "            for i in 1:n_basefuncs_v\n",
    "                φᵢ = shape_value(cellvalues_v, q_point, i)\n",
    "                for j in 1:n_basefuncs_v\n",
    "                    φⱼ = shape_value(cellvalues_v, q_point, j)\n",
    "                    Mₑ[BlockIndex((v▄, v▄), (i, j))] += φᵢ ⋅ φⱼ * dΩ\n",
    "                end\n",
    "            end\n",
    "        end\n",
    "        assemble!(mass_assembler, celldofs(cell), Mₑ)\n",
    "    end\n",
    "\n",
    "    return M\n",
    "end;\n",
    "\n",
    "function assemble_stokes_matrix(cellvalues_v::CellValues, cellvalues_p::CellValues, ν, K::SparseMatrixCSC, dh::DofHandler)\n",
    "    # Again, some buffers and helpers\n",
    "    n_basefuncs_v = getnbasefunctions(cellvalues_v)\n",
    "    n_basefuncs_p = getnbasefunctions(cellvalues_p)\n",
    "    n_basefuncs = n_basefuncs_v + n_basefuncs_p\n",
    "    v▄, p▄ = 1, 2\n",
    "    Kₑ = BlockedArray(zeros(n_basefuncs, n_basefuncs), [n_basefuncs_v, n_basefuncs_p], [n_basefuncs_v, n_basefuncs_p])\n",
    "\n",
    "    # Assembly loop\n",
    "    stiffness_assembler = start_assemble(K)\n",
    "    for cell in CellIterator(dh)\n",
    "        # Don't forget to initialize everything\n",
    "        fill!(Kₑ, 0)\n",
    "\n",
    "        Ferrite.reinit!(cellvalues_v, cell)\n",
    "        Ferrite.reinit!(cellvalues_p, cell)\n",
    "\n",
    "        for q_point in 1:getnquadpoints(cellvalues_v)\n",
    "            dΩ = getdetJdV(cellvalues_v, q_point)\n",
    "\n",
    "            for i in 1:n_basefuncs_v\n",
    "                ∇φᵢ = shape_gradient(cellvalues_v, q_point, i)\n",
    "                for j in 1:n_basefuncs_v\n",
    "                    ∇φⱼ = shape_gradient(cellvalues_v, q_point, j)\n",
    "                    Kₑ[BlockIndex((v▄, v▄), (i, j))] -= ν * ∇φᵢ ⊡ ∇φⱼ * dΩ\n",
    "                end\n",
    "            end\n",
    "\n",
    "            for j in 1:n_basefuncs_p\n",
    "                ψ = shape_value(cellvalues_p, q_point, j)\n",
    "                for i in 1:n_basefuncs_v\n",
    "                    divφ = shape_divergence(cellvalues_v, q_point, i)\n",
    "                    Kₑ[BlockIndex((v▄, p▄), (i, j))] += (divφ * ψ) * dΩ\n",
    "                    Kₑ[BlockIndex((p▄, v▄), (j, i))] += (ψ * divφ) * dΩ\n",
    "                end\n",
    "            end\n",
    "        end\n",
    "\n",
    "        # Assemble `Kₑ` into the Stokes matrix `K`.\n",
    "        assemble!(stiffness_assembler, celldofs(cell), Kₑ)\n",
    "    end\n",
    "    return K\n",
    "end\n",
    "\n",
    "function ferrite_limiter!(u, _, p, t)\n",
    "    update!(p.ch, t)\n",
    "    return apply!(u, p.ch)\n",
    "end\n",
    "\n",
    "function navierstokes_rhs_element!(dvₑ, vₑ, cellvalues_v)\n",
    "    n_basefuncs = getnbasefunctions(cellvalues_v)\n",
    "    for q_point in 1:getnquadpoints(cellvalues_v)\n",
    "        dΩ = getdetJdV(cellvalues_v, q_point)\n",
    "        ∇v = function_gradient(cellvalues_v, q_point, vₑ)\n",
    "        v = function_value(cellvalues_v, q_point, vₑ)\n",
    "        for j in 1:n_basefuncs\n",
    "            φⱼ = shape_value(cellvalues_v, q_point, j)\n",
    "\n",
    "            dvₑ[j] -= v ⋅ ∇v' ⋅ φⱼ * dΩ\n",
    "        end\n",
    "    end\n",
    "    return\n",
    "end\n",
    "\n",
    "function navierstokes!(du, u_uc, p::RHSparams, t)\n",
    "\n",
    "    @unpack K, ch, dh, cellvalues_v, u = p\n",
    "\n",
    "    u .= u_uc\n",
    "    update!(ch, t)\n",
    "    apply!(u, ch)\n",
    "\n",
    "    # Linear contribution (Stokes operator)\n",
    "    mul!(du, K, u) # du .= K * u\n",
    "\n",
    "    # nonlinear contribution\n",
    "    v_range = dof_range(dh, :v)\n",
    "    n_basefuncs = getnbasefunctions(cellvalues_v)\n",
    "    vₑ = zeros(n_basefuncs)\n",
    "    duₑ = zeros(n_basefuncs)\n",
    "    for cell in CellIterator(dh)\n",
    "        Ferrite.reinit!(cellvalues_v, cell)\n",
    "        v_celldofs = @view celldofs(cell)[v_range]\n",
    "        vₑ .= @views u[v_celldofs]\n",
    "        fill!(duₑ, 0.0)\n",
    "        navierstokes_rhs_element!(duₑ, vₑ, cellvalues_v)\n",
    "        assemble!(du, v_celldofs, duₑ)\n",
    "    end\n",
    "    return\n",
    "end;\n",
    "\n",
    "function navierstokes_jac_element!(Jₑ, vₑ, cellvalues_v)\n",
    "    n_basefuncs = getnbasefunctions(cellvalues_v)\n",
    "    for q_point in 1:getnquadpoints(cellvalues_v)\n",
    "        dΩ = getdetJdV(cellvalues_v, q_point)\n",
    "        ∇v = function_gradient(cellvalues_v, q_point, vₑ)\n",
    "        v = function_value(cellvalues_v, q_point, vₑ)\n",
    "        for j in 1:n_basefuncs\n",
    "            φⱼ = shape_value(cellvalues_v, q_point, j)\n",
    "\n",
    "            for i in 1:n_basefuncs\n",
    "                φᵢ = shape_value(cellvalues_v, q_point, i)\n",
    "                ∇φᵢ = shape_gradient(cellvalues_v, q_point, i)\n",
    "                Jₑ[j, i] -= (φᵢ ⋅ ∇v' + v ⋅ ∇φᵢ') ⋅ φⱼ * dΩ\n",
    "            end\n",
    "        end\n",
    "    end\n",
    "    return\n",
    "end\n",
    "\n",
    "function navierstokes_jac!(J, u_uc, p, t)\n",
    "\n",
    "    @unpack K, ch, dh, cellvalues_v, u = p\n",
    "\n",
    "    u .= u_uc\n",
    "    update!(ch, t)\n",
    "    apply!(u, ch)\n",
    "\n",
    "    # Linear contribution (Stokes operator)\n",
    "    # Here we assume that J has exactly the same structure as K by construction\n",
    "    nonzeros(J) .= nonzeros(K)\n",
    "\n",
    "    assembler = start_assemble(J; fillzero = false)\n",
    "\n",
    "    # Assemble variation of the nonlinear term\n",
    "    n_basefuncs = getnbasefunctions(cellvalues_v)\n",
    "    Jₑ = zeros(n_basefuncs, n_basefuncs)\n",
    "    vₑ = zeros(n_basefuncs)\n",
    "    v_range = dof_range(dh, :v)\n",
    "    for cell in CellIterator(dh)\n",
    "        Ferrite.reinit!(cellvalues_v, cell)\n",
    "        v_celldofs = @view celldofs(cell)[v_range]\n",
    "\n",
    "        vₑ .= @views u[v_celldofs]\n",
    "        fill!(Jₑ, 0.0)\n",
    "        navierstokes_jac_element!(Jₑ, vₑ, cellvalues_v)\n",
    "        assemble!(assembler, v_celldofs, Jₑ)\n",
    "    end\n",
    "\n",
    "    return apply!(J, ch)\n",
    "end"
   ]
  },
  {
   "cell_type": "markdown",
   "id": "093a3344-4d56-43bb-a52f-5c3a8936e4c6",
   "metadata": {},
   "source": [
    "## Section 6: Define Initial Conditions  "
   ]
  },
  {
   "cell_type": "code",
   "execution_count": 11,
   "id": "8711f8dd-0a05-4a85-9d5c-028ff032e1fe",
   "metadata": {},
   "outputs": [
    {
     "data": {
      "text/plain": [
       "VTKGridFile for the closed file \"init-channel-2d.vtu\"."
      ]
     },
     "execution_count": 11,
     "metadata": {},
     "output_type": "execute_result"
    }
   ],
   "source": [
    "K = allocate_matrix(dh);\n",
    "viscosity = 1e3\n",
    "K = assemble_stokes_matrix(cellvalues_v, cellvalues_p, viscosity, K, dh);\n",
    "\n",
    "f = zeros(ndofs(dh))\n",
    "update!(ch, 0.)\n",
    "apply!(K, f, ch)\n",
    "uinit = K \\ f;\n",
    "\n",
    "VTKGridFile(\"init-channel-2d\", dh) do vtk\n",
    "    write_solution(vtk, dh, uinit)\n",
    "    Ferrite.write_constraints(vtk, ch)\n",
    "end"
   ]
  },
  {
   "cell_type": "markdown",
   "id": "51b189a6-fd77-4168-bc44-16f178f460fb",
   "metadata": {},
   "source": [
    "## Section 7: Perform Naive Time Integration "
   ]
  },
  {
   "cell_type": "code",
   "execution_count": 12,
   "id": "6816abe7-90c5-4389-94a8-6ab4cbb67583",
   "metadata": {},
   "outputs": [
    {
     "data": {
      "text/plain": [
       "\u001b[38;2;86;182;194mODEProblem\u001b[0m with uType \u001b[38;2;86;182;194mVector{Float64}\u001b[0m and tType \u001b[38;2;86;182;194mFloat64\u001b[0m. In-place: \u001b[38;2;86;182;194mtrue\u001b[0m\n",
       "timespan: (0.0, 6.0)\n",
       "u0: 3853-element Vector{Float64}:\n",
       "    1.0\n",
       "    0.0\n",
       "    0.0\n",
       "    0.0\n",
       "    1.0218754940492467\n",
       "    0.2963794342268647\n",
       "    1.0\n",
       "    0.0\n",
       "    0.0\n",
       "    0.0\n",
       "    0.820365789398192\n",
       "    0.105650285955465\n",
       "    0.998550999222628\n",
       "    ⋮\n",
       "    0.28499999999979775\n",
       "    4.4162532418469294e-14\n",
       " 4800.000000012827\n",
       "    0.0\n",
       "    0.0\n",
       "    0.2849999999999995\n",
       "    4.074151341209964e-14\n",
       "    0.0\n",
       "    0.0\n",
       "    0.2849999999999345\n",
       "    3.667589848814884e-14\n",
       "    7.019931370505487e-9"
      ]
     },
     "execution_count": 12,
     "metadata": {},
     "output_type": "execute_result"
    }
   ],
   "source": [
    "T = 6.0\n",
    "Δt₀ = 0.001\n",
    "Δt_save = 0.1\n",
    "\n",
    "M = allocate_matrix(dh);\n",
    "M = assemble_mass_matrix(cellvalues_v, cellvalues_p, M, dh);\n",
    "\n",
    "K = allocate_matrix(dh);\n",
    "viscosity = 1e3\n",
    "K = assemble_stokes_matrix(cellvalues_v, cellvalues_p, viscosity, K, dh);\n",
    "\n",
    "jac_sparsity = sparse(K);\n",
    "\n",
    "apply!(M, ch)\n",
    "\n",
    "p = RHSparams(K, ch, dh, cellvalues_v, copy(uinit))\n",
    "\n",
    "rhs = ODEFunction(navierstokes!, mass_matrix = M; jac = navierstokes_jac!, jac_prototype = jac_sparsity)\n",
    "problem = ODEProblem(rhs, uinit, (0.0, T), p);\n",
    "\n",
    "(fe_norm::FreeDofErrorNorm)(u::Union{AbstractFloat, Complex}, t) = DiffEqBase.ODE_DEFAULT_NORM(u, t)\n",
    "(fe_norm::FreeDofErrorNorm)(u::AbstractArray, t) = DiffEqBase.ODE_DEFAULT_NORM(u[fe_norm.ch.free_dofs], t)\n",
    "\n",
    "problem = ODEProblem(navierstokes!, uinit, (0.0,0.1), p);\n",
    "problem = ODEProblem(navierstokes!, uinit, (0.0,6.), p)\n",
    "# sol = solve(problem, ImplicitEuler())\n",
    "# sol = solve(problem, ImplicitEuler(autodiff=false)); "
   ]
  },
  {
   "cell_type": "code",
   "execution_count": 13,
   "id": "423f1b19-414a-4f5e-ab79-dedf9b331440",
   "metadata": {},
   "outputs": [
    {
     "ename": "LoadError",
     "evalue": "UndefVarError: `sol` not defined",
     "output_type": "error",
     "traceback": [
      "UndefVarError: `sol` not defined",
      "",
      "Stacktrace:",
      " [1] top-level scope",
      "   @ In[13]:1"
     ]
    }
   ],
   "source": [
    "p1 = plot(sol.t)\n",
    "p2 = bar(sol.t,sol.t[2:end]-sol.t[1:end-1])\n",
    "plot(p1,p2,layout=(1,2))"
   ]
  },
  {
   "cell_type": "markdown",
   "id": "78e89a79-56b8-4c4d-91ad-a188184363ee",
   "metadata": {},
   "source": [
    "## Section 8: Perform Advanced Time Integration and Post-Processing \n",
    "\n",
    "We removed the option <i>d_discontinuities</i>.\n",
    "\n",
    "We wish to store $u$ into a vector of vectors. "
   ]
  },
  {
   "cell_type": "code",
   "execution_count": 45,
   "id": "a9e756a7-4980-4653-8537-622a2212458d",
   "metadata": {},
   "outputs": [
    {
     "ename": "LoadError",
     "evalue": "TypeError: in Type, in parameter, expected Type, got a value of type Vector{Float64}",
     "output_type": "error",
     "traceback": [
      "TypeError: in Type, in parameter, expected Type, got a value of type Vector{Float64}",
      "",
      "Stacktrace:",
      " [1] top-level scope",
      "   @ In[45]:22"
     ]
    }
   ],
   "source": [
    "# timestepper = Rodas5P(autodiff = false, step_limiter! = ferrite_limiter!);\n",
    "# timestepper = AutoTsit5(Rosenbrock23())(autodiff = false, step_limiter! = ferrite_limiter!);\n",
    "# timestepper = AutoTsit5(autodiff = false, step_limiter! = ferrite_limiter!);\n",
    "\n",
    "#integrator = init(\n",
    "#    problem, timestepper; initializealg = NoInit(), dt = Δt₀,\n",
    "#    adaptive = true, abstol = 1.0e-4, reltol = 1.0e-5,\n",
    "#    progress = true, progress_steps = 1,\n",
    "#    verbose = true, internalnorm = FreeDofErrorNorm(ch), d_discontinuities = [1.0]\n",
    "#);\n",
    "\n",
    "timestepper = ImplicitEuler(autodiff=false)\n",
    "\n",
    "integrator = init(\n",
    "    problem, timestepper; dt = Δt₀,\n",
    "    adaptive = true, abstol = 1.0e-4, reltol = 1.0e-5,\n",
    "    progress = true, progress_steps = 1,\n",
    "    verbose = true, internalnorm = FreeDofErrorNorm(ch)\n",
    ");\n",
    "\n",
    "pvd = paraview_collection(\"channel-2d\")\n",
    "# uhist = Vector{Vector{Float64}(undef, ndofs(dh))}\n",
    "for (step, (u, t)) in enumerate(intervals(integrator))\n",
    "    display(t)\n",
    "    VTKGridFile(\"channel-2d-$step\", dh) do vtk\n",
    "        write_solution(vtk, dh, u)\n",
    "        pvd[t] = vtk\n",
    "    end\n",
    "    uhist[step] = u \n",
    "end\n",
    "vtk_save(pvd);"
   ]
  },
  {
   "cell_type": "code",
   "execution_count": 55,
   "id": "dfd1dc5e-4a84-4d9d-b090-1abc85a08c02",
   "metadata": {},
   "outputs": [
    {
     "ename": "LoadError",
     "evalue": "BoundsError: attempt to access 0-element Vector{Vector{Vector{Float64}}} at index [1]",
     "output_type": "error",
     "traceback": [
      "BoundsError: attempt to access 0-element Vector{Vector{Vector{Float64}}} at index [1]",
      "",
      "Stacktrace:",
      " [1] getindex(A::Vector{Vector{Vector{Float64}}}, i1::Int64)",
      "   @ Base ./essentials.jl:13",
      " [2] top-level scope",
      "   @ In[55]:2"
     ]
    }
   ],
   "source": [
    "uhist = Vector{Vector{Float64}}[]\n",
    "typeof(uhist[1])"
   ]
  },
  {
   "cell_type": "code",
   "execution_count": null,
   "id": "e08796e9-5fdd-4012-ad35-a1a6a8cacffe",
   "metadata": {},
   "outputs": [],
   "source": []
  }
 ],
 "metadata": {
  "kernelspec": {
   "display_name": "Julia 1.9.1",
   "language": "julia",
   "name": "julia-1.9"
  },
  "language_info": {
   "file_extension": ".jl",
   "mimetype": "application/julia",
   "name": "julia",
   "version": "1.9.1"
  }
 },
 "nbformat": 4,
 "nbformat_minor": 5
}
