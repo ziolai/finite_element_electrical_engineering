{
 "cells": [
  {
   "cell_type": "markdown",
   "id": "5df72b1a-c843-4971-ac59-373f8ccadcb7",
   "metadata": {},
   "source": [
    "# Future Plans "
   ]
  },
  {
   "cell_type": "markdown",
   "id": "05e43c72-0244-4e61-b512-c7447468cc3d",
   "metadata": {},
   "source": [
    "## Section 1: Expand Documentation of Previous Steps\n",
    "\n",
    "### Section 1.1: Analytical Solution for Stokes as a Reference \n",
    "\n",
    "1. Document further parabolic velocity profile as analytical solution for the Stokes equation;\n",
    "3. Discover what should happens in case of laminar Navier-Stokes for various Reynopld numbers;\n",
    "5. Discover what should happen in case of closed vessel instead of open channel;\n",
    "\n",
    "Assume Stokes flow on an open rectangular channel with ${\\mathbf v} = \\left(u(y), 0,0\\right)$ with $u(y)$ a parabolic inlet profile. Then ${\\mathbf v}$ is a closed-form solution provided a linearly decreasing velocity. Indeed, ${\\mathbf v}$ trivially satisfies the convervation of mass equation $\\nabla \\cdot {\\mathbf v} = 0$. \n",
    "\n",
    "### Section 1.2: Linear Algebra for the Pressure-Velocity Solve \n",
    "\n",
    "Replace sparse direct solver by preconditioner Krylov subspace solver. Preconditioning by Schur complemement. Pressure solve by algebraic multigrid.\n",
    "\n",
    "### Section 1.3: Time-Stepping for the Navier-Stokes Equations \n",
    "\n",
    "Singular mass matrix. "
   ]
  },
  {
   "cell_type": "markdown",
   "id": "4e31aabf-60a9-4f8b-93dc-5a2b162d939d",
   "metadata": {},
   "source": [
    "## Section 2: Laminar Flow through Porous Media Using Darcy Law \n",
    "\n",
    "1. Extend to laminar flow through porous media using Darcy flow. Extend equation of conservation of momentum with additional terms; \n",
    "2. Find reference solutions for open channel and closed vessel;\n",
    "3. Compare simulations with literature results;  "
   ]
  },
  {
   "cell_type": "markdown",
   "id": "f67ea894-af8e-4580-a699-ad6fe0b177bb",
   "metadata": {},
   "source": [
    "## Section 3: Total Pressure Inlet Condition \n",
    "\n",
    "Implement a total pressure inlet condition. This inlet condition replaces the velocity inlet condition currently being used. The [total pressure](https://en.wikipedia.org/wiki/Bernoulli%27s_principle#Simplified_form) $p_{tot}$ is defined as the sum of the static pressure $p_{stat}$ (the pressure solved for) and the dynamic pressure $p_{dyn} = p_{stat} + \\rho (u^2 + v^2 + w^2)$. \n",
    "\n",
    "For the implementation of total pressure inlet condition, we distinguish between the computed total pressure $p_{tot-comp}$ and the prescribed total pressure $p_{tot-pres}$. The former is a functional of the velocity components $u(x,y)$ and $v(x,y)$ and the static pressure $p_{stat}(x,y)$ that the code solves for. The latter is a a-priori given value. The residual in the total pressure on the inlet is then given by $R[u,v,p_{stat}] = p_{tot-comp} - p_{tot-pres}$. We wish to minimize the weighted square of the residual on the inlet, i.e., solve for $u(x,y)$ and $v(x,y)$ and $p_{stat}(x,y)$ such that \n",
    "\n",
    "$$\n",
    "\\int_{\\Gamma_{in}} R[u,v,p_{stat}]^2 \\phi_i(x,y) d\\gamma = 0 \\, . \n",
    "$$\n",
    "\n",
    "Implement using either the penalty or Nietzsche method. See [Example of the Nietzsche method in FENICS](https://jsdokken.com/dolfinx-tutorial/chapter1/nitsche.html). Example provided is a linear example. Needs to be extended to a non-linear case. \n",
    "\n",
    "Expected ingredients of the implementation: \n",
    "\n",
    "1. non-linear residual on the inlet boundary: \n",
    "2. Jacobian on the inlet boundary: \n",
    "3. time-stepping by ramping the total pressure: "
   ]
  },
  {
   "cell_type": "markdown",
   "id": "50585d78-aa9a-449a-b102-150850eb1370",
   "metadata": {},
   "source": [
    "## Section 4: Extend from Pressure-Velocity to Pressure-Velocity-Temperature \n",
    "\n",
    "### Section 1.4: Temperature as Passive Scalar \n",
    "\n",
    "Solve segregated first for flow, subsequently for temperature. Currently ongoing. \n",
    "\n",
    "### Section 2.4: One-Way Coupled Pressure-Velocity-Temperature Solve \n",
    "\n",
    "Solve coupled for flow and temperature. \n",
    "\n",
    "### Section 3.4: Two-Way Coupled Pressure-Velocity-Temperature Solve\n",
    "\n",
    "Using the [Boussinesq approximation](https://en.wikipedia.org/wiki/Boussinesq_approximation_(buoyancy)) as done in [IncompressibleNavierStokes.jl](https://agdestein.github.io/IncompressibleNavierStokes.jl/v3.0.0/)."
   ]
  },
  {
   "cell_type": "markdown",
   "id": "1d271475-de21-454c-bd69-cee43723d9a7",
   "metadata": {},
   "source": [
    "## Section 5: Variable H2-Gas Density \n",
    "\n",
    "Allow the density of hydrogen gas to change as a consequence of the reaction with the metal-organic-framework. \n",
    "\n",
    "[Example](https://docs.sciml.ai/MethodOfLines/stable/staggered/) of solving the Euler equations using staggered grids in [MethodofLines](https://docs.sciml.ai/MethodOfLines/stable/).  "
   ]
  },
  {
   "cell_type": "markdown",
   "id": "7c00b3e5-7a3f-46e9-9dde-23ef63d84df8",
   "metadata": {},
   "source": [
    "## Section 6: Extend to Wedge Geometry "
   ]
  },
  {
   "cell_type": "code",
   "execution_count": null,
   "id": "209d9cb4-fe65-4121-9518-7ee9f399e8a5",
   "metadata": {},
   "outputs": [],
   "source": []
  }
 ],
 "metadata": {
  "kernelspec": {
   "display_name": "Julia 1.10.9",
   "language": "julia",
   "name": "julia-1.10"
  },
  "language_info": {
   "file_extension": ".jl",
   "mimetype": "application/julia",
   "name": "julia",
   "version": "1.10.9"
  }
 },
 "nbformat": 4,
 "nbformat_minor": 5
}
