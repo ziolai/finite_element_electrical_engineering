{
 "cells": [
  {
   "cell_type": "markdown",
   "id": "57597831-c44a-411c-9c8f-3dbabed2cfe6",
   "metadata": {},
   "source": [
    "# Five Days Plan \n",
    "\n",
    "<b>Goals:</b>\n",
    "1. introduce Julia as instrument for instrument to solve problems of TNO The Hague. Matlab to be phased out. TNO further stranger for students;  \n",
    "2. reduce wall clock time for assembly by replacing a interpreted double loop (destination and source triangles) over all elements in the mesh from interpreted version by a compiled version; \n",
    "\n",
    "## Day 1: Interview - Refine Plan Below \n",
    "\n",
    "1. details function for first (inner) integral;\n",
    "2. agree on test data and test results for function for inner integral;\n",
    "3. agree on quadragture rules for prisms. Use product of quadrature on triangle times quadrature \n",
    "4. details assembly matrix and vector for reference element. Agree on test data and test reference results;\n",
    "5. details assembly matrix and vector for physical element. Agree on test data and test reference results;\n",
    "6. details triangular meshes to be used for assembly. Pass Matlab meshes to Julia? Agree on test data and test reference results;\n",
    "7. details assembly matrix and vector for entire mesh. Agree on test data and test reference results;\n",
    "\n",
    "## Day 2: Function for Analytical Expression of First (Inner) Integral \n",
    "\n",
    "Include testing. \n",
    "\n",
    "## Day 3: Matrix and Vector of Single Triangular Element \n",
    "\n",
    "Include testing. \n",
    "\n",
    "## Day 4: Matrix and Vector Assembly - Linear Solve - Post-Processing \n",
    "\n",
    "Include testing. \n",
    "\n",
    "## Day 5: Buffer "
   ]
  },
  {
   "cell_type": "code",
   "execution_count": null,
   "id": "9fc15f61-f8eb-4d2b-bfdc-27182c9b0c11",
   "metadata": {},
   "outputs": [],
   "source": []
  }
 ],
 "metadata": {
  "kernelspec": {
   "display_name": "Julia 1.12.1",
   "language": "julia",
   "name": "julia-1.12"
  },
  "language_info": {
   "file_extension": ".jl",
   "mimetype": "application/julia",
   "name": "julia",
   "version": "1.12.1"
  }
 },
 "nbformat": 4,
 "nbformat_minor": 5
}
