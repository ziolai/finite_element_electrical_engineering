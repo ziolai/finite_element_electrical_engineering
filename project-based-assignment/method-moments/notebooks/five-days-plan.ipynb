{
 "cells": [
  {
   "cell_type": "markdown",
   "id": "57597831-c44a-411c-9c8f-3dbabed2cfe6",
   "metadata": {},
   "source": [
    "# Five Days Plan \n",
    "\n",
    "<b>Goals:</b>\n",
    "1. introduce Julia as instrument to solve problems of TNO The Hague. Matlab to be phased out. TNO further stranger for students;  \n",
    "2. reduce wall clock time for assembly by replacing an interpreted double loop over all elements in the mesh (destination and source triangles) by a compiled version;\n",
    "3. parallel shared memory assembly;\n",
    "4. reduce the singularity of the seft-term using first integrate, then differentiate;\n",
    "\n",
    "<b>Links</b>\n",
    "1. [TaylorSeries.jl](https://juliadiff.org/TaylorSeries.jl/stable/\n",
    "\n",
    "## Day 1: Interview - Refine Plan Below \n",
    "\n",
    "1. details function for first (inner) integral;\n",
    "3. agree on test data (location where to evaluate functiob) and test results for function for inner integral;\n",
    "4. agree on quadrature rules for prisms. Current product of quadrature on triangle and interval is used. No information of logarithmic singularity on the edges of the prism is exploited; \n",
    "5. details assembly matrix and vector for reference element. Agree on test data and test reference results;\n",
    "6. details assembly matrix and vector for physical element. Agree on test data and test reference results;\n",
    "7. details triangular meshes to be used for assembly. Pass Matlab meshes to Julia? Agree on test data and test reference results;\n",
    "8. details assembly matrix and vector for entire mesh. Agree on test data and test reference results;\n",
    "9. overall pseudo-code of entire code; \n",
    "\n",
    "## Day 2: Function for Analytical Expression of First (Inner) Integral \n",
    "\n",
    "Include testing. \n",
    "\n",
    "## Day 3: Matrix and Vector of Single Triangular Element \n",
    "\n",
    "Include testing. \n",
    "\n",
    "## Day 4: Matrix and Vector Assembly - Linear Solve - Post-Processing \n",
    "\n",
    "Include testing. \n",
    "\n",
    "## Day 5: Buffer "
   ]
  },
  {
   "cell_type": "code",
   "execution_count": null,
   "id": "9fc15f61-f8eb-4d2b-bfdc-27182c9b0c11",
   "metadata": {},
   "outputs": [],
   "source": []
  }
 ],
 "metadata": {
  "kernelspec": {
   "display_name": "Julia 1.12.1",
   "language": "julia",
   "name": "julia-1.12"
  },
  "language_info": {
   "file_extension": ".jl",
   "mimetype": "application/julia",
   "name": "julia",
   "version": "1.12.1"
  }
 },
 "nbformat": 4,
 "nbformat_minor": 5
}
