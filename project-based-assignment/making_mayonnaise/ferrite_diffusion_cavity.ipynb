{
 "cells": [
  {
   "cell_type": "markdown",
   "id": "e52a9a18-dc8a-4a76-899e-b494d36b8972",
   "metadata": {},
   "source": [
    "# FEM Simulations of Diffusion in a Cylindrical Cavity\n",
    "\n",
    "Simulates scalar diffusion in a cylindrical cavity. Code copied from [Ferrite.jl Heat Transfer Tutorial](https://ferrite-fem.github.io/Ferrite.jl/stable/tutorials/heat_equation/). "
   ]
  },
  {
   "cell_type": "markdown",
   "id": "cc016459-7d67-4e1d-89e6-2eacf462ad8d",
   "metadata": {},
   "source": [
    "##  Import Packages"
   ]
  },
  {
   "cell_type": "code",
   "execution_count": 3,
   "id": "c3f62844-3286-488a-9283-8a737d235584",
   "metadata": {},
   "outputs": [],
   "source": [
    "using BlockArrays\n",
    "using LinearAlgebra\n",
    "using UnPack\n",
    "using LinearSolve \n",
    "using SparseArrays\n",
    "using Ferrite\n",
    "using FerriteGmsh \n",
    "using OrdinaryDiffEq\n",
    "using DifferentialEquations\n",
    "using Plots \n",
    "using WriteVTK"
   ]
  },
  {
   "cell_type": "markdown",
   "id": "4218ba48-f412-4f54-9d4d-6b3d2babc21e",
   "metadata": {},
   "source": [
    "## Section 1: Introduction \n",
    "\n",
    "Simulates scalar diffusion in a cylindrical cavity. Code copied from [Ferrite.jl Heat Transfer Tutorial](https://ferrite-fem.github.io/Ferrite.jl/stable/tutorials/heat_equation/). Requires more details."
   ]
  },
  {
   "cell_type": "markdown",
   "id": "422845cf-32a7-4720-8ac5-ee5ff2c85e08",
   "metadata": {},
   "source": [
    "## Section 2: Read 2D Mesh From External Input Mesh File  "
   ]
  },
  {
   "cell_type": "code",
   "execution_count": 9,
   "id": "7cf68409-48ef-4084-bd80-3f20c04c4aa6",
   "metadata": {},
   "outputs": [
    {
     "name": "stdout",
     "output_type": "stream",
     "text": [
      "Info    : Reading 'cylindrical_cavity.msh'...\n",
      "Info    : 9 entities\n",
      "Info    : 1077 nodes\n",
      "Info    : 5376 elements\n",
      "Info    : Done reading 'cylindrical_cavity.msh'\n"
     ]
    },
    {
     "data": {
      "text/plain": [
       "Grid{3, Tetrahedron, Float64} with 3604 Tetrahedron cells and 1077 nodes"
      ]
     },
     "execution_count": 9,
     "metadata": {},
     "output_type": "execute_result"
    }
   ],
   "source": [
    "grid = togrid(\"cylindrical_cavity.msh\")"
   ]
  },
  {
   "cell_type": "markdown",
   "id": "a3f83798-1884-40a2-93af-d715dfb36028",
   "metadata": {},
   "source": [
    "## Section 3: Functions for Assembly of Stiffness Matrix and Load Vector  "
   ]
  },
  {
   "cell_type": "code",
   "execution_count": 5,
   "id": "7bd34e12-70ec-410c-9399-446ce6e5b4b3",
   "metadata": {},
   "outputs": [
    {
     "data": {
      "text/plain": [
       "assemble_global (generic function with 1 method)"
      ]
     },
     "execution_count": 5,
     "metadata": {},
     "output_type": "execute_result"
    }
   ],
   "source": [
    "# define spatially varying diffusion coefficient \n",
    "function my_diff_coeff(x)\n",
    "    return 1.  \n",
    "end \n",
    "\n",
    "function assemble_element!(Ke::Matrix, fe::Vector, cellvalues::CellValues, mycoords)\n",
    "    n_basefuncs = getnbasefunctions(cellvalues)\n",
    "    # Reset to 0\n",
    "    fill!(Ke, 0)\n",
    "    fill!(fe, 0)\n",
    "    # Loop over quadrature points\n",
    "    for q_point in 1:getnquadpoints(cellvalues)\n",
    "        # Get the quadrature weight\n",
    "        dΩ = getdetJdV(cellvalues, q_point)\n",
    "        # ADDED: Get coord of quadrature point\n",
    "        coords_qp = spatial_coordinate(cellvalues, q_point, mycoords)\n",
    "        # ADDED: Evaluate spatially dependent diffusion coefficient in quad point \n",
    "        val_diff_coeff = my_diff_coeff(coords_qp)\n",
    "        # ADDED: Evaluate spatially dependent source term in quad point \n",
    "        ## val_source = my_source(coords_qp)        \n",
    "        # Loop over test shape functions\n",
    "        for i in 1:n_basefuncs\n",
    "            δu  = shape_value(cellvalues, q_point, i)\n",
    "            ∇δu = shape_gradient(cellvalues, q_point, i)\n",
    "            # Add contribution to fe\n",
    "            fe[i] += 0. * δu * dΩ\n",
    "            # Loop over trial shape functions\n",
    "            for j in 1:n_basefuncs\n",
    "                ∇u = shape_gradient(cellvalues, q_point, j)\n",
    "                # MODIFIED: Add contribution to Ke\n",
    "                Ke[i, j] += val_diff_coeff * (∇δu ⋅ ∇u) * dΩ\n",
    "            end\n",
    "        end\n",
    "    end\n",
    "    return Ke, fe\n",
    "end\n",
    "\n",
    "function assemble_global(cellvalues::CellValues, K::SparseMatrixCSC, dh::DofHandler)\n",
    "    # Allocate the element stiffness matrix and element force vector\n",
    "    n_basefuncs = getnbasefunctions(cellvalues)\n",
    "    Ke = zeros(n_basefuncs, n_basefuncs)\n",
    "    fe = zeros(n_basefuncs)\n",
    "    # Allocate global force vector f\n",
    "    f = zeros(ndofs(dh))\n",
    "    # Create an assembler\n",
    "    assembler = start_assemble(K, f)\n",
    "    # Loop over all cels\n",
    "    for cell in CellIterator(dh)\n",
    "        # Added: Get coordinates from current cell \n",
    "        coords = getcoordinates(cell)\n",
    "        # Reinitialize cellvalues for this cell\n",
    "        Ferrite.reinit!(cellvalues, cell)\n",
    "        # Modified - Compute element contribution\n",
    "        assemble_element!(Ke, fe, cellvalues, coords)\n",
    "        # Assemble Ke and fe into K and f\n",
    "        assemble!(assembler, celldofs(cell), Ke, fe)\n",
    "    end\n",
    "    return K, f\n",
    "end"
   ]
  },
  {
   "cell_type": "markdown",
   "id": "1fd72509-068c-4750-b73c-664ced7d0a7c",
   "metadata": {},
   "source": [
    "## Section 4: Set-up, Assembly and Solve"
   ]
  },
  {
   "cell_type": "code",
   "execution_count": 6,
   "id": "6ef7829f-a67a-4111-bf86-287b3397f1cd",
   "metadata": {},
   "outputs": [],
   "source": [
    "dim = 3 \n",
    "degree = 1 \n",
    "\n",
    "ip_u = Lagrange{RefTetrahedron, 1}()\n",
    "qr = QuadratureRule{RefTetrahedron}(2*degree+1)\n",
    "cellvalues_u = CellValues(qr, ip_u);\n",
    "\n",
    "dh = DofHandler(grid)\n",
    "add!(dh, :u, ip_u)\n",
    "close!(dh);\n",
    "\n",
    "K = allocate_matrix(dh)\n",
    "\n",
    "ch = ConstraintHandler(dh)\n",
    "\n",
    "∂Ω = getfacetset(grid, \"lid\")\n",
    "\n",
    "dbc = Dirichlet(:u, ∂Ω, (x, t) -> x[1])\n",
    "add!(ch, dbc)\n",
    "close!(ch)\n",
    "\n",
    "K, f = assemble_global(cellvalues_u, K, dh);\n",
    "\n",
    "apply!(K, f, ch)\n",
    "u = K \\ f;"
   ]
  },
  {
   "cell_type": "markdown",
   "id": "b43bedb3-f2a4-4831-b885-509fd96e26d5",
   "metadata": {},
   "source": [
    "## Section 5: Post-Processing"
   ]
  },
  {
   "cell_type": "code",
   "execution_count": 8,
   "id": "2af6c615-5068-418f-8000-60bd232e250d",
   "metadata": {},
   "outputs": [
    {
     "data": {
      "text/plain": [
       "VTKGridFile for the closed file \"results_cavity.vtu\"."
      ]
     },
     "execution_count": 8,
     "metadata": {},
     "output_type": "execute_result"
    }
   ],
   "source": [
    "VTKGridFile(\"results_cavity\", dh) do vtk\n",
    "    write_solution(vtk, dh, u)\n",
    "end"
   ]
  },
  {
   "cell_type": "code",
   "execution_count": null,
   "id": "a1be7169-9438-42e6-a5d8-89f6c60a930c",
   "metadata": {},
   "outputs": [],
   "source": []
  },
  {
   "cell_type": "code",
   "execution_count": null,
   "id": "15a86304-7df5-430a-adbb-c2cd7e197d28",
   "metadata": {},
   "outputs": [],
   "source": []
  },
  {
   "cell_type": "code",
   "execution_count": null,
   "id": "dec7873f-7f8e-43b9-96cb-abd4c222d4ff",
   "metadata": {},
   "outputs": [],
   "source": []
  }
 ],
 "metadata": {
  "kernelspec": {
   "display_name": "Julia 1.9.1",
   "language": "julia",
   "name": "julia-1.9"
  },
  "language_info": {
   "file_extension": ".jl",
   "mimetype": "application/julia",
   "name": "julia",
   "version": "1.9.1"
  }
 },
 "nbformat": 4,
 "nbformat_minor": 5
}
