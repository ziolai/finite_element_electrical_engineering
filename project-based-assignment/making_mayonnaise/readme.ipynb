{
 "cells": [
  {
   "cell_type": "markdown",
   "id": "1a5f8fe3-551a-4a63-b72d-6fd3c04f3edb",
   "metadata": {},
   "source": [
    "# Making Mayonaise "
   ]
  },
  {
   "cell_type": "markdown",
   "id": "6e73216c-701c-4638-8529-9dc5e4e49225",
   "metadata": {},
   "source": [
    "## Section 1: Introduction \n",
    " \n",
    "The goal of this project is to study fluids often encountered in the food processing industry. Dressings, sauces and mayonaises are typically be described as [emulsions](https://en.wikipedia.org/wiki/Emulsion) obtained by mixing oil and water. Industrial partners in this project are eager to further develop modeling and simulations techniques to obtain a better grip on the batch production and long term storage of emulsions. This grip is obtained by a better understanding of the physical properties ([dynamic modulus](https://en.wikipedia.org/wiki/Dynamic_modulus)) of the mixture in terms of the properties of the oil and water components. We will consider mayonnaise as an emulsions obtained by mixing oil droplets in water. "
   ]
  },
  {
   "cell_type": "markdown",
   "id": "cd859426-55e7-48da-9578-f0e2344dbef7",
   "metadata": {
    "jp-MarkdownHeadingCollapsed": true
   },
   "source": [
    "## Section 2: Oil Mixture Fraction and Visco-Elastic Properties of the Emulsion \n",
    "\n",
    "A characteristic property of an emulsion is its plateau elastic modulus. This quantity is a measure of the stress-strain response of the fluid caused by its combined elastic and viscous properties. It can be measured experimentally in a [rheometer](https://en.wikipedia.org/wiki/Rheometer). The 2014 paper by Mason and Sheffold is model for the plateau elastic modulus of the emulsion as a function of amount of oil in the emulsion. \n",
    "\n",
    "We suggest to start the project the studying the 2014 paper by Mason and Sheffold. We suggest to rephrase \n",
    "1. the model (the minimization of sum of total free energy, i.e., the sum of entropic and interfacial energy);\n",
    "2. the solution approach (finding first order critical points) and;\n",
    "3. the results obtained (small and large plateau elastic modulus at small and large oil mixture fraction);\n",
    "\n",
    "see seperate notebook [mason-sheffold-2014.ipynb](mason-sheffold-2014.ipynb).\n",
    "\n",
    "### Notation in Mason-Scheffold-2014\n",
    "\n",
    "Assume a mono-disperse oil-in-water emulsion subject to a shear strain with value $]\\gamma$. \n",
    "1. $N$: number of droplets; \n",
    "1. $a$: oil droplet radius, in the order of nano-meters (nano-emulsions) or micro-meter (micro-emulsions);\n",
    "2. $V_{drop} = 4 \\pi \\, a^3 / 3$: volume of droplet;  \n",
    "3. $\\phi$: droplet mixture fraction for oil-in-water emulsion;\n",
    "4. $\\phi_c$: threshold value of $\\phi$ for jamming. In the range $0.6 \\leq \\phi_c \\leq 0.7$. Paper uses $\\phi_c = 0.64$; \n",
    "5. $\\phi'_c > \\phi_c$: new and larger value for the threshold value of jamming;\n",
    "6. $\\phi_d = \\phi'_c - \\phi_c$: deformation mixture fraction. Precise value is given by imposing equilibrium in energy contributions; \n",
    "7. $\\sigma$: oil in water [interfacial tension](https://www.youtube.com/watch?v=2BBHl8Zvs2U&t=40s) of the droplets, in the order of miliNewtons/meter. $\\sigma/a$ is the Laplace pressure scale. Q: is this value independent of the strain applied to the system?;\n",
    "8. $G'_p(\\phi)$: linear (or plateau) shear [elastic modulus](https://en.wikipedia.org/wiki/Elastic_modulus) (as opposed to Youngs or bulk modulus). Also referred to as effective spring constant. Clearly independent of frequency of shearing force. Assumption is that the emulsion is in the state in which the shear tension responds linear to the shear rate. In this state the definition as second order derivative applies;\n",
    "9. $\\Pi(\\phi)$: [osmotic pressure](https://en.wikipedia.org/wiki/Osmotic_pressure)\n",
    "10. $F(\\phi,\\gamma)/N$: free energy per particle\n",
    "\n",
    "### Scaling laws based on [Surface Evolver](https://kenbrakke.com/evolver/evolver.html) \n",
    "1. scaling laws for $G'_p(\\phi) \\sim \\sigma/a \\, \\phi \\, (\\phi-\\phi_c)$;\n",
    "2. scaling laws for osmotic pressure $\\Pi(\\phi) \\sim \\sigma/a \\, \\phi^2 \\, (\\phi-\\phi_c)$\n",
    "\n",
    "### Scaling laws based on jamming simulations  \n",
    "1. scaling laws for $G'_p(\\phi) \\sim \\sigma/a \\, [ \\phi^{8/3} \\, (\\phi-\\phi_c)^{0.82} + \\phi^{5/3} \\, (\\phi-\\phi_c)^{1.82} ]$;\n",
    "\n",
    "### Free Energy\n",
    "1. entropic free energy: \n",
    "2. interfascial free energy: \n",
    "\n",
    "### Energy Minimization \n",
    "1. first order critical point determines the optinmal deformation volume fraction $\\phi^*_d$\n",
    "\n",
    "### Computation of osmotic pressure and plateau shear modulus "
   ]
  },
  {
   "cell_type": "markdown",
   "id": "59efc885-837b-4f1e-998e-634862372141",
   "metadata": {},
   "source": [
    "## Section 3: Complement Understanding of the Problem \n",
    "\n",
    "We suggest to further improve the understanding of concepts introduced by Mason-Sheffold-2014 by complementing with material from other sources. We suggest consulting e.g. the 1999 book by Russel, Saville and Schowalter entitled “Colloidal Dispersions”. "
   ]
  },
  {
   "cell_type": "markdown",
   "id": "46dd8f8b-1f20-401a-ac52-c00a83b893b2",
   "metadata": {},
   "source": [
    "## Section 4: Oil Droplet Size and Visco-Elastic Properties\n",
    "\n",
    "The framework introduced by Mason-Sheffold-2014 is limited to mono-disperse emulsions in which all oil droplets have the same diameter. Motivated by practical applications, we wish to extend the Mason-Sheffold-2014 model to poly-disperse emulsions. \n",
    "\n",
    "### Extension of the Energy Minimization Model \n",
    "\n",
    "A first alternative to is to first generalize the expression for the entropic and interfacial free energy to a weighted sum of energy contributions valid for a mixture of oil droplet sizes. Subsequently, one needs to determine the critical mixture fraction that determines the equilibrium of the configuration. Finally, one can determine the plateau shear modulus by the second derivative of the total free energy with respect to the strain rate. \n",
    "\n",
    "### Particle Based Models\n",
    "\n",
    "A second alternative is to replace the energy minimization framework by a mechanical model of a number of oil drops interconnected by springs, dashpots and dampers. One wishes to study the stress-strain response of these systems. Possibly one can start by considering interconnections (networks or graphs) of Kelvin-Voight and Maxwell material models. Possibly one can borrow ideas from molecular dynamics or other particle-based simulations methods.\n",
    "\n",
    "<b>Example of a Particle Based Model</b> [computation of the viscosity](https://docs.lammps.org/Howto_viscosity.html) by ensemble averaging of the auto-correlation of the stress/pressure tensor using [LAMMPS](https://docs.lammps.org/Manual.html);\n",
    "\n",
    "### Continuum Models \n",
    "\n",
    "A third alternative is to study computational fluid dynamics models of the rheometer that determines the plateau shear modulus. One thus needs to solve a rotating lid-driven cavity Stokes flow model for a shear-thinning non-Newtonian fluid.  "
   ]
  },
  {
   "cell_type": "markdown",
   "id": "fb7c52cb-8d81-4728-8716-63a9be5e6b8b",
   "metadata": {},
   "source": [
    "## Section 5: Rotating-Lid-Driven Cavity Stokes Flow for Shear-Thinning Non-Newtonian Fluid\n",
    "\n",
    "### Section 1.5: Pre-Processor \n",
    "\n",
    "The preprocessor consist of the following two components: \n",
    "\n",
    "1. geometry modeling tool;\n",
    "2. mesh generation tool;  \n",
    "\n",
    "The first component is the geometry modeler.  This modeler is either implements a form of [constructive solid geometry](https://en.wikipedia.org/wiki/Constructive_solid_geometry) or allows to import a geometry definition from file in standard definition. \n",
    "\n",
    "The second component is the mesh generation tool. Here we use [GMSH](https://gmsh.info). \n",
    "\n",
    "Here, the preprocessor should generate a mesh on the cylindrical cavity of the rheometer in which the sample resides. \n",
    "\n",
    "<b>Coding</b>: see seperate notebook [gmsh_cavity.ipynb](gmsh_cavity.ipynb).\n",
    "\n",
    "## Section 2.5: Computational Kernel \n",
    "\n",
    "The computational kernel assumes the responses of the sample to the excitation of the rheometer to be modeled in terms of physical laws of conservation (conservastion of mass and momentum) and constituive laws of the material (stress-strain relation). Given these models, the computational kernel consists of the following three four components: \n",
    "\n",
    "1. read the mesh;\n",
    "2. discretize the conservation and constitutive equations in space and time;\n",
    "3. solve the discrete model in space and time;\n",
    "4. write snapshots for spatial distribution of velocity, strain and stress to file for visualization;\n",
    "   \n",
    "Simulations reported here were performed using the [Ferrite](https://ferrite-fem.github.io/Ferrite.jl/stable/) finite element software.\n",
    "\n",
    "### Section 3.5: Scalar Diffusion \n",
    "\n",
    "A elementary proof of concept is to solve a scalar diffusion eqiation on the volume (computational domain) of a cylindrical cavity. \n",
    "\n",
    "<b>Coding</b>: see seperate notebook [ferrite_diffusion_cavity.ipynb](ferrite_diffusion_cavity.ipynb).\n",
    "\n",
    "### Section 4.5: Stationary Stokes Flow of a Newtonian Fluid \n",
    "\n",
    "Here we consider the rotation of the lid covering the cylindrical cavity to be modeled by a overly simplified [Stokes flow](https://en.wikipedia.org/wiki/Stokes_flow) model for a [Newtonian fluid](https://en.wikipedia.org/wiki/Newtonian_fluid).  \n",
    "\n",
    "<b>Coding</b>: see seperate notebook [ferrite_stokes_cavity.ipynb](ferrite_stokes_cavity.ipynb). \n",
    "\n",
    "### Section 5.5: Transient Navier-Stokes Flow of a Newtonian Fluid\n",
    "\n",
    "Here we extend flow Stokes to [Navier-Stokes flow](https://en.wikipedia.org/wiki/Navier–Stokes_equations), thus including non-linear convective terms. We also include time-dependent terms;\n",
    "\n",
    "<b>Coding</b>: see seperate notebook [ferrite_navier_stokes_cavity.ipynb](ferrite_navier_stokes_cavity.ipynb) (in progress).\n",
    "\n",
    "### Section 6.6: Post-Processor \n",
    "\n",
    "Resultsa are visualized using [paraview](https://www.paraview.org). \n",
    "\n",
    "### Section 7.5: Preliminary Results \n",
    "\n",
    "Here we show computational results for the magnitude of the velocity for Stokes flow. \n",
    "\n",
    "<img src=\"./stokes_3d_cylinder.png\" width=400 />\n"
   ]
  },
  {
   "cell_type": "markdown",
   "id": "0560d909-debb-4f8b-8512-ef7cd8bb4fdb",
   "metadata": {},
   "source": [
    "## Section 6: References \n",
    "1. Mason-Sheffold-2014; \n",
    "2. Russel, Saville and Schowalter, “Colloidal Dispersions”; \n",
    "3. master thesis [Wei Fan](https://repository.tudelft.nl/record/uuid:acbfbd35-3ab1-4ec2-9a7b-b3098bdfcea9); \n",
    "4. slides by D. Lahaye;\n",
    "\n",
    "### Books \n",
    "1. Belitz, Grosch and Schieberle, <i>Food Chemistry</i>, Springer, 2009, [link](https://www.google.nl/books/edition/Food_Chemistry/xteiARU46SQC?hl=en&gbpv=0);\n",
    "2. Hasenhuettl and Hartel, <i>Food Emulsifiers and Their Applications</i>, Springer, 2019, [link](https://www.google.nl/books/edition/Food_Emulsifiers_and_Their_Applications/5Ea9DwAAQBAJ?hl=en&gbpv=0); \n",
    "\n",
    "\n",
    "### Videos \n",
    "1. [What is an emulsion? by Silverston](https://www.youtube.com/watch?v=mBvKar6t1LY): mixing by high shear to reduce surface tension;  \n",
    "2. [The emulsification process by Jacob Burton](https://www.youtube.com/watch?v=qnudmk_63r4): viscosity as a stabilizer; \n",
    "3. [What is an emulsion by Dow](https://www.youtube.com/watch?v=uWfdU92uPNY) phases separate to find state with lesser energy; "
   ]
  },
  {
   "cell_type": "code",
   "execution_count": null,
   "id": "63722129-6247-42e6-8f9d-b5309abbf959",
   "metadata": {},
   "outputs": [],
   "source": []
  }
 ],
 "metadata": {
  "kernelspec": {
   "display_name": "Julia 1.10.9",
   "language": "julia",
   "name": "julia-1.10"
  },
  "language_info": {
   "file_extension": ".jl",
   "mimetype": "application/julia",
   "name": "julia",
   "version": "1.10.9"
  }
 },
 "nbformat": 4,
 "nbformat_minor": 5
}
