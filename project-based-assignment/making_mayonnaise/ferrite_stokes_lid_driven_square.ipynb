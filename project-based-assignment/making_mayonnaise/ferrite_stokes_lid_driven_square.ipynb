{
 "cells": [
  {
   "cell_type": "markdown",
   "id": "e52a9a18-dc8a-4a76-899e-b494d36b8972",
   "metadata": {},
   "source": [
    "# FEM Simulatons of Stationary Stokes Flow on a Lid Driven 2D Square  \n",
    "\n",
    "Simulates lid driven cavity flow over a square. \n",
    "\n",
    "<b>Problem to Solve</b>\n",
    "\n",
    "See [Stokes flow](https://en.wikipedia.org/wiki/Stokes_flow). \n",
    "\n",
    "<b>Observations</b>\n",
    "1. as the viscosity $\\mu$ increases (and thus the Reynolds number $Re = (\\rho \\, v \\, L)/ \\mu$ decreases), the corner singulariy becomes more pronounced. Not yet clear why. \n",
    "\n",
    "<b>Questions</b>\n",
    "1. What does the pressure constriant do? "
   ]
  },
  {
   "cell_type": "markdown",
   "id": "cc016459-7d67-4e1d-89e6-2eacf462ad8d",
   "metadata": {},
   "source": [
    "##  Import Packages"
   ]
  },
  {
   "cell_type": "code",
   "execution_count": 1,
   "id": "c3f62844-3286-488a-9283-8a737d235584",
   "metadata": {},
   "outputs": [],
   "source": [
    "using BlockArrays\n",
    "using LinearAlgebra\n",
    "using UnPack\n",
    "using LinearSolve \n",
    "using SparseArrays\n",
    "using Ferrite\n",
    "using FerriteGmsh \n",
    "using OrdinaryDiffEq\n",
    "using DifferentialEquations\n",
    "using Plots \n",
    "using WriteVTK"
   ]
  },
  {
   "cell_type": "markdown",
   "id": "4218ba48-f412-4f54-9d4d-6b3d2babc21e",
   "metadata": {},
   "source": [
    "## Section 1: Introduction \n",
    "\n",
    "Simulates Stokes flow in on a square domain. Requires more details."
   ]
  },
  {
   "cell_type": "markdown",
   "id": "422845cf-32a7-4720-8ac5-ee5ff2c85e08",
   "metadata": {},
   "source": [
    "## Section 2: Generate 2D Mesh  "
   ]
  },
  {
   "cell_type": "code",
   "execution_count": 2,
   "id": "7cf68409-48ef-4084-bd80-3f20c04c4aa6",
   "metadata": {},
   "outputs": [],
   "source": [
    "nelem = 3 \n",
    "nels  = (nelem, nelem) # number of elements in each spatial direction\n",
    "left  = Vec((0., 0.))    # start point for geometry \n",
    "right = Vec((1.0, 1.0,)) # end point for geometry\n",
    "grid = generate_grid(Quadrilateral,nels,left,right);"
   ]
  },
  {
   "cell_type": "code",
   "execution_count": 5,
   "id": "22fc0bcc-7f0c-4f31-8316-7f1127dbc092",
   "metadata": {},
   "outputs": [
    {
     "data": {
      "text/plain": [
       "Grid{2, Quadrilateral, Float64} with 9 Quadrilateral cells and 16 nodes"
      ]
     },
     "execution_count": 5,
     "metadata": {},
     "output_type": "execute_result"
    }
   ],
   "source": [
    "addvertexset!(grid, \"corner\", (x) -> x[1] ≈ 0.0 && x[2] ≈ 0.0)"
   ]
  },
  {
   "cell_type": "markdown",
   "id": "a3f83798-1884-40a2-93af-d715dfb36028",
   "metadata": {},
   "source": [
    "## Section 3: Functions for Assembly of Stiffness Matrix and Load Vector \n",
    "Modified tutorial by removing the volumetric source term. "
   ]
  },
  {
   "cell_type": "code",
   "execution_count": 7,
   "id": "7bd34e12-70ec-410c-9399-446ce6e5b4b3",
   "metadata": {},
   "outputs": [
    {
     "data": {
      "text/plain": [
       "setup_mean_constraint (generic function with 1 method)"
      ]
     },
     "execution_count": 7,
     "metadata": {},
     "output_type": "execute_result"
    }
   ],
   "source": [
    "function assemble_system!(K, f, dh, cvu, cvp,viscosity)\n",
    "    assembler = start_assemble(K, f)\n",
    "    ke = zeros(ndofs_per_cell(dh), ndofs_per_cell(dh))\n",
    "    fe = zeros(ndofs_per_cell(dh))\n",
    "    range_u = dof_range(dh, :u)\n",
    "    ndofs_u = length(range_u)\n",
    "    range_p = dof_range(dh, :p)\n",
    "    ndofs_p = length(range_p)\n",
    "    ϕᵤ = Vector{Vec{2,Float64}}(undef, ndofs_u)\n",
    "    ∇ϕᵤ = Vector{Tensor{2,2,Float64,4}}(undef, ndofs_u) # 3-by-3 tensor \n",
    "    divϕᵤ = Vector{Float64}(undef, ndofs_u)\n",
    "    ϕₚ = Vector{Float64}(undef, ndofs_p)\n",
    "    for cell in CellIterator(dh)\n",
    "        Ferrite.reinit!(cvu, cell)\n",
    "        Ferrite.reinit!(cvp, cell)\n",
    "        ke .= 0\n",
    "        fe .= 0\n",
    "        for qp in 1:getnquadpoints(cvu)\n",
    "            dΩ = getdetJdV(cvu, qp)\n",
    "            for i in 1:ndofs_u\n",
    "                ϕᵤ[i] = shape_value(cvu, qp, i)\n",
    "                ∇ϕᵤ[i] = shape_gradient(cvu, qp, i)\n",
    "                divϕᵤ[i] = shape_divergence(cvu, qp, i)\n",
    "            end\n",
    "            for i in 1:ndofs_p\n",
    "                ϕₚ[i] = shape_value(cvp, qp, i)\n",
    "            end\n",
    "            # u-u\n",
    "            for (i, I) in pairs(range_u), (j, J) in pairs(range_u)\n",
    "                ke[I, J] += viscosity*( ∇ϕᵤ[i] ⊡ ∇ϕᵤ[j] ) * dΩ\n",
    "            end\n",
    "            # u-p\n",
    "            for (i, I) in pairs(range_u), (j, J) in pairs(range_p)\n",
    "                ke[I, J] += ( -divϕᵤ[i] * ϕₚ[j] ) * dΩ\n",
    "            end\n",
    "            # p-u\n",
    "            for (i, I) in pairs(range_p), (j, J) in pairs(range_u)\n",
    "                ke[I, J] += ( -divϕᵤ[j] * ϕₚ[i] ) * dΩ\n",
    "            end\n",
    "            # rhs\n",
    "            for (i, I) in pairs(range_u)\n",
    "                x = spatial_coordinate(cvu, qp, getcoordinates(cell))\n",
    "                # b = exp(-100 * norm(x - Vec{2}((0.75, 0.1)))^2)\n",
    "                bv = Vec{2}((0.0, 0.0))\n",
    "                fe[I] += (ϕᵤ[i] ⋅ bv) * dΩ\n",
    "            end\n",
    "        end\n",
    "        assemble!(assembler, celldofs(cell), ke, fe)\n",
    "    end\n",
    "    return K, f\n",
    "end\n",
    "\n",
    "function setup_mean_constraint(dh, fvp)\n",
    "    assembler = Ferrite.COOAssembler()\n",
    "    # All external boundaries\n",
    "    set = union(\n",
    "            getfacetset(dh.grid, \"left\"),\n",
    "            getfacetset(dh.grid, \"right\"),\n",
    "            getfacetset(dh.grid, \"bottom\"),\n",
    "            getfacetset(dh.grid, \"top\"),\n",
    "    )\n",
    "    # Allocate buffers\n",
    "    range_p = dof_range(dh, :p)\n",
    "    element_dofs = zeros(Int, ndofs_per_cell(dh))\n",
    "    element_dofs_p = view(element_dofs, range_p)\n",
    "    element_coords = zeros(Vec{2}, 4) # assuming 2D mesh with quadrilaterals only \n",
    "    Ce = zeros(1, length(range_p)) # Local constraint matrix (only 1 row)\n",
    "    # Loop over all the boundaries\n",
    "    for (ci, fi) in set\n",
    "        Ce .= 0\n",
    "        getcoordinates!(element_coords, dh.grid, ci)\n",
    "        Ferrite.reinit!(fvp, element_coords, fi)\n",
    "        celldofs!(element_dofs, dh, ci)\n",
    "        for qp in 1:getnquadpoints(fvp)\n",
    "            dΓ = getdetJdV(fvp, qp)\n",
    "            for i in 1:getnbasefunctions(fvp)\n",
    "                Ce[1, i] += shape_value(fvp, qp, i) * dΓ\n",
    "            end\n",
    "        end\n",
    "        # Assemble to row 1\n",
    "        assemble!(assembler, [1], element_dofs_p, Ce)\n",
    "    end\n",
    "    C, _ = finish_assemble(assembler)\n",
    "    # Create an AffineConstraint from the C-matrix\n",
    "    _, J, V = findnz(C)\n",
    "    _, constrained_dof_idx = findmax(abs2, V)\n",
    "    constrained_dof = J[constrained_dof_idx]\n",
    "    V ./= V[constrained_dof_idx]\n",
    "    mean_value_constraint = AffineConstraint(\n",
    "        constrained_dof,\n",
    "        Pair{Int,Float64}[J[i] => -V[i] for i in 1:length(J) if J[i] != constrained_dof],\n",
    "        0.0,\n",
    "    )\n",
    "\n",
    "    return mean_value_constraint\n",
    "end"
   ]
  },
  {
   "cell_type": "markdown",
   "id": "1fd72509-068c-4750-b73c-664ced7d0a7c",
   "metadata": {},
   "source": [
    "## Section 4: Set-up, Assembly and Solve"
   ]
  },
  {
   "cell_type": "code",
   "execution_count": 20,
   "id": "6ef7829f-a67a-4111-bf86-287b3397f1cd",
   "metadata": {},
   "outputs": [
    {
     "data": {
      "text/plain": [
       "VTKGridFile for the closed file \"stokes_2d_square.vtu\"."
      ]
     },
     "execution_count": 20,
     "metadata": {},
     "output_type": "execute_result"
    }
   ],
   "source": [
    "nelem = 50\n",
    "nels  = (nelem, nelem) # number of elements in each spatial direction\n",
    "left  = Vec((0., 0.))    # start point for geometry \n",
    "right = Vec((1.0, 1.0,)) # end point for geometry\n",
    "grid = generate_grid(Quadrilateral,nels,left,right);\n",
    "\n",
    "dim = 2 \n",
    "degree = 2\n",
    "\n",
    "# Interpolations\n",
    "ipu = Lagrange{RefQuadrilateral,degree+1}() ^ dim # quadratic for 3 velocity components \n",
    "ipp = Lagrange{RefQuadrilateral,degree}()         # linear for scalar pressure \n",
    "\n",
    "# Dofs\n",
    "dh = DofHandler(grid)\n",
    "add!(dh, :u, ipu)\n",
    "add!(dh, :p, ipp)\n",
    "close!(dh) \n",
    "\n",
    "# FE values\n",
    "qr = QuadratureRule{RefQuadrilateral}(2*degree+1)\n",
    "ipg = Lagrange{RefQuadrilateral,1}() # linear geometric interpolation\n",
    "cvu = CellValues(qr, ipu, ipg) # observe three arguments - need to document whether this is required \n",
    "cvp = CellValues(qr, ipp, ipg) # observe three arguments - need to document whether this is required\n",
    "qr_facet = FacetQuadratureRule{RefQuadrilateral}(2)\n",
    "fvp = FacetValues(qr_facet, ipp, ipg) # required for pressure constraint \n",
    "\n",
    "# Boundary conditions \n",
    "ch = ConstraintHandler(dh)\n",
    "\n",
    "# Boundary conditions part (1/3): Dirichlet BC for the velocity at the top lid \n",
    "lid = getfacetset(dh.grid, \"top\")\n",
    "dbc1 = Dirichlet(:u, lid, (x, t) -> [10,0] )\n",
    "add!(ch, dbc1)\n",
    "\n",
    "# Boundary conditions part (2/3): no slip boundary condition - impose velocity to be zero vector on the walls   \n",
    "wall = union(\n",
    "    getfacetset(grid, \"left\"),\n",
    "    getfacetset(grid, \"right\"),\n",
    "    getfacetset(grid, \"bottom\"),\n",
    ")\n",
    "dbc2 = Dirichlet(:u, wall, (x, t) -> [0, 0])\n",
    "add!(ch, dbc2)\n",
    "    \n",
    "# Boundary conditions part (3/3): apply pressure constraint\n",
    "# mean_value_constraint = setup_mean_constraint(dh, fvp)\n",
    "# add!(ch, mean_value_constraint)\n",
    "dbc3 = Dirichlet(:p, lid, (x, t) -> 0)\n",
    "add!(ch, dbc3)\n",
    "    \n",
    "# Finalize\n",
    "close!(ch)\n",
    "\n",
    "# Global tangent matrix and rhs\n",
    "coupling = [true true; true false] # no coupling between pressure test/trial functions\n",
    "K = allocate_matrix(dh, ch; coupling=coupling)\n",
    "f = zeros(ndofs(dh))\n",
    "\n",
    "# Assemble system\n",
    "viscosity = 1e6\n",
    "assemble_system!(K, f, dh, cvu, cvp, viscosity); \n",
    "\n",
    "# Apply boundary conditions and solve\n",
    "apply!(K, f, ch)\n",
    "u = K \\ f;\n",
    "\n",
    "VTKGridFile(\"stokes_2d_square\", dh) do vtk\n",
    "    write_solution(vtk, dh, u)\n",
    "    Ferrite.write_constraints(vtk, ch)\n",
    "end"
   ]
  },
  {
   "cell_type": "code",
   "execution_count": null,
   "id": "83de962c-9d24-4479-b359-a2a422798bce",
   "metadata": {},
   "outputs": [],
   "source": []
  },
  {
   "cell_type": "markdown",
   "id": "b43bedb3-f2a4-4831-b885-509fd96e26d5",
   "metadata": {},
   "source": [
    "## Section 5: Post-Processing"
   ]
  },
  {
   "cell_type": "code",
   "execution_count": null,
   "id": "2af6c615-5068-418f-8000-60bd232e250d",
   "metadata": {},
   "outputs": [],
   "source": []
  },
  {
   "cell_type": "code",
   "execution_count": null,
   "id": "a1be7169-9438-42e6-a5d8-89f6c60a930c",
   "metadata": {},
   "outputs": [],
   "source": []
  },
  {
   "cell_type": "code",
   "execution_count": null,
   "id": "15a86304-7df5-430a-adbb-c2cd7e197d28",
   "metadata": {},
   "outputs": [],
   "source": []
  },
  {
   "cell_type": "code",
   "execution_count": null,
   "id": "dec7873f-7f8e-43b9-96cb-abd4c222d4ff",
   "metadata": {},
   "outputs": [],
   "source": []
  }
 ],
 "metadata": {
  "kernelspec": {
   "display_name": "Julia 1.9.1",
   "language": "julia",
   "name": "julia-1.9"
  },
  "language_info": {
   "file_extension": ".jl",
   "mimetype": "application/julia",
   "name": "julia",
   "version": "1.9.1"
  }
 },
 "nbformat": 4,
 "nbformat_minor": 5
}
