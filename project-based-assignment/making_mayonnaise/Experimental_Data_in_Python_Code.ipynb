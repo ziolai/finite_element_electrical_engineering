{
 "cells": [
  {
   "cell_type": "markdown",
   "id": "a13bb508",
   "metadata": {},
   "source": [
    "# Experimental Data in Python Code."
   ]
  },
  {
   "cell_type": "code",
   "execution_count": 1,
   "id": "f57805c3-3c0a-4900-9695-2591294b72b0",
   "metadata": {},
   "outputs": [
    {
     "name": "stdout",
     "output_type": "stream",
     "text": [
      "Succesfully imported numpy -- Version: 2.3.0\n",
      "Succesfully imported matplotlib.pyplot\n"
     ]
    }
   ],
   "source": [
    "import numpy as np\n",
    "print(\"Succesfully imported %s -- Version: %s\"%(np.__name__,np.__version__))\n",
    "import matplotlib.pyplot as plt\n",
    "print(\"Succesfully imported %s\"%(plt.__name__))"
   ]
  },
  {
   "cell_type": "markdown",
   "id": "ff9b5b67",
   "metadata": {},
   "source": [
    "## 1.  Tests Kim&Mason"
   ]
  },
  {
   "cell_type": "code",
   "execution_count": 2,
   "id": "f26ef876",
   "metadata": {},
   "outputs": [],
   "source": [
    "samples = [\n",
    "        { # Mayo1\n",
    "        \"exp_Gp\": 750.0,\n",
    "        \"T\": 298.0,\n",
    "        \"phi\": 0.75,\n",
    "        \"a\": 1e-6 * 0.5 * 5.1,    \n",
    "        \"I\": 5e-3,               \n",
    "        \"sigma\": 6.6e-3,         \n",
    "        \"psi_0\": 40e-3           \n",
    "    },\n",
    "  \n",
    "    { # Mayo2\n",
    "        \"exp_Gp\": 241.0,\n",
    "        \"T\": 298.0,   \n",
    "        \"phi\": 0.70,\n",
    "        \"a\": 1e-6 * 0.5 * 8,\n",
    "        \"I\": 5e-3,\n",
    "        \"sigma\": 6.6e-3,\n",
    "        \"psi_0\": -40e-3\n",
    "    },\n",
    "    { # Mayo3\n",
    "        \"exp_Gp\": 1000.0,\n",
    "        \"T\": 298.0,\n",
    "        \"phi\": 0.75,\n",
    "        \"a\": 1e-6 * 0.5 * 8,\n",
    "        \"I\": 1,\n",
    "        \"sigma\": 8e-3,\n",
    "        \"psi_0\": 0.5e-3\n",
    "    },\n",
    "    { # Mayo4\n",
    "        \"exp_Gp\": 188.0,\n",
    "        \"T\": 298.0,\n",
    "        \"phi\": 0.7,\n",
    "        \"a\": 1e-6 * 0.5 * 16,\n",
    "        \"I\": 10e-3,\n",
    "        \"sigma\": 6e-3,\n",
    "        \"psi_0\": -15e-3\n",
    "    },\n",
    "    {   # Mayo5\n",
    "        \"exp_Gp\": 56.0,\n",
    "        \"T\": 298.0,\n",
    "        \"phi\": 0.65,\n",
    "        \"a\": 1e-6 * 0.5 * 11.9,\n",
    "        \"I\": 10 * 1e-3,\n",
    "        \"sigma\": 6e-3,\n",
    "        \"psi_0\": -15 * 1e-3\n",
    "    }\n",
    "]"
   ]
  },
  {
   "cell_type": "markdown",
   "id": "a4aada68",
   "metadata": {},
   "source": [
    "## 2. Tests Palierne (Jacobs et al)"
   ]
  },
  {
   "cell_type": "code",
   "execution_count": 3,
   "id": "7194bc6a",
   "metadata": {},
   "outputs": [],
   "source": [
    "EXPERIMENTAL_DATA = {\n",
    "    'MayoA1': {\n",
    "        'D_particle': 47.10e-6,\n",
    "        'phi': 0.8,\n",
    "        'omega': np.array([\n",
    "            62.8319, 39.6438, 25.0137, 15.7828, 9.95809, 6.28319,\n",
    "            3.96441, 2.50139, 1.57827, 0.995816, 0.628319, 0.396441,\n",
    "            0.250138, 0.157827, 0.099582, 0.062832\n",
    "        ]),\n",
    "        'G_prime_exp': np.array([\n",
    "            309.202, 293.499, 279.757, 266.312, 259.485, 247.734,\n",
    "            237.08, 229.133, 217.656, 206.519, 200.319, 192.251,\n",
    "            184.235, 177.272, 169.175, 163.001\n",
    "        ]),\n",
    "        'G_double_prime_exp': np.array([\n",
    "            58.551, 51.8998, 46.6734, 41.9896, 40.1506, 37.0847,\n",
    "            34.9455, 33.6155, 31.8611, 31.0121, 32.0916, 31.8882,\n",
    "            32.2062, 31.4534, 30.7643, 30.9838\n",
    "        ])\n",
    "    },\n",
    "    'MayoA2': {\n",
    "        'D_particle': 22.16e-6,\n",
    "        'phi': 0.8,\n",
    "        'omega': np.array([\n",
    "            62.8319, 39.6438, 25.0137, 15.7828, 9.95809, 6.28319,\n",
    "            3.96441, 2.50139, 1.57827, 0.995816, 0.628319, 0.396441,\n",
    "            0.250138, 0.157827, 0.099582, 0.062832\n",
    "        ]),\n",
    "        'G_prime_exp': np.array([\n",
    "            390.08, 370.93, 356.34, 344.01, 331.86, 321.18,\n",
    "            309.91, 299.22, 289.31, 279.03, 268.80, 257.10,\n",
    "            246.26, 235.00, 224.67, 215.94\n",
    "        ]),\n",
    "        'G_double_prime_exp': np.array([\n",
    "            58.71, 52.78, 48.02, 44.76, 41.91, 40.22,\n",
    "            38.12, 37.72, 37.93, 38.27, 38.88, 38.15,\n",
    "            36.76, 35.11, 34.36, 34.34\n",
    "        ])\n",
    "    },\n",
    "    'MayoA3': {\n",
    "        'D_particle': 10.30e-6,\n",
    "        'phi': 0.8,\n",
    "        'omega': np.array([\n",
    "            62.8319, 39.6438, 25.0137, 15.7828, 9.95809, 6.28319,\n",
    "            3.96441, 2.50139, 1.57827, 0.995816, 0.628319, 0.396441,\n",
    "            0.250138, 0.157827, 0.099582, 0.062832\n",
    "        ]),\n",
    "        'G_prime_exp': np.array([\n",
    "            530.53, 510.83, 493.47, 477.55, 463.34, 449.66,\n",
    "            436.47, 423.55, 410.62, 397.49, 383.24, 367.89,\n",
    "            355.14, 344.08, 332.87, 324.49\n",
    "        ]),\n",
    "        'G_double_prime_exp': np.array([\n",
    "            73.28, 65.90, 60.22, 55.68, 52.25, 49.82,\n",
    "            48.26, 47.67, 47.29, 48.79, 47.83, 48.44,\n",
    "            50.62, 50.62, 47.42, 47.75\n",
    "        ])\n",
    "    },\n",
    "    'MayoB': {\n",
    "        'D_particle': 2.06e-6,\n",
    "        'phi': 0.8,\n",
    "        'omega': np.array([\n",
    "            62.8319, 39.6438, 25.0137, 15.7828, 9.95809, 6.28319,\n",
    "            3.96441, 2.50139, 1.57827, 0.995816, 0.628319, 0.396441,\n",
    "            0.250138, 0.157827, 0.099582, 0.062832\n",
    "        ]),\n",
    "        'G_prime_exp': np.array([\n",
    "            3499.45, 3370.63, 3246.17, 3123.38, 2999.78, 2874.54,\n",
    "            2746.89, 2624.41, 2518.35, 2430.18, 2348.17, 2283.09,\n",
    "            2228.28, 2171.21, 2116.57, 2067.16\n",
    "        ]),\n",
    "        'G_double_prime_exp': np.array([\n",
    "            476.482, 455.214, 440.399, 430.324, 423.344, 414.884,\n",
    "            399.079, 369.141, 336.066, 311.594, 275.816, 249.727,\n",
    "            238.024, 221.127, 219.702, 224.932\n",
    "        ])\n",
    "    },\n",
    "    'MayoC': {\n",
    "        'D_particle': 4.005e-6,\n",
    "        'phi': 0.74,\n",
    "        'omega': np.array([\n",
    "            62.8319, 39.6438, 25.0137, 15.7828, 9.95809, 6.28319,\n",
    "            3.96441, 2.50139, 1.57827, 0.995816, 0.628319, 0.396441,\n",
    "            0.250138, 0.157827, 0.099582, 0.062832\n",
    "        ]),\n",
    "        'G_prime_exp': np.array([\n",
    "            1320.4, 1270.84, 1222.73, 1175.59, 1129.66, 1084.4,\n",
    "            1039.67, 995.863, 961.17, 922.24, 891.472, 863.334,\n",
    "            838.304, 812.44, 791.31, 764.129\n",
    "        ]),\n",
    "        'G_double_prime_exp': np.array([\n",
    "            197.419, 184.045, 174.295, 165.847, 159.145, 152.865,\n",
    "            145.277, 138.462, 130.275, 122.136, 112.672, 107.976,\n",
    "            102.136, 99.5645, 99.674, 102.167\n",
    "        ])\n",
    "    }\n",
    "}"
   ]
  },
  {
   "cell_type": "code",
   "execution_count": 8,
   "id": "818e1ec8-681b-4840-9ed8-f1f06299e381",
   "metadata": {},
   "outputs": [
    {
     "data": {
      "text/plain": [
       "Text(0.5, 1.0, 'MayoA3')"
      ]
     },
     "execution_count": 8,
     "metadata": {},
     "output_type": "execute_result"
    },
    {
     "data": {
      "image/png": "[encoded data removed]",
      "text/plain": [
       "<Figure size 640x480 with 1 Axes>"
      ]
     },
     "metadata": {},
     "output_type": "display_data"
    }
   ],
   "source": [
    "#..plot the data \n",
    "#plt.style.use('_mpl-gallery')\n",
    "\n",
    "name = 'MayoA3'\n",
    "x  = EXPERIMENTAL_DATA[name]['omega']\n",
    "y1 = EXPERIMENTAL_DATA[name]['G_prime_exp']\n",
    "y2 = EXPERIMENTAL_DATA[name]['G_double_prime_exp']\n",
    "\n",
    "plt.loglog(x, y1, x, y2, label='a label')\n",
    "plt.grid()\n",
    "plt.xlabel('omega')\n",
    "plt.ylabel('G_p G_pp')\n",
    "plt.title(name)"
   ]
  },
  {
   "cell_type": "code",
   "execution_count": null,
   "id": "c66a9822-61cb-48aa-8e36-f07babbdc6b3",
   "metadata": {},
   "outputs": [],
   "source": []
  }
 ],
 "metadata": {
  "kernelspec": {
   "display_name": "Python 3 (ipykernel)",
   "language": "python",
   "name": "python3"
  },
  "language_info": {
   "codemirror_mode": {
    "name": "ipython",
    "version": 3
   },
   "file_extension": ".py",
   "mimetype": "text/x-python",
   "name": "python",
   "nbconvert_exporter": "python",
   "pygments_lexer": "ipython3",
   "version": "3.12.7"
  }
 },
 "nbformat": 4,
 "nbformat_minor": 5
}
