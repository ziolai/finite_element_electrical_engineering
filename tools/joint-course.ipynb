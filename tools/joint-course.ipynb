{
 "cells": [
  {
   "cell_type": "markdown",
   "id": "37c5702c-fe9a-4697-b58c-5894968ca1f2",
   "metadata": {},
   "source": [
    "# Joint Course Jianning and Domenico "
   ]
  },
  {
   "cell_type": "markdown",
   "id": "c946bb47-f63b-405f-b49a-b9592759d533",
   "metadata": {},
   "source": [
    "## Course Details \n",
    "\n",
    "1. Course title and course code? \n",
    "2. 5 ECTS \n",
    "3. given in Q3\n",
    "4. teaching by lectures and lab sessions\n",
    "5. not all students same trajectory through course - how to accomodate in teaching triangle?  \n",
    "7. assessment by ... "
   ]
  },
  {
   "cell_type": "markdown",
   "id": "fb0cc9b7-e9f0-4f7b-aefb-5861ab1beba3",
   "metadata": {},
   "source": [
    "## Block (1/3): Modeling Quasi-Electrostatic and Quasi-Magnetostatic Field (Week 1 and 2)\n",
    "\n",
    "<b>Content</b>\n",
    "1. Laplace and Poisson Equation for the Electrostatic Field in term of the electrical field potential. Material constitutive equations. Physical units;\n",
    "2. electric energy density and magnetic energy density; \n",
    "3. (optional) Laplace and Poisson Equation for the Magnetostatic Field in terms of the scalar magnetic field potential. Material constitutive equations. Physical units;\n",
    "4. double curl equation for the magnetic vector equation. Reduction to two-dimensional perpendicular current formulation;   \n",
    "5. (optional): Reduction of double curl equation to to two-dimensional azimuthal current formulations; \n",
    "6. one-dimensional reference solutions: analytically, symbolically or built-in numerical tools;\n",
    "7. two-dimensional reference solutions: analytically or built-in numerical tools;\n",
    "8. Julia programminmg language   \n",
    "\n",
    "<b>Provide Pointers to</b>\n",
    "1. non-linear materials; \n",
    "2. eddy-current effects;\n",
    "3. transient field computations; \n",
    "\n",
    "<b>Requires Input on</b>\n",
    "1. material already available that can be reused (link here to courses in Q1 and Q2); \n",
    "2. how to compute inductance analytically or symbolically; "
   ]
  },
  {
   "cell_type": "markdown",
   "id": "8a5e2032-8368-4010-b76c-c221240cb51b",
   "metadata": {},
   "source": [
    "## Block (2/3): (Rephrase to incorporate Jianning Material) One-Dimensional Finite Element Modeling (Week 3 and 4)\n",
    "\n",
    "<b>Content</b>\n",
    "1. Problem formulation: ordinary differential equation supplied with boundary value problems;\n",
    "2. Weak formulation, variational formulation, weighted residuals;\n",
    "3. Mesh generation, finite element basis functions; \n",
    "4. Assembly mass matrix, stiffness matrix, load vector;\n",
    "5. Linear system solve for finite element solution;\n",
    "6. Post-processing; \n",
    "\n",
    "<b>Provide Pointers to</b>\n",
    "\n",
    "<b>Requires Input on</b>\n",
    "1. exact problem formulation;\n",
    "2. details on computations of the inductance $L$ either using energy or flux and preferably both; "
   ]
  },
  {
   "cell_type": "markdown",
   "id": "b4e1c000-0ccf-4bbb-8846-ab7c5607d7bf",
   "metadata": {},
   "source": [
    "## Block (3/3): (Rephrase to incorporate Jianning Material) Two-Dimensional Finite Element Modeling (Week 5, 6 and 7) \n",
    "\n",
    "<b>Content</b>\n",
    "1. extend above from 1D (only $x$) to 2D (both $x$ and $y$); \n",
    "\n",
    "<b>Provide Pointers to</b>\n",
    "\n",
    "<b>Requires Input on</b>\n",
    "1. pre-cooking geometry definition and mesh generation; "
   ]
  },
  {
   "cell_type": "code",
   "execution_count": null,
   "id": "d8a92ee9-232a-4683-ba0e-d96f7d724d7b",
   "metadata": {},
   "outputs": [],
   "source": []
  }
 ],
 "metadata": {
  "kernelspec": {
   "display_name": "Julia 1.10.9",
   "language": "julia",
   "name": "julia-1.10"
  },
  "language_info": {
   "file_extension": ".jl",
   "mimetype": "application/julia",
   "name": "julia",
   "version": "1.10.9"
  }
 },
 "nbformat": 4,
 "nbformat_minor": 5
}
