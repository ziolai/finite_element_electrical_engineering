{
 "cells": [
  {
   "cell_type": "markdown",
   "id": "7c448405",
   "metadata": {},
   "source": [
    "# EE4375 Wish List\n",
    "\n",
    "## Section 1: Introduction \n",
    "\n",
    "How to improve course for Q3 of 2025-26? More here later. \n",
    "\n",
    "## Section 2: Provide More Guidelines on Homeworks (Domenico)\n",
    "\n",
    "### How Should Homeworks Be Submitted \n",
    "Extend guidelines for homework submission with\n",
    "1. give PDF file name and student ID number;\n",
    "2. use [carbon](https://carbon.now.sh) for typesetting code prior to submission;  \n",
    "3. upload notebook on personal github account;\n",
    "\n",
    "### What to Put and Not to Put in the Homeworks? \n",
    "\n",
    "### How Are Homeworks Graded? \n",
    "\n",
    "## Section 3: Homework-1 - 2D Finite Difference Methods (TA1)\n",
    "\n",
    "### Section 1.3: Proposed Outline of HW1\n",
    "1. Q1: (build rhs vector): Assume given the computational domain $\\Omega = (0,1)^2$ as before. Assume the source term $f(x,y)$ to be a Guassian function centered in $(x_0,y_0) = (0.5, 0.5)$ and deviation $\\sigma = 0.1$, that is, $f(x,y) = \\exp[-(x-x_0)^2/(2\\,\\sigma^2)-(y-y_0)^2/(2\\,\\sigma^2)]$.  Assume solving the Poisson equation $- \\bigtriangleup u(x,y) = f(x,y)$ on $\\Omega$ supplied with the homogeneous Dirichlet boundary conditions $u(x,y) = 0$ on $\\Gamma = \\partial \\Omega$. Assume a uniform mesh on $\\Omega$ with $N=8$ elements in both the $x$-directon and the $y$-direction. Assume this uniform mesh to be denoted by $\\Omega^h$. Assume the all the grid nodes (on the interior and the boundary) to be numbered using a $x-$lexicografic ordering. Assume solving the Poisson equation using a five-point central finite difference scheme. Implement a Julia function that takes as input the integer $N$ and the function $f(x,y)$ and that returns the right-hand side vector ${\\mathbf f}$ defined on $\\Omega^h$. This function should take both the interior and boundary nodes into account. Assume $N=8$. Use the @test macro defined by unit test module to test the output of the function with the reference right-hand side vector provided with this homework assignment. Assume $N=32$. Make a contour plot of the vector ${\\mathbf f}$ on the mesh $\\Omega^h$; \n",
    "2. Q2: (build matrix): Same assumptions as in Q1. Implement a Julia function that takes as input the integer $N$ and that returns the matrix $A$ defined on $\\Omega^h$. Assume $N=8$. Use the @test macro to test the output of the function with the reference matrix provided with this homework assignment; \n",
    "3. Q3: (build solution vector): Same assumptions as in Q1. Implement a Julia function that takes as input the matrix $A$ from Q2 and the vector ${\\mathbf f}$ from Q1 and that computes the solution vector ${\\mathbf u}$. Assume $N=8$. Use the @test macro to test the output of the function with the reference solution vector provided with this homework assignment. Assume $N=32$. Make a contour plot of the vector ${\\mathbf u}$ on the mesh $\\Omega^h$;\n",
    "4. Q4: (build gradient vector): Same assumptions as in Q1. Construct $B$. Multiply $B$ and ${\\mathbf u}$. Assume $N=8$. Test ${\\mathbf u}_x$ and ${\\mathbf u}_y$ using reference data. Assume $N=32$. Plot ${\\mathbf u}_x$ and ${\\mathbf u}_y$;\n",
    "5. Q5: (linear algebra explicit inverse vs. linear solve using macro @benchmark to logh both memory and CPU usage); \n",
    "6. Q6: (linear algebra dense vs. sparse)\n",
    "7. Q7: boundary conditions: non-homogeneous Dirichlet, Neumann or non-homogeneous Neumann (possibly merely in 1D); \n",
    "8. Q8: non-homogeneous media: extend $A = B^T \\, B$ to $A = B^T \\, D \\, B$ (possibly merely in 1D);\n",
    "10. Q9: physical interpretation; potential, gradient and flux for electrostatics, magnetostatics with vector potential, magnetostatic with scalar magnetic potential or temperature field;\n",
    "11. Q10: julia programming exercises;   \n",
    "\n",
    "### Section 2.3: Guidelines for HW1\n",
    "1. what is a Gaussian function? (see wikipedia); \n",
    "2. clarify reshape from vector to matrix (e.g. for plotting) and from matrix to vector;\n",
    "3. what is the matrix $B$? The matrix $B_x$ ($B_y$) represent the derivative in the $x$-direction. The matrix $B_x$ is of size $N^2$-by-$(N+1)^2$ is obtained as obtained as $B_x = \\text{one-dimensional}(B)_x \\otimes I$ (and $B_y = I \\times \\text{one-dimensional}(B)_y$). The matrix $B$ is obtained by vertically stacking the matrix $B_x$ and $B_y$. That is, $B$ is a rectangular matrix of size $2\\,N^2$-by-$(N+1)^2$ such that the matrix-vector multiplication $B \\, {\\mathbf u}$ hold the gradient of the vector ${\\mathbf u}$ computed by a forward finite difference scheme. This means that $[{\\mathbf u}_x; {\\mathbf u}_y] = B \\, {\\mathbf u} = [B_x; B_y] \\, {\\mathbf u} = [B_x \\, {\\mathbf u}; B_y \\, {\\mathbf u}]$. We also have that $ A = B^T * B = [B_x^T B_y^T] * [B_x; B_y] = B_x^T * B_x + B_y^T * B_y$;\n",
    "   \n",
    "### Section 3.3: Sample Oral Exam Questions \n",
    "1. change location and standard deviation of Q1.HW1. Replace one Guassian by a sum of two Gaussian of same or opposite sign;  \n",
    "2. extend to 3D; \n",
    "\n",
    "### Section 4.3: Assignment on dielectricum between capacitor plates \n",
    "\n",
    "<b> (1/8) To do </b> \n",
    "Insert paper on [reference solution without dielectrum medium](https://www.quora.com/Why-is-the-electric-field-0-in-the-outer-region-of-parallel-plate-capacitors) and with dielectrum medium. Two-dimensional reference solution (translation invariant?) still missing? \n",
    "\n",
    "<b> (2/8) Recap on modeling electrical fields </b>\n",
    "Make problem and reference solution sketch in 1D and 2D. \n",
    "Refer to course slides [modeling fields](https://github.com/ziolai/finite_element_electrical_engineering/blob/main/slides/modeling-fields.pdf) and other references. \n",
    "\n",
    "<b> (3/8) Alternative construction of the tri-diagonal coefficient matrix in 1D</b>\n",
    "Verify that $A = B^T * B$ plus give a mathematical interpretation (provide sizes).  \n",
    "\n",
    "<b> (4/8) Alternative construction of the penta-diagonal coefficient matrix in 2D</b>\n",
    "Verify that $A = B^T * B = (B_x B_y)^T * (Bx By)$ plus give a mathematical interpretation (provide sizes).\n",
    "\n",
    "<b> (5/8) 1D Model without dielectricum </b>: similar to potential $u(x)$ generated by sum of two monopoles in second lab session. \n",
    "1. Reference solution by solving using e.g. the [solve_bvp()](https://docs.sciml.ai/DiffEqDocs/stable/tutorials/bvp_example/) function. Plot potential, $x$-component of the electrical field, and the $x$-component of the electric displacement; \n",
    "2. Define the continuous function $f(x)$ that defines the source function; \n",
    "3. Define the source vector by evaluating the function $f(x)$ in the nodes using the map function;\n",
    "4. Define the coefficient matrix as a graph Laplacian on a uniform 1D grid; define rectangular B (B^T) matrix of size $Np1$-by-$N$ as forward (backward) difference operator; define the A matrix of size $Np1$-by-$Np1$ as B^T * B;  \n",
    "5. Solve for various mesh width, compare potential, Ex and Dx with reference found earlier. \n",
    "\n",
    "<b> (6/8) 1D Model with dielectricum </b>: insert dielectricum in previous model \n",
    "1. Define continuous function that models the presence of the dielectrum medium for $0 <= x <= 1$;\n",
    "2. Define vector of weights d on size N by evaluating previous function in the midpoint of the cells using the map() function;  \n",
    "3. Define diagonal matrix D of size N-by-N as D = diag(d); \n",
    "4. Define the source vector as before; \n",
    "4. Define the coefficient matrix as a weighted graph Laplacian on the grid; A = B^T D B; \n",
    "\n",
    "<b> (7/8) 2D Model without dielectricum </b>: similar to potential $u(x,y)$ in third lab session.\n",
    "1. Define the continuous function $f(x,y)$ that defines the source function; \n",
    "2. Define the source vector by evaluating the function $f(x,y)$ in the nodes using the map function;\n",
    "\n",
    "<b> (8/8) 2D Model with dielectricum </b>\n",
    "1. Same right-hand side vector as before; \n",
    "2. By weighted graph Laplacian on a uniform 2D grid; insert link to A = BT*D*B where B is the edge-node incidence matrix. What is B? B is the node-edge incidence matrix. Number of edges is 2*nx*ny. Number of horizontal (vertical) edges is nx*ny; \n",
    "\n",
    "### Section 5.3: Other Assignments \n",
    "\n",
    "1. invite students to provide nice type-setting of the code using [carbon](https://carbon.now.sh);\n",
    "2. specify additional guideline: solve 1D problem analytically (by integrating f(x) twice), using sympy (using Pycall and sympy, see examples), or using solve_bvp (by a shooting method as in examples provided in the lab extension, does this work for saturation (?));\n",
    "3. specify additional guideline: solve 2D problems analytically. This is harder. One method is to work with manufactured solutions. This method works in two steps. In the first step, the reference solution u(x,y) is specified. In the second step, the source term and the boundary conditions are choosen to accomodate the reference solution; \n",
    "4. extend assignment with the implementation with periodic and/or Neumann boundary conditions; \n",
    "5. unit-test of the 1D and/or 2D code by scaling of the discretization error with the mesh width; \n",
    "6. use existing components for FDM implementation e.g. [MethodofLines.jl](https://methodoflines.sciml.ai/stable/); \n",
    "7. Ass 9: Lazy Kronecker - https://michielstock.github.io/Kronecker.jl/stable/man/factorization/ - Many forms of matrix factorization such as eigenvalue decomposition, LU factorization, Cholesky factorization etc., can be computed efficiently."
   ]
  },
  {
   "cell_type": "markdown",
   "id": "3037a5cc-7af6-460e-a5a3-62fea109dec6",
   "metadata": {
    "jp-MarkdownHeadingCollapsed": true
   },
   "source": [
    "## Section 4: Homework-2 - 1D FEM Model (TA2)\n",
    "\n",
    "### Section 1.4: Proposed Outline of HW2\n",
    "1. Q1: (build elementary vector):  \n",
    "2. Q2: (build elementary matrix):  \n",
    "3. Q3: (assemby of vector and matrix): \n",
    "4. Q4: (build gradient vector): element-wise in mid-point of the element;  \n",
    "5. Q5: redo Q1 through Q4 for second order elements \n",
    "7. Q6: accurary of first and second order elements \n",
    "8. Q7: eddy current: analytical reference, reference by solving using in-built solve-bvp function, skin-depth, adaptive mesh refinement using analytical solution and adaptive mesh refinement using first vs. first order elements; \n",
    "10. Q8: non-homogeneous material coefficients: analytical reference, adaptive mesh refinement using analytical solution and adaptive mesh refinement using first vs. first order elements;  \n",
    "11. Q9: physical interpretation; \n",
    "12. Q10: julia programming: typed programming language, multiple dispatch, type-stability, number of allocations and Q3 revisted \n",
    "\n",
    "### Section 2.4: Guidelines HW2\n",
    "1. bundle information for elementary vector, elementary mass matrix, elementary stiffness matrix and assembly for ssecond elements;\n",
    "   \n",
    "### Section 3.4: Sample Oral Exam Questions    \n",
    "1. assume mesh to be uniform. Compare FDM and FEM; \n",
    "\n",
    "### Section 4.4: Assignments on Adaptive Mesh Refinement  \n",
    "\n",
    "<b> (1/) Compare first order and exact solution </b>\n",
    "\n",
    "<b> (2/) Compare first order and second order solution  </b>\n",
    "\n",
    "<b> (3/) (Tentative) Using the discontinuity of the derivative as error indicator, i.e, using so-called ZZ-criterium </b>\n",
    "\n",
    "### Section 5.4: Other Assignments\n",
    "\n",
    "1. Ass 6 (discontinuous diffusion coefficient): Refer to reference solution using dsolve with discontinuous function for diffusion coefficient c(x). Provide details on how to ux on element from xi to xi+1 as ci(-1/h) + ci+1(1/h)(proportional to B) and c*ux (proportional to H) alongside u. Repeat computation for various values of c and plot u, ux and c*ux again; \n",
    "\n",
    "2. Ass 7 (eddy current assignment): Refer to reference solution using dsolve with additional zeroth-order term. Plot solution, derivative and flux; \n",
    "\n",
    "3. Ass 8 (second order elements): refer to additional notebook\n",
    "\n",
    "4. Ass 10: use benchmarktools to compare classical and lazy evaluation; \n",
    "\n",
    "### Section 6.4: Exact Integration of the Right-Hand Side Vector \n",
    "\n",
    "1. using Gauss integration for the computation of the right-hand side vector; "
   ]
  },
  {
   "cell_type": "markdown",
   "id": "be675864",
   "metadata": {},
   "source": [
    "## Section 5: Homework-2 - 2D FEM Model (TA3)\n",
    "\n",
    "### Section 1.5: Proposed Outline of HW3\n",
    "1. Q1: (build elementary vector):  \n",
    "2. Q2: (build elementary matrix):  \n",
    "3. Q3: (assemby of vector and matrix):\n",
    "4. Q4: mesh generation: mesh density, triangle vs. quadrilateral, first vs. second order\n",
    "5. Q5: (build gradient vector): element-wise in mid-point of the element;  \n",
    "6. Q6: redo Q1 through Q4 for first order quadrilateral elements or second order triangular elements \n",
    "7. Q7: non-linear saturation, solving non-linear problems  \n",
    "10. Q8: fringing, magnetic energy (force and torque, eddy current)   \n",
    "11. Q9: physical interpretation in 2D; \n",
    "12. Q10: julia programming: number of allocations \n",
    "\n",
    "### Section 2.5: Guidelines HW3\n",
    "1. details on geometry definition, mesh generation and handling meshes using GMSH;\n",
    "2. solving non-linear equations;\n",
    "\n",
    "### Section 3.5: Sample Oral Exam Questions  \n",
    "\n",
    "### Two-Pole Rotating Machine Example \n",
    "\n",
    "Mesh generation and FEM solve for z-component of the magnetic vector potential;  \n",
    "\n",
    "### Flying Carpet Example and Torque Computation \n",
    "\n",
    "### (Tentative) 2D on Unit Square \n",
    "1. mixed Dirichlet and Neumann boundary conditions; \n",
    "2. second order triangles;\n",
    "3. first and second order quadrilaterals; \n",
    "4. mixed triangles and quadrilaterals; see https://github.com/gijswl/ee4375_fem_ta/blob/main/general/gmsh/Advanced%20Mesh%20Generation.ipynb 5. unit test on the code by checking asymptotic rate of convergence;\n",
    "\n",
    "## Section 6: Lab Session \n",
    "\n",
    "### First Lab Session\n",
    "\n",
    "### Second Lab Session\n",
    "\n",
    "### Third Lab Session\n",
    "\n",
    "### Fourth Lab Session\n",
    "\n",
    "1. remove version with script. Maintain version as function only. Provide documentation with the functions. \n",
    "2. type-stability in assembling load-vector, stiffness matrix and mass matrix;\n",
    "3. increase readibility of loop over elements by changing syntax to for example in mesh; \n",
    "5. plotting of nodal values of the potential and element values of B-flux and H-field; \n",
    "\n",
    "### Fifth Lab Session\n",
    "\n",
    "### Sixth Lab Session\n",
    "\n",
    "### Seventh Lab Session\n",
    "\n",
    "## Section 7: Edits in the Slides (Domenico)\n",
    "\n",
    "### Input from student \n",
    "1. clearly distinguish between shape function and test function;\n",
    "2. explain how the error in setting $u'(0) \\phi(0)$ to zero is later corrected; \n",
    "\n",
    "### Slides on Modeling \n",
    "1. 3 slides on electrostatic field: electrostatic field equations in differential form, constitutive equation, introduce electrostatic potential, derive Poisson equation for the electrostatic potential: boundary conditions; \n",
    "2. 3 slides on magnetostatic fields: electrostatic field equations in differential form, constitutive equation : no external currents: Poisson equation scalar magnetic potential boundary conditions; \n",
    "3. 3 slides on magnetostatic fields: with external currents: double curl equation for vector magnetic potential;\n",
    "4. 2 slides on quasi-stationary transient magnetic fields: double curl equation plus transient term \n",
    "5. 1 slides on quasi-stationary time-harmonic magnetic fields: double curl equation plus complex shift; \n",
    "6. 2 slides on perpendicular current formulation in 2D \n",
    "7. 2 slides on skin depth computation: analytical reference solution, skin depth, peak value of B and H in the skin depth layer; \n",
    "8. 2 slides on electromagnetic loss computation: iron and copper losses; \n",
    "9. 2 slides on electromagnetic force and torque computation: Lorentz force, Maxwell stress tensor;\n",
    "\n",
    "## Section 8: Unsorted Loose Ends\n",
    "\n",
    "### Eddy Current Assignment\n",
    "\n",
    "#### Modeling part\n",
    "Check what Gijs has already written down. \n",
    "1. extend text of the assignment: specify geometry of single conductive domain with applied current density or air-coil-core; specify material coefficients and current density distribution on domain;\n",
    "2. explain what eddy currents are: conductive material: Faraday-Lenz: eddy currents opposing primary effect; \n",
    "3. provide intuitive explanation of the answer to expect; (lower fields, stray field lines)\n",
    "\n",
    "#### Analytical part \n",
    "1. how this effect is modeled mathematically: extension of vector-potential equation with zeroth-order term;  \n",
    "2. derive equation for the z-component of the vector potential; \n",
    "3. single conductive domain: analytical reference solution from paper; various frequencies; expression for skin depth; \n",
    "4. domain with multiple subdomains; various frequencies; \n",
    "5. extend documentation to cover mass matrix per element using linear elements; \n",
    "6. extend documentation to cover stiffness and mass matrix per element and assembly using quadratic elements; see notebook in part developed using Sympy; \n",
    "7. document assembly with triple loop, single loop and no loop using sparse command; \n",
    "8. extend to stiffness to spatially variable diffusion coefficient - quadrature for integration per element; \n",
    "9. provide list of pointers in a Jupiter notebook; \n",
    " \n",
    "#### Numerical part \n",
    "1. generate mesh ensuring presence of nodes on subdomain boundaries; \n",
    "2. solving using first and second order elements for various current values in the coil; \n",
    "3. post-process for magnetic potential, flux B and field H;\n",
    "4. compare with analytical solution for various mesh sizes for first and second order elements; \n",
    "\n",
    "#### Additions \n",
    "1. verify using gridap.jl, ferrite.jl or alternatives;\n",
    "2. extend to second order elements; \n",
    "3. extend to circuit equation for multi-turn winding;  \n",
    "\n",
    "### Modeling Ferromagnetic Saturation \n",
    "\n",
    "#### Analytical Part \n",
    "1. extend the presentation of the non-linear BH-curve computation with the computation of the derivative dnorrmB2/dnu; \n",
    "\n",
    "#### Numerical Part \n",
    "1. extend assignment with explanation on damped repeated (Picard iteration) substitution iteration to resolve the non-linearity. Ask stuydents to read up on this matter. Do simplified exercise first?\n",
    "1. extend the computations of the stiffness matrix to the analytical computation of the Jacobian including the dnorrmB2/dnu term; \n",
    "1. verify the analytical computation of the Jacobian using automatic differentiation; \n",
    "\n",
    "### Combination of Two Above Assignments: Modeling Eddy Currents in the Presence of Saturation \n",
    "Switch to repeated iterations to solve the eddy-current problem in the presence of saturation; \n",
    "\n",
    "### Circuit Equations\n",
    "1. voltage driven stranded conductor; see [handling constraints in FerriteFEM](https://ferrite-fem.github.io/Ferrite.jl/stable/manual/constraints/); \n",
    "2. current driven solid conductor; \n",
    "\n",
    "### Parallel Assembly \n",
    "using pmap, DAGs and/or distributed computing \n",
    "\n",
    "### Parallel Solve \n",
    "using (un)preconditioned Krylov subspace methods using PETSc.jl "
   ]
  },
  {
   "cell_type": "markdown",
   "id": "84fd06e9-d3b1-4256-8408-61bcf3c1df55",
   "metadata": {},
   "source": [
    "# Removing StaticRanges to Access a Global Vector from Lab-4 - Do alternatives exists \n",
    "\n",
    "## Indexing a Global Vector - Type Stability \n",
    "\n",
    "1. union in @code_warntype output due to for-loop: this [discourse post](https://discourse.julialang.org/t/code-warntype-gives-yellow-union-nothing-tuple-int64-int64-in-for-loops/52814); "
   ]
  },
  {
   "cell_type": "markdown",
   "id": "4c6bd189-2865-446c-bb33-e2727ceef2ea",
   "metadata": {},
   "source": [
    "### First Example: Access a Global Vector by Single for-loop"
   ]
  },
  {
   "cell_type": "code",
   "execution_count": 58,
   "id": "00a0718b-c13e-4ca2-9c0a-6e8f8ed0d216",
   "metadata": {},
   "outputs": [
    {
     "data": {
      "text/plain": [
       "foo (generic function with 2 methods)"
      ]
     },
     "execution_count": 58,
     "metadata": {},
     "output_type": "execute_result"
    }
   ],
   "source": [
    "function foo(mesh) \n",
    "\n",
    "    n = length(mesh)\n",
    "    I = zeros(Int64,n)  \n",
    "    \n",
    "    for i=1:n \n",
    "        I[i] = 1\n",
    "    end \n",
    "\n",
    "    return I\n",
    "end "
   ]
  },
  {
   "cell_type": "code",
   "execution_count": 59,
   "id": "d82a7da6-20ba-4b5d-b8fe-9c4e07db4cbd",
   "metadata": {},
   "outputs": [
    {
     "name": "stdout",
     "output_type": "stream",
     "text": [
      "MethodInstance for foo(::Vector{Int64})\n",
      "  from foo(\u001b[90mmesh\u001b[39m)\u001b[90m @\u001b[39m \u001b[90mMain\u001b[39m \u001b[90m\u001b[4mIn[58]:1\u001b[24m\u001b[39m\n",
      "Arguments\n",
      "  #self#\u001b[36m::Core.Const(foo)\u001b[39m\n",
      "  mesh\u001b[36m::Vector{Int64}\u001b[39m\n",
      "Locals\n",
      "  @_3\u001b[33m\u001b[1m::Union{Nothing, Tuple{Int64, Int64}}\u001b[22m\u001b[39m\n",
      "  I\u001b[36m::Vector{Int64}\u001b[39m\n",
      "  n\u001b[36m::Int64\u001b[39m\n",
      "  i\u001b[36m::Int64\u001b[39m\n",
      "Body\u001b[36m::Vector{Int64}\u001b[39m\n",
      "\u001b[90m1 ─\u001b[39m       (n = Main.length(mesh))\n",
      "\u001b[90m│  \u001b[39m       (I = Main.zeros(Main.Int64, n))\n",
      "\u001b[90m│  \u001b[39m %3  = (1:n)\u001b[36m::Core.PartialStruct(UnitRange{Int64}, Any[Core.Const(1), Int64])\u001b[39m\n",
      "\u001b[90m│  \u001b[39m       (@_3 = Base.iterate(%3))\n",
      "\u001b[90m│  \u001b[39m %5  = (@_3 === nothing)\u001b[36m::Bool\u001b[39m\n",
      "\u001b[90m│  \u001b[39m %6  = Base.not_int(%5)\u001b[36m::Bool\u001b[39m\n",
      "\u001b[90m└──\u001b[39m       goto #4 if not %6\n",
      "\u001b[90m2 ┄\u001b[39m %8  = @_3\u001b[36m::Tuple{Int64, Int64}\u001b[39m\n",
      "\u001b[90m│  \u001b[39m       (i = Core.getfield(%8, 1))\n",
      "\u001b[90m│  \u001b[39m %10 = Core.getfield(%8, 2)\u001b[36m::Int64\u001b[39m\n",
      "\u001b[90m│  \u001b[39m       Base.setindex!(I, 1, i)\n",
      "\u001b[90m│  \u001b[39m       (@_3 = Base.iterate(%3, %10))\n",
      "\u001b[90m│  \u001b[39m %13 = (@_3 === nothing)\u001b[36m::Bool\u001b[39m\n",
      "\u001b[90m│  \u001b[39m %14 = Base.not_int(%13)\u001b[36m::Bool\u001b[39m\n",
      "\u001b[90m└──\u001b[39m       goto #4 if not %14\n",
      "\u001b[90m3 ─\u001b[39m       goto #2\n",
      "\u001b[90m4 ┄\u001b[39m       return I\n",
      "\n",
      "  0.000009 seconds (2 allocations: 39.109 KiB)\n"
     ]
    }
   ],
   "source": [
    "# force compilation \n",
    "n = 4; mesh = Vector(1:n); foo(mesh)\n",
    "# actual computation \n",
    "n = 5000; mesh = Vector(1:n)\n",
    "# @time foo(mesh,n);\n",
    "@code_warntype foo(mesh)\n",
    "@time foo(mesh);"
   ]
  },
  {
   "cell_type": "markdown",
   "id": "02fd5dc1-d480-489d-8e17-9673c3cbaabc",
   "metadata": {},
   "source": [
    "### Second Example: Double for-loop without using StaticArrays "
   ]
  },
  {
   "cell_type": "code",
   "execution_count": 137,
   "id": "e32ad755-2105-4795-88ba-736813494d72",
   "metadata": {},
   "outputs": [
    {
     "data": {
      "text/plain": [
       "foo (generic function with 2 methods)"
      ]
     },
     "execution_count": 137,
     "metadata": {},
     "output_type": "execute_result"
    }
   ],
   "source": [
    "function foo(mesh,ndofs2) \n",
    "\n",
    "    I = zeros(Int64,length(mesh)*ndofs2)\n",
    "    \n",
    "    for e in mesh \n",
    "        I[(e-1)*ndofs2+1] = 1\n",
    "        I[(e-1)*ndofs2+2] = 1\n",
    "        I[(e-1)*ndofs2+3] = 1\n",
    "        I[(e-1)*ndofs2+4] = 1\n",
    "    end \n",
    "\n",
    "    return I\n",
    "end "
   ]
  },
  {
   "cell_type": "code",
   "execution_count": 138,
   "id": "c7f1f82f-ed1a-4d63-a6a1-3dd438cbbbe2",
   "metadata": {},
   "outputs": [
    {
     "name": "stdout",
     "output_type": "stream",
     "text": [
      "  0.000044 seconds (2 allocations: 156.297 KiB)\n"
     ]
    }
   ],
   "source": [
    "# force compilation\n",
    "n = 4; ndofs = 2; ndofs2 = ndofs^2; mesh = Vector(1:n); foo(mesh,ndofs2)\n",
    "# actual computation \n",
    "n = 5000; ndofs = 2; ndofs2 = ndofs^2; mesh = Vector(1:n);\n",
    "@time foo(mesh,ndofs2);"
   ]
  },
  {
   "cell_type": "code",
   "execution_count": 148,
   "id": "05786ac8",
   "metadata": {},
   "outputs": [
    {
     "data": {
      "text/plain": [
       "foo (generic function with 2 methods)"
      ]
     },
     "execution_count": 148,
     "metadata": {},
     "output_type": "execute_result"
    }
   ],
   "source": [
    "function foo(mesh,ndofs2) \n",
    "\n",
    "    I = zeros(Int64,length(mesh)*ndofs2)\n",
    "    Jloc = SOneTo(ndofs2)\n",
    "    \n",
    "    for e in mesh \n",
    "        # Iloc = StaticArrays.SUnitRange((e-1)*ndofs2+1, e*ndofs2)\n",
    "        # Iloc = SVector{ndofs2,Int64}((e-1)*ndofs2+1:e*ndofs2) \n",
    "        # Iloc = (e)*Jloc\n",
    "        I[Jloc] = Jloc \n",
    "    end \n",
    "\n",
    "    return I\n",
    "end"
   ]
  },
  {
   "cell_type": "markdown",
   "id": "ec5bcf8e-57b2-41ba-a411-7407fd1e8d6d",
   "metadata": {},
   "source": [
    "### Third Example: Double for-loop using StaticArrays "
   ]
  },
  {
   "cell_type": "code",
   "execution_count": 149,
   "id": "c35a6935-3303-4ef3-89e0-0f300bbd4958",
   "metadata": {},
   "outputs": [],
   "source": [
    "# how to msan\n",
    "using StaticArrays"
   ]
  },
  {
   "cell_type": "code",
   "execution_count": 150,
   "id": "ebccc706-8d1b-4081-86ca-302d2d8a8c1b",
   "metadata": {},
   "outputs": [
    {
     "name": "stdout",
     "output_type": "stream",
     "text": [
      "  0.000085 seconds (2 allocations: 156.297 KiB)\n"
     ]
    }
   ],
   "source": [
    "# force compilation\n",
    "n = 4; ndofs = 2; ndofs2 = ndofs^2; mesh = Vector(1:n); foo(mesh,ndofs2)\n",
    "# actual computation \n",
    "n = 5000; ndofs = 2; ndofs2 = ndofs^2; mesh = Vector(1:n);\n",
    "@time foo(mesh,ndofs2);"
   ]
  },
  {
   "cell_type": "code",
   "execution_count": 151,
   "id": "5aec5cef-ed21-4d41-8cb5-e849583c01b1",
   "metadata": {},
   "outputs": [
    {
     "name": "stdout",
     "output_type": "stream",
     "text": [
      "MethodInstance for foo(::Vector{Int64}, ::Int64)\n",
      "  from foo(\u001b[90mmesh\u001b[39m, \u001b[90mndofs2\u001b[39m)\u001b[90m @\u001b[39m \u001b[90mMain\u001b[39m \u001b[90m\u001b[4mIn[148]:1\u001b[24m\u001b[39m\n",
      "Arguments\n",
      "  #self#\u001b[36m::Core.Const(foo)\u001b[39m\n",
      "  mesh\u001b[36m::Vector{Int64}\u001b[39m\n",
      "  ndofs2\u001b[36m::Int64\u001b[39m\n",
      "Locals\n",
      "  @_4\u001b[33m\u001b[1m::Union{Nothing, Tuple{Int64, Int64}}\u001b[22m\u001b[39m\n",
      "  Jloc\u001b[91m\u001b[1m::SOneTo\u001b[22m\u001b[39m\n",
      "  I\u001b[36m::Vector{Int64}\u001b[39m\n",
      "  e\u001b[36m::Int64\u001b[39m\n",
      "Body\u001b[36m::Vector{Int64}\u001b[39m\n",
      "\u001b[90m1 ─\u001b[39m %1  = Main.Int64\u001b[36m::Core.Const(Int64)\u001b[39m\n",
      "\u001b[90m│  \u001b[39m %2  = Main.length(mesh)\u001b[36m::Int64\u001b[39m\n",
      "\u001b[90m│  \u001b[39m %3  = (%2 * ndofs2)\u001b[36m::Int64\u001b[39m\n",
      "\u001b[90m│  \u001b[39m       (I = Main.zeros(%1, %3))\n",
      "\u001b[90m│  \u001b[39m       (Jloc = Main.SOneTo(ndofs2))\n",
      "\u001b[90m│  \u001b[39m %6  = mesh\u001b[36m::Vector{Int64}\u001b[39m\n",
      "\u001b[90m│  \u001b[39m       (@_4 = Base.iterate(%6))\n",
      "\u001b[90m│  \u001b[39m %8  = (@_4 === nothing)\u001b[36m::Bool\u001b[39m\n",
      "\u001b[90m│  \u001b[39m %9  = Base.not_int(%8)\u001b[36m::Bool\u001b[39m\n",
      "\u001b[90m└──\u001b[39m       goto #4 if not %9\n",
      "\u001b[90m2 ┄\u001b[39m %11 = @_4\u001b[36m::Tuple{Int64, Int64}\u001b[39m\n",
      "\u001b[90m│  \u001b[39m       (e = Core.getfield(%11, 1))\n",
      "\u001b[90m│  \u001b[39m %13 = Core.getfield(%11, 2)\u001b[36m::Int64\u001b[39m\n",
      "\u001b[90m│  \u001b[39m       Base.setindex!(I, Jloc, Jloc)\n",
      "\u001b[90m│  \u001b[39m       (@_4 = Base.iterate(%6, %13))\n",
      "\u001b[90m│  \u001b[39m %16 = (@_4 === nothing)\u001b[36m::Bool\u001b[39m\n",
      "\u001b[90m│  \u001b[39m %17 = Base.not_int(%16)\u001b[36m::Bool\u001b[39m\n",
      "\u001b[90m└──\u001b[39m       goto #4 if not %17\n",
      "\u001b[90m3 ─\u001b[39m       goto #2\n",
      "\u001b[90m4 ┄\u001b[39m       return I\n",
      "\n"
     ]
    }
   ],
   "source": [
    "@code_warntype foo(mesh,ndofs2) "
   ]
  },
  {
   "cell_type": "markdown",
   "id": "2401ebb8-e989-4902-ac06-da1c21ae5b6d",
   "metadata": {},
   "source": [
    "# Type Stability - Type Inference - @code_warntype \n",
    "\n",
    "Information gathered from [this discourse post](https://discourse.julialang.org/t/code-warntype-understanding/48627/10). \n",
    "\n",
    "Note that the macro @code_warntype only uses the types (not the actual values) of the input provided."
   ]
  },
  {
   "cell_type": "markdown",
   "id": "db24c8a2-ab02-4e5e-9f29-d7c78b642064",
   "metadata": {},
   "source": [
    "## Example-1"
   ]
  },
  {
   "cell_type": "code",
   "execution_count": 64,
   "id": "536decfd-1c73-4b54-bc02-ab5266e1dafb",
   "metadata": {},
   "outputs": [
    {
     "data": {
      "text/plain": [
       "Int64"
      ]
     },
     "execution_count": 64,
     "metadata": {},
     "output_type": "execute_result"
    }
   ],
   "source": [
    "# the type of 6 can clearly be recovered\n",
    "typeof(6)"
   ]
  },
  {
   "cell_type": "code",
   "execution_count": 65,
   "id": "7f81d768-acdc-4049-a191-01e0aa2816d0",
   "metadata": {},
   "outputs": [
    {
     "name": "stdout",
     "output_type": "stream",
     "text": [
      "MethodInstance for (::var\"#25#26\")(::Int64)\n",
      "  from (::var\"#25#26\")(\u001b[90mx\u001b[39m)\u001b[90m @\u001b[39m \u001b[90mMain\u001b[39m \u001b[90m\u001b[4mIn[65]:2\u001b[24m\u001b[39m\n",
      "Arguments\n",
      "  #self#\u001b[36m::Core.Const(var\"#25#26\"())\u001b[39m\n",
      "  x\u001b[36m::Int64\u001b[39m\n",
      "Body\u001b[36m::Int64\u001b[39m\n",
      "\u001b[90m1 ─\u001b[39m %1 = (3 * x)\u001b[36m::Int64\u001b[39m\n",
      "\u001b[90m└──\u001b[39m      return %1\n",
      "\n"
     ]
    }
   ],
   "source": [
    "# call 1 - type stable - the type of argument can be inferred \n",
    "model = x -> 3x\n",
    "@code_warntype model(6)"
   ]
  },
  {
   "cell_type": "code",
   "execution_count": 22,
   "id": "ddf6ded1-5cdf-46b4-ae1b-f94e84c9d88f",
   "metadata": {},
   "outputs": [
    {
     "data": {
      "text/plain": [
       ":(InteractiveUtils.code_warntype(model, (Base.typesof)(6)))"
      ]
     },
     "execution_count": 22,
     "metadata": {},
     "output_type": "execute_result"
    }
   ],
   "source": [
    "# call 1 - explained by macro expansion\n",
    "model = x -> 3x\n",
    "@macroexpand @code_warntype model(6)"
   ]
  },
  {
   "cell_type": "code",
   "execution_count": 23,
   "id": "432dda68-1b18-45a7-a06a-e69ce72d4b9f",
   "metadata": {},
   "outputs": [
    {
     "name": "stdout",
     "output_type": "stream",
     "text": [
      "MethodInstance for modelcall()\n",
      "  from modelcall()\u001b[90m @\u001b[39m \u001b[90mMain\u001b[39m \u001b[90m\u001b[4mIn[23]:3\u001b[24m\u001b[39m\n",
      "Arguments\n",
      "  #self#\u001b[36m::Core.Const(modelcall)\u001b[39m\n",
      "Body\u001b[91m\u001b[1m::Any\u001b[22m\u001b[39m\n",
      "\u001b[90m1 ─\u001b[39m %1 = Main.model(7)\u001b[91m\u001b[1m::Any\u001b[22m\u001b[39m\n",
      "\u001b[90m└──\u001b[39m      return %1\n",
      "\n"
     ]
    }
   ],
   "source": [
    "# call 2 \n",
    "model = x -> 3x\n",
    "modelcall() = model(7)\n",
    "@code_warntype modelcall()"
   ]
  },
  {
   "cell_type": "code",
   "execution_count": 24,
   "id": "330c61cf-320a-4ede-b28a-b5e605f748ff",
   "metadata": {},
   "outputs": [
    {
     "data": {
      "text/plain": [
       ":(InteractiveUtils.code_warntype(modelcall, (Base.typesof)()))"
      ]
     },
     "execution_count": 24,
     "metadata": {},
     "output_type": "execute_result"
    }
   ],
   "source": [
    "# call 2 - explained by macro expansion\n",
    "model = x -> 3x\n",
    "modelcall() = model(7)\n",
    "@macroexpand @code_warntype modelcall()"
   ]
  },
  {
   "cell_type": "markdown",
   "id": "c0660215-dfdf-48e4-9016-68eae6c0d645",
   "metadata": {},
   "source": [
    "## Example 2 "
   ]
  },
  {
   "cell_type": "code",
   "execution_count": 25,
   "id": "ec95adf5-666d-432e-8b23-2657ff05d0ce",
   "metadata": {},
   "outputs": [
    {
     "data": {
      "text/plain": [
       "g (generic function with 1 method)"
      ]
     },
     "execution_count": 25,
     "metadata": {},
     "output_type": "execute_result"
    }
   ],
   "source": [
    "function f(x)\n",
    "    if x < 1\n",
    "        return \"hello\"\n",
    "    else\n",
    "        return 1.0\n",
    "    end\n",
    "end\n",
    "\n",
    "function g()\n",
    "    x = 2\n",
    "    f(x)\n",
    "end"
   ]
  },
  {
   "cell_type": "code",
   "execution_count": 28,
   "id": "6619d2a8-9a78-4ea3-b039-aaeda8268f4d",
   "metadata": {},
   "outputs": [
    {
     "name": "stdout",
     "output_type": "stream",
     "text": [
      "MethodInstance for g()\n",
      "  from g()\u001b[90m @\u001b[39m \u001b[90mMain\u001b[39m \u001b[90m\u001b[4mIn[25]:9\u001b[24m\u001b[39m\n",
      "Arguments\n",
      "  #self#\u001b[36m::Core.Const(g)\u001b[39m\n",
      "Locals\n",
      "  x\u001b[36m::Int64\u001b[39m\n",
      "Body\u001b[36m::Float64\u001b[39m\n",
      "\u001b[90m1 ─\u001b[39m      (x = 2)\n",
      "\u001b[90m│  \u001b[39m %2 = Main.f(x::Core.Const(2))\u001b[36m::Core.Const(1.0)\u001b[39m\n",
      "\u001b[90m└──\u001b[39m      return %2\n",
      "\n"
     ]
    }
   ],
   "source": [
    "@code_warntype g()"
   ]
  },
  {
   "cell_type": "code",
   "execution_count": 30,
   "id": "4a174980",
   "metadata": {},
   "outputs": [
    {
     "name": "stdout",
     "output_type": "stream",
     "text": [
      "MethodInstance for g()\n",
      "  from g()\u001b[90m @\u001b[39m \u001b[90mMain\u001b[39m \u001b[90m\u001b[4mIn[25]:9\u001b[24m\u001b[39m\n",
      "Arguments\n",
      "  #self#\u001b[36m::Core.Const(g)\u001b[39m\n",
      "Locals\n",
      "  x\u001b[36m::Int64\u001b[39m\n",
      "Body\u001b[36m::Float64\u001b[39m\n",
      "\u001b[90m1 ─\u001b[39m      (x = 2)\n",
      "\u001b[90m│  \u001b[39m %2 = Main.f(x::Core.Const(2))\u001b[36m::Core.Const(1.0)\u001b[39m\n",
      "\u001b[90m└──\u001b[39m      return %2\n",
      "\n"
     ]
    }
   ],
   "source": [
    "@code_warntype g()"
   ]
  },
  {
   "cell_type": "markdown",
   "id": "dc66746f-5b45-46c0-8e87-7d2aa4cae116",
   "metadata": {},
   "source": [
    "# Using Modules \n",
    "\n",
    "Example from Information gathered from [this discourse post](https://discourse.julialang.org/t/code-warntype-understanding/48627/10). "
   ]
  },
  {
   "cell_type": "code",
   "execution_count": 45,
   "id": "86f48a56-6896-4d23-87c5-4000ba9c7a43",
   "metadata": {},
   "outputs": [
    {
     "ename": "LoadError",
     "evalue": "ArgumentError: Package PartialWaveFunctions not found in current path.\n- Run `import Pkg; Pkg.add(\"PartialWaveFunctions\")` to install the PartialWaveFunctions package.",
     "output_type": "error",
     "traceback": [
      "ArgumentError: Package PartialWaveFunctions not found in current path.\n- Run `import Pkg; Pkg.add(\"PartialWaveFunctions\")` to install the PartialWaveFunctions package.",
      "",
      "Stacktrace:",
      " [1] macro expansion",
      "   @ ./loading.jl:1630 [inlined]",
      " [2] macro expansion",
      "   @ ./lock.jl:267 [inlined]",
      " [3] require(into::Module, mod::Symbol)",
      "   @ Base ./loading.jl:1611"
     ]
    }
   ],
   "source": [
    "module MyTest\n",
    "    using PartialWaveFunctions\n",
    "    Psi(L,M,cosθ,ϕ) = sqrt((2L+1)/(2π))*wignerd(L,M,0,cosθ)*sin(M*ϕ)\n",
    "    recamp(cosθ,ϕ,amps,LMs) = sum(a*Psi(L,M,cosθ,ϕ) for (a, (L, M)) in zip(amps,LMs))\n",
    "    export recamp, Psi\n",
    "end\n",
    "# \n",
    "using .MyTest\n",
    "\n",
    "const testLM = [(L=1, M=1), (L=3,M=1)]\n",
    "const testA = rand(Complex{Float64},2)\n",
    "#\n",
    "@code_warntype Psi(3,1,0.3,0.3) # ::Float64\n",
    "recamp(0.3,0.3,testA,testLM)\n",
    "@code_warntype recamp(0.3,0.3,testA,testLM) # ::Any\n",
    "#\n",
    "function test()\n",
    "    return recamp(0.3,0.3,testA,testLM)\n",
    "end\n",
    "@code_warntype test() # Body::Float64"
   ]
  },
  {
   "cell_type": "code",
   "execution_count": null,
   "id": "b4da8850-43a5-466c-86bd-9de5835cad1a",
   "metadata": {},
   "outputs": [],
   "source": []
  }
 ],
 "metadata": {
  "kernelspec": {
   "display_name": "Julia 1.9.1",
   "language": "julia",
   "name": "julia-1.9"
  },
  "language_info": {
   "file_extension": ".jl",
   "mimetype": "application/julia",
   "name": "julia",
   "version": "1.9.1"
  }
 },
 "nbformat": 4,
 "nbformat_minor": 5
}
