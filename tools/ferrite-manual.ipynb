{
 "cells": [
  {
   "cell_type": "markdown",
   "id": "6d5333c0",
   "metadata": {},
   "source": [
    "# My Ferrite.jl Manual  "
   ]
  },
  {
   "cell_type": "markdown",
   "id": "7b692504",
   "metadata": {},
   "source": [
    "## Import Packages"
   ]
  },
  {
   "cell_type": "code",
   "execution_count": 1,
   "id": "20af491b",
   "metadata": {},
   "outputs": [],
   "source": [
    "using SparseArrays\n",
    "using Ferrite\n",
    "using Plots "
   ]
  },
  {
   "cell_type": "markdown",
   "id": "9566adb3",
   "metadata": {},
   "source": [
    "## Section 1: Introduction \n",
    "\n",
    "<b>Goal</b>: To provide a manual for Ferrite.jl to be used in the EE4375 and similar courses.  "
   ]
  },
  {
   "cell_type": "markdown",
   "id": "7f32cb37",
   "metadata": {},
   "source": [
    "## Section 2: Mesh Generation for a Rectangle in 1D\n",
    "Here we show how to generate a (linear or quadratic) 1D mesh, traverse over the mesh and evaluate functions on the mesh. "
   ]
  },
  {
   "cell_type": "code",
   "execution_count": 2,
   "id": "ee0d73d7",
   "metadata": {},
   "outputs": [
    {
     "data": {
      "text/plain": [
       "Grid{1, Line, Float64} with 10 Line cells and 11 nodes"
      ]
     },
     "execution_count": 2,
     "metadata": {},
     "output_type": "execute_result"
    }
   ],
   "source": [
    "# generate 1D grid for testing purposes \n",
    "nels  = (10,)        # number of elements in each spatial direction\n",
    "left  = Vec((0.,))   # start point for geometry: lower-left point of the square \n",
    "right = Vec((1.,))   # end point for geometry: upper-right point of the square\n",
    "#grid = generate_grid(Line, nels,left, right) \n",
    "grid = generate_grid(Line,nels,left,right)"
   ]
  },
  {
   "cell_type": "code",
   "execution_count": 3,
   "id": "4c71114a",
   "metadata": {},
   "outputs": [
    {
     "data": {
      "text/plain": [
       "Line((1, 2))"
      ]
     },
     "metadata": {},
     "output_type": "display_data"
    },
    {
     "data": {
      "text/plain": [
       "Line((2, 3))"
      ]
     },
     "metadata": {},
     "output_type": "display_data"
    },
    {
     "data": {
      "text/plain": [
       "Line((3, 4))"
      ]
     },
     "metadata": {},
     "output_type": "display_data"
    },
    {
     "data": {
      "text/plain": [
       "Line((4, 5))"
      ]
     },
     "metadata": {},
     "output_type": "display_data"
    },
    {
     "data": {
      "text/plain": [
       "Line((5, 6))"
      ]
     },
     "metadata": {},
     "output_type": "display_data"
    },
    {
     "data": {
      "text/plain": [
       "Line((6, 7))"
      ]
     },
     "metadata": {},
     "output_type": "display_data"
    },
    {
     "data": {
      "text/plain": [
       "Line((7, 8))"
      ]
     },
     "metadata": {},
     "output_type": "display_data"
    },
    {
     "data": {
      "text/plain": [
       "Line((8, 9))"
      ]
     },
     "metadata": {},
     "output_type": "display_data"
    },
    {
     "data": {
      "text/plain": [
       "Line((9, 10))"
      ]
     },
     "metadata": {},
     "output_type": "display_data"
    },
    {
     "data": {
      "text/plain": [
       "Line((10, 11))"
      ]
     },
     "metadata": {},
     "output_type": "display_data"
    }
   ],
   "source": [
    "for cell in grid.cells display(cell) end "
   ]
  },
  {
   "cell_type": "markdown",
   "id": "6e78bbfa",
   "metadata": {},
   "source": [
    "## Section 3: Mesh Generation for a Rectangle in 2D\n",
    "\n",
    "Here we explore the mesh generator that Ferrite provides. "
   ]
  },
  {
   "cell_type": "code",
   "execution_count": 4,
   "id": "89fcba5d",
   "metadata": {},
   "outputs": [],
   "source": [
    "#?generate_grid"
   ]
  },
  {
   "cell_type": "code",
   "execution_count": 5,
   "id": "858e5884",
   "metadata": {},
   "outputs": [],
   "source": [
    "# use \"methods(generate_grid)\" to see alternative grid types  \n",
    "#methods(generate_grid)"
   ]
  },
  {
   "cell_type": "code",
   "execution_count": 6,
   "id": "fb8c8e8e",
   "metadata": {},
   "outputs": [
    {
     "data": {
      "text/plain": [
       "Grid{2, Quadrilateral, Float64} with 4 Quadrilateral cells and 9 nodes"
      ]
     },
     "execution_count": 6,
     "metadata": {},
     "output_type": "execute_result"
    }
   ],
   "source": [
    "# generate coarse 2D grid for testing purposes \n",
    "nels  = (2, 2)            # number of elements in each spatial direction\n",
    "left  = Vec((0.0, 0.0))   # start point for geometry: lower-left point of the square \n",
    "right = Vec((1.0, 1.0,))  # end point for geometry: upper-right point of the square\n",
    "grid = generate_grid(Quadrilateral, nels,left, right) \n",
    "# grid = generate_grid(QuadraticQuadrilateral, nels,left, right) "
   ]
  },
  {
   "cell_type": "markdown",
   "id": "f944c548",
   "metadata": {},
   "source": [
    "### Loop over elements in the mesh "
   ]
  },
  {
   "cell_type": "code",
   "execution_count": 7,
   "id": "e5388fad",
   "metadata": {},
   "outputs": [],
   "source": [
    "#dump(grid.nodes)"
   ]
  },
  {
   "cell_type": "code",
   "execution_count": 8,
   "id": "67a2a228",
   "metadata": {},
   "outputs": [
    {
     "data": {
      "text/plain": [
       "Quadrilateral((1, 2, 5, 4))"
      ]
     },
     "metadata": {},
     "output_type": "display_data"
    },
    {
     "data": {
      "text/plain": [
       "Quadrilateral((2, 3, 6, 5))"
      ]
     },
     "metadata": {},
     "output_type": "display_data"
    },
    {
     "data": {
      "text/plain": [
       "Quadrilateral((4, 5, 8, 7))"
      ]
     },
     "metadata": {},
     "output_type": "display_data"
    },
    {
     "data": {
      "text/plain": [
       "Quadrilateral((5, 6, 9, 8))"
      ]
     },
     "metadata": {},
     "output_type": "display_data"
    }
   ],
   "source": [
    "for cell in grid.cells display(cell) end "
   ]
  },
  {
   "cell_type": "code",
   "execution_count": 9,
   "id": "9496a873",
   "metadata": {},
   "outputs": [
    {
     "data": {
      "text/plain": [
       "Node{2, Float64}([0.0, 0.0])"
      ]
     },
     "metadata": {},
     "output_type": "display_data"
    },
    {
     "data": {
      "text/plain": [
       "Node{2, Float64}([0.5, 0.0])"
      ]
     },
     "metadata": {},
     "output_type": "display_data"
    },
    {
     "data": {
      "text/plain": [
       "Node{2, Float64}([1.0, 0.0])"
      ]
     },
     "metadata": {},
     "output_type": "display_data"
    },
    {
     "data": {
      "text/plain": [
       "Node{2, Float64}([0.0, 0.5])"
      ]
     },
     "metadata": {},
     "output_type": "display_data"
    },
    {
     "data": {
      "text/plain": [
       "Node{2, Float64}([0.5, 0.5])"
      ]
     },
     "metadata": {},
     "output_type": "display_data"
    },
    {
     "data": {
      "text/plain": [
       "Node{2, Float64}([1.0, 0.5])"
      ]
     },
     "metadata": {},
     "output_type": "display_data"
    },
    {
     "data": {
      "text/plain": [
       "Node{2, Float64}([0.0, 1.0])"
      ]
     },
     "metadata": {},
     "output_type": "display_data"
    },
    {
     "data": {
      "text/plain": [
       "Node{2, Float64}([0.5, 1.0])"
      ]
     },
     "metadata": {},
     "output_type": "display_data"
    },
    {
     "data": {
      "text/plain": [
       "Node{2, Float64}([1.0, 1.0])"
      ]
     },
     "metadata": {},
     "output_type": "display_data"
    }
   ],
   "source": [
    "for node in grid.nodes display(node) end"
   ]
  },
  {
   "cell_type": "markdown",
   "id": "5b1364a9",
   "metadata": {},
   "source": [
    "### Evaluate a function over the mesh "
   ]
  },
  {
   "cell_type": "code",
   "execution_count": 10,
   "id": "2c590feb",
   "metadata": {},
   "outputs": [
    {
     "name": "stdout",
     "output_type": "stream",
     "text": [
      "Node{2, Float64}\n",
      "  x: Vec{2, Float64}\n",
      "    data: Tuple{Float64, Float64}\n",
      "      1: Float64 0.0\n",
      "      2: Float64 0.0\n"
     ]
    }
   ],
   "source": [
    "# what is a single node \n",
    "node = grid.nodes[1]\n",
    "dump(node)"
   ]
  },
  {
   "cell_type": "code",
   "execution_count": 11,
   "id": "d13b755f",
   "metadata": {},
   "outputs": [
    {
     "data": {
      "text/plain": [
       "9-element Vector{Float64}:\n",
       " 0.0\n",
       " 0.5\n",
       " 1.0\n",
       " 0.5\n",
       " 1.0\n",
       " 1.5\n",
       " 1.0\n",
       " 1.5\n",
       " 2.0"
      ]
     },
     "execution_count": 11,
     "metadata": {},
     "output_type": "execute_result"
    }
   ],
   "source": [
    "myf(node) = node.x[1]+node.x[2]\n",
    "myf.(grid.nodes)"
   ]
  },
  {
   "cell_type": "code",
   "execution_count": null,
   "id": "fd997204-d5d6-4018-9391-24142bc5c674",
   "metadata": {},
   "outputs": [],
   "source": []
  },
  {
   "cell_type": "markdown",
   "id": "924589c1-5754-4833-850b-4f20d37211e2",
   "metadata": {},
   "source": [
    "## Section 4: Mesh Generation for a Rectangle in 3D\n",
    "\n",
    "Here we explore the mesh generator that Ferrite provides."
   ]
  },
  {
   "cell_type": "code",
   "execution_count": 12,
   "id": "edb77443-5bdd-4fe0-a609-fc18eac00749",
   "metadata": {},
   "outputs": [],
   "source": [
    "nelem = 3 \n",
    "nels  = (nelem, nelem, nelem) # number of elements in each spatial direction\n",
    "left  = Vec((0., 0., 0.))    # start point for geometry \n",
    "right = Vec((1.0, 1.0, 1.0)) # end point for geometry\n",
    "grid  = generate_grid(Hexahedron,nels,left,right);"
   ]
  },
  {
   "cell_type": "code",
   "execution_count": 13,
   "id": "59e12aeb-f2df-4522-b3c0-52604dff6081",
   "metadata": {},
   "outputs": [
    {
     "data": {
      "text/plain": [
       "Hexahedron((1, 2, 6, 5, 17, 18, 22, 21))"
      ]
     },
     "metadata": {},
     "output_type": "display_data"
    },
    {
     "data": {
      "text/plain": [
       "Hexahedron((2, 3, 7, 6, 18, 19, 23, 22))"
      ]
     },
     "metadata": {},
     "output_type": "display_data"
    },
    {
     "data": {
      "text/plain": [
       "Hexahedron((3, 4, 8, 7, 19, 20, 24, 23))"
      ]
     },
     "metadata": {},
     "output_type": "display_data"
    },
    {
     "data": {
      "text/plain": [
       "Hexahedron((5, 6, 10, 9, 21, 22, 26, 25))"
      ]
     },
     "metadata": {},
     "output_type": "display_data"
    },
    {
     "data": {
      "text/plain": [
       "Hexahedron((6, 7, 11, 10, 22, 23, 27, 26))"
      ]
     },
     "metadata": {},
     "output_type": "display_data"
    },
    {
     "data": {
      "text/plain": [
       "Hexahedron((7, 8, 12, 11, 23, 24, 28, 27))"
      ]
     },
     "metadata": {},
     "output_type": "display_data"
    },
    {
     "data": {
      "text/plain": [
       "Hexahedron((9, 10, 14, 13, 25, 26, 30, 29))"
      ]
     },
     "metadata": {},
     "output_type": "display_data"
    },
    {
     "data": {
      "text/plain": [
       "Hexahedron((10, 11, 15, 14, 26, 27, 31, 30))"
      ]
     },
     "metadata": {},
     "output_type": "display_data"
    },
    {
     "data": {
      "text/plain": [
       "Hexahedron((11, 12, 16, 15, 27, 28, 32, 31))"
      ]
     },
     "metadata": {},
     "output_type": "display_data"
    },
    {
     "data": {
      "text/plain": [
       "Hexahedron((17, 18, 22, 21, 33, 34, 38, 37))"
      ]
     },
     "metadata": {},
     "output_type": "display_data"
    },
    {
     "data": {
      "text/plain": [
       "Hexahedron((18, 19, 23, 22, 34, 35, 39, 38))"
      ]
     },
     "metadata": {},
     "output_type": "display_data"
    },
    {
     "data": {
      "text/plain": [
       "Hexahedron((19, 20, 24, 23, 35, 36, 40, 39))"
      ]
     },
     "metadata": {},
     "output_type": "display_data"
    },
    {
     "data": {
      "text/plain": [
       "Hexahedron((21, 22, 26, 25, 37, 38, 42, 41))"
      ]
     },
     "metadata": {},
     "output_type": "display_data"
    },
    {
     "data": {
      "text/plain": [
       "Hexahedron((22, 23, 27, 26, 38, 39, 43, 42))"
      ]
     },
     "metadata": {},
     "output_type": "display_data"
    },
    {
     "data": {
      "text/plain": [
       "Hexahedron((23, 24, 28, 27, 39, 40, 44, 43))"
      ]
     },
     "metadata": {},
     "output_type": "display_data"
    },
    {
     "data": {
      "text/plain": [
       "Hexahedron((25, 26, 30, 29, 41, 42, 46, 45))"
      ]
     },
     "metadata": {},
     "output_type": "display_data"
    },
    {
     "data": {
      "text/plain": [
       "Hexahedron((26, 27, 31, 30, 42, 43, 47, 46))"
      ]
     },
     "metadata": {},
     "output_type": "display_data"
    },
    {
     "data": {
      "text/plain": [
       "Hexahedron((27, 28, 32, 31, 43, 44, 48, 47))"
      ]
     },
     "metadata": {},
     "output_type": "display_data"
    },
    {
     "data": {
      "text/plain": [
       "Hexahedron((33, 34, 38, 37, 49, 50, 54, 53))"
      ]
     },
     "metadata": {},
     "output_type": "display_data"
    },
    {
     "data": {
      "text/plain": [
       "Hexahedron((34, 35, 39, 38, 50, 51, 55, 54))"
      ]
     },
     "metadata": {},
     "output_type": "display_data"
    },
    {
     "data": {
      "text/plain": [
       "Hexahedron((35, 36, 40, 39, 51, 52, 56, 55))"
      ]
     },
     "metadata": {},
     "output_type": "display_data"
    },
    {
     "data": {
      "text/plain": [
       "Hexahedron((37, 38, 42, 41, 53, 54, 58, 57))"
      ]
     },
     "metadata": {},
     "output_type": "display_data"
    },
    {
     "data": {
      "text/plain": [
       "Hexahedron((38, 39, 43, 42, 54, 55, 59, 58))"
      ]
     },
     "metadata": {},
     "output_type": "display_data"
    },
    {
     "data": {
      "text/plain": [
       "Hexahedron((39, 40, 44, 43, 55, 56, 60, 59))"
      ]
     },
     "metadata": {},
     "output_type": "display_data"
    },
    {
     "data": {
      "text/plain": [
       "Hexahedron((41, 42, 46, 45, 57, 58, 62, 61))"
      ]
     },
     "metadata": {},
     "output_type": "display_data"
    },
    {
     "data": {
      "text/plain": [
       "Hexahedron((42, 43, 47, 46, 58, 59, 63, 62))"
      ]
     },
     "metadata": {},
     "output_type": "display_data"
    },
    {
     "data": {
      "text/plain": [
       "Hexahedron((43, 44, 48, 47, 59, 60, 64, 63))"
      ]
     },
     "metadata": {},
     "output_type": "display_data"
    }
   ],
   "source": [
    "for cell in grid.cells display(cell) end"
   ]
  },
  {
   "cell_type": "code",
   "execution_count": 14,
   "id": "32ef098a-0ad5-476e-a915-693f360f6e9a",
   "metadata": {},
   "outputs": [
    {
     "name": "stdout",
     "output_type": "stream",
     "text": [
      "search: \u001b[0m\u001b[1mR\u001b[22m\u001b[0m\u001b[1me\u001b[22m\u001b[0m\u001b[1mf\u001b[22m\u001b[0m\u001b[1mH\u001b[22m\u001b[0m\u001b[1me\u001b[22m\u001b[0m\u001b[1mx\u001b[22m\u001b[0m\u001b[1ma\u001b[22m\u001b[0m\u001b[1mh\u001b[22m\u001b[0m\u001b[1me\u001b[22m\u001b[0m\u001b[1md\u001b[22m\u001b[0m\u001b[1mr\u001b[22m\u001b[0m\u001b[1mo\u001b[22m\u001b[0m\u001b[1mn\u001b[22m\n",
      "\n"
     ]
    },
    {
     "data": {
      "text/latex": [
       "\\begin{verbatim}\n",
       "RefHexahedron <: AbstractRefShape{3}\n",
       "\\end{verbatim}\n",
       "Reference hexahedron, reference dimension 3.\n",
       "\n",
       "\\begin{verbatim}\n",
       "-----------------------------------------+----------------------------\n",
       "Vertex numbers:                          | Vertex coordinates:\n",
       "            5--------8        5--------8 | v1: 𝛏 = (-1.0, -1.0, -1.0)\n",
       "           /        /|       /|        | | v2: 𝛏 = ( 1.0, -1.0, -1.0)\n",
       "          /        / |      / |        | | v3: 𝛏 = ( 1.0,  1.0, -1.0)\n",
       "  ^ ξ₃   6--------7  |     6  |        | | v4: 𝛏 = (-1.0,  1.0, -1.0)\n",
       "  |      |        |  4     |  1--------4 | v5: 𝛏 = (-1.0, -1.0,  1.0)\n",
       "  +-> ξ₂ |        | /      | /        /  | v6: 𝛏 = ( 1.0, -1.0,  1.0)\n",
       " /       |        |/       |/        /   | v7: 𝛏 = ( 1.0,  1.0,  1.0)\n",
       "ξ₁       2--------3        2--------3    | v8: 𝛏 = (-1.0,  1.0,  1.0)\n",
       "-----------------------------------------+-----------------------------\n",
       "Edge numbers:                            | Edge identifiers:\n",
       "            +----8---+        +----8---+ |\n",
       "          5/        /|      5/|        | |  e1: (v1, v2),  e2: (v2, v3)\n",
       "          /       7/ |12    / |9     12| |  e3: (v3, v4),  e4: (v4, v1)\n",
       "         +----6---+  |     +  |        | |  e5: (v5, v6),  e6: (v6, v7)\n",
       "         |        |  +     |  +---4----+ |  e7: (v7, v8),  e8: (v8, v5)\n",
       "       10|      11| /    10| /1       /  |  e9: (v1, v5), e10: (v2, v6)\n",
       "         |        |/3      |/        /3  | e11: (v3, v7), e12: (v4, v8)\n",
       "         +---2----+        +---2----+    |\n",
       "-----------------------------------------+-----------------------------\n",
       "Face numbers:                            | Face identifiers:\n",
       "            +--------+        +--------+ |\n",
       "           /   6    /|       /|        | |  f1: (v1, v4, v3, v2)\n",
       "          /        / |      / |   5    | |  f2: (v1, v2, v6, v5)\n",
       "         +--------+ 4|     +  |        | |  f3: (v2, v3, v7, v6)\n",
       "         |        |  +     |2 +--------+ |  f4: (v3, v4, v8, v7)\n",
       "         |    3   | /      | /        /  |  f5: (v1, v5, v8, v4)\n",
       "         |        |/       |/    1   /   |  f6: (v5, v6, v7, v8)\n",
       "         +--------+        +--------+    |\n",
       "-----------------------------------------+-----------------------------\n",
       "\\end{verbatim}\n"
      ],
      "text/markdown": [
       "```\n",
       "RefHexahedron <: AbstractRefShape{3}\n",
       "```\n",
       "\n",
       "Reference hexahedron, reference dimension 3.\n",
       "\n",
       "```\n",
       "-----------------------------------------+----------------------------\n",
       "Vertex numbers:                          | Vertex coordinates:\n",
       "            5--------8        5--------8 | v1: 𝛏 = (-1.0, -1.0, -1.0)\n",
       "           /        /|       /|        | | v2: 𝛏 = ( 1.0, -1.0, -1.0)\n",
       "          /        / |      / |        | | v3: 𝛏 = ( 1.0,  1.0, -1.0)\n",
       "  ^ ξ₃   6--------7  |     6  |        | | v4: 𝛏 = (-1.0,  1.0, -1.0)\n",
       "  |      |        |  4     |  1--------4 | v5: 𝛏 = (-1.0, -1.0,  1.0)\n",
       "  +-> ξ₂ |        | /      | /        /  | v6: 𝛏 = ( 1.0, -1.0,  1.0)\n",
       " /       |        |/       |/        /   | v7: 𝛏 = ( 1.0,  1.0,  1.0)\n",
       "ξ₁       2--------3        2--------3    | v8: 𝛏 = (-1.0,  1.0,  1.0)\n",
       "-----------------------------------------+-----------------------------\n",
       "Edge numbers:                            | Edge identifiers:\n",
       "            +----8---+        +----8---+ |\n",
       "          5/        /|      5/|        | |  e1: (v1, v2),  e2: (v2, v3)\n",
       "          /       7/ |12    / |9     12| |  e3: (v3, v4),  e4: (v4, v1)\n",
       "         +----6---+  |     +  |        | |  e5: (v5, v6),  e6: (v6, v7)\n",
       "         |        |  +     |  +---4----+ |  e7: (v7, v8),  e8: (v8, v5)\n",
       "       10|      11| /    10| /1       /  |  e9: (v1, v5), e10: (v2, v6)\n",
       "         |        |/3      |/        /3  | e11: (v3, v7), e12: (v4, v8)\n",
       "         +---2----+        +---2----+    |\n",
       "-----------------------------------------+-----------------------------\n",
       "Face numbers:                            | Face identifiers:\n",
       "            +--------+        +--------+ |\n",
       "           /   6    /|       /|        | |  f1: (v1, v4, v3, v2)\n",
       "          /        / |      / |   5    | |  f2: (v1, v2, v6, v5)\n",
       "         +--------+ 4|     +  |        | |  f3: (v2, v3, v7, v6)\n",
       "         |        |  +     |2 +--------+ |  f4: (v3, v4, v8, v7)\n",
       "         |    3   | /      | /        /  |  f5: (v1, v5, v8, v4)\n",
       "         |        |/       |/    1   /   |  f6: (v5, v6, v7, v8)\n",
       "         +--------+        +--------+    |\n",
       "-----------------------------------------+-----------------------------\n",
       "```\n"
      ],
      "text/plain": [
       "\u001b[36m  RefHexahedron <: AbstractRefShape{3}\u001b[39m\n",
       "\n",
       "  Reference hexahedron, reference dimension 3.\n",
       "\n",
       "\u001b[36m  -----------------------------------------+----------------------------\u001b[39m\n",
       "\u001b[36m  Vertex numbers:                          | Vertex coordinates:\u001b[39m\n",
       "\u001b[36m              5--------8        5--------8 | v1: 𝛏 = (-1.0, -1.0, -1.0)\u001b[39m\n",
       "\u001b[36m             /        /|       /|        | | v2: 𝛏 = ( 1.0, -1.0, -1.0)\u001b[39m\n",
       "\u001b[36m            /        / |      / |        | | v3: 𝛏 = ( 1.0,  1.0, -1.0)\u001b[39m\n",
       "\u001b[36m    ^ ξ₃   6--------7  |     6  |        | | v4: 𝛏 = (-1.0,  1.0, -1.0)\u001b[39m\n",
       "\u001b[36m    |      |        |  4     |  1--------4 | v5: 𝛏 = (-1.0, -1.0,  1.0)\u001b[39m\n",
       "\u001b[36m    +-> ξ₂ |        | /      | /        /  | v6: 𝛏 = ( 1.0, -1.0,  1.0)\u001b[39m\n",
       "\u001b[36m   /       |        |/       |/        /   | v7: 𝛏 = ( 1.0,  1.0,  1.0)\u001b[39m\n",
       "\u001b[36m  ξ₁       2--------3        2--------3    | v8: 𝛏 = (-1.0,  1.0,  1.0)\u001b[39m\n",
       "\u001b[36m  -----------------------------------------+-----------------------------\u001b[39m\n",
       "\u001b[36m  Edge numbers:                            | Edge identifiers:\u001b[39m\n",
       "\u001b[36m              +----8---+        +----8---+ |\u001b[39m\n",
       "\u001b[36m            5/        /|      5/|        | |  e1: (v1, v2),  e2: (v2, v3)\u001b[39m\n",
       "\u001b[36m            /       7/ |12    / |9     12| |  e3: (v3, v4),  e4: (v4, v1)\u001b[39m\n",
       "\u001b[36m           +----6---+  |     +  |        | |  e5: (v5, v6),  e6: (v6, v7)\u001b[39m\n",
       "\u001b[36m           |        |  +     |  +---4----+ |  e7: (v7, v8),  e8: (v8, v5)\u001b[39m\n",
       "\u001b[36m         10|      11| /    10| /1       /  |  e9: (v1, v5), e10: (v2, v6)\u001b[39m\n",
       "\u001b[36m           |        |/3      |/        /3  | e11: (v3, v7), e12: (v4, v8)\u001b[39m\n",
       "\u001b[36m           +---2----+        +---2----+    |\u001b[39m\n",
       "\u001b[36m  -----------------------------------------+-----------------------------\u001b[39m\n",
       "\u001b[36m  Face numbers:                            | Face identifiers:\u001b[39m\n",
       "\u001b[36m              +--------+        +--------+ |\u001b[39m\n",
       "\u001b[36m             /   6    /|       /|        | |  f1: (v1, v4, v3, v2)\u001b[39m\n",
       "\u001b[36m            /        / |      / |   5    | |  f2: (v1, v2, v6, v5)\u001b[39m\n",
       "\u001b[36m           +--------+ 4|     +  |        | |  f3: (v2, v3, v7, v6)\u001b[39m\n",
       "\u001b[36m           |        |  +     |2 +--------+ |  f4: (v3, v4, v8, v7)\u001b[39m\n",
       "\u001b[36m           |    3   | /      | /        /  |  f5: (v1, v5, v8, v4)\u001b[39m\n",
       "\u001b[36m           |        |/       |/    1   /   |  f6: (v5, v6, v7, v8)\u001b[39m\n",
       "\u001b[36m           +--------+        +--------+    |\u001b[39m\n",
       "\u001b[36m  -----------------------------------------+-----------------------------\u001b[39m"
      ]
     },
     "execution_count": 14,
     "metadata": {},
     "output_type": "execute_result"
    }
   ],
   "source": [
    "?RefHexahedron"
   ]
  },
  {
   "cell_type": "code",
   "execution_count": null,
   "id": "37e9c3db-5fc6-4bb0-9b06-aa8d6ba80cbe",
   "metadata": {},
   "outputs": [],
   "source": []
  },
  {
   "cell_type": "code",
   "execution_count": null,
   "id": "f23d58ca-113b-4150-a7b1-b192b10a52eb",
   "metadata": {},
   "outputs": [],
   "source": []
  },
  {
   "cell_type": "markdown",
   "id": "cccc25df-4b07-4b50-a996-2fcb3f4d028c",
   "metadata": {},
   "source": [
    "## Section 5: Reading Mesh from File using FerriteGmsh\n",
    "\n",
    "1. use of the function togrid() to read mesh from file;\n",
    "2. use of the functions getfacetset to find particular set of facets; "
   ]
  },
  {
   "cell_type": "markdown",
   "id": "f900e965",
   "metadata": {},
   "source": [
    "## Section 6: How does Ferrite store the mesh"
   ]
  },
  {
   "cell_type": "code",
   "execution_count": 15,
   "id": "9768fb23",
   "metadata": {},
   "outputs": [
    {
     "name": "stdout",
     "output_type": "stream",
     "text": [
      "search: \u001b[0m\u001b[1mG\u001b[22m\u001b[0m\u001b[1mr\u001b[22m\u001b[0m\u001b[1mi\u001b[22m\u001b[0m\u001b[1md\u001b[22m \u001b[0m\u001b[1mg\u001b[22m\u001b[0m\u001b[1mr\u001b[22m\u001b[0m\u001b[1mi\u001b[22m\u001b[0m\u001b[1md\u001b[22m z\u001b[0m\u001b[1mg\u001b[22m\u001b[0m\u001b[1mr\u001b[22m\u001b[0m\u001b[1mi\u001b[22m\u001b[0m\u001b[1md\u001b[22m! y\u001b[0m\u001b[1mg\u001b[22m\u001b[0m\u001b[1mr\u001b[22m\u001b[0m\u001b[1mi\u001b[22m\u001b[0m\u001b[1md\u001b[22m! x\u001b[0m\u001b[1mg\u001b[22m\u001b[0m\u001b[1mr\u001b[22m\u001b[0m\u001b[1mi\u001b[22m\u001b[0m\u001b[1md\u001b[22m! VTK\u001b[0m\u001b[1mG\u001b[22m\u001b[0m\u001b[1mr\u001b[22m\u001b[0m\u001b[1mi\u001b[22m\u001b[0m\u001b[1md\u001b[22mFile vtk_\u001b[0m\u001b[1mg\u001b[22m\u001b[0m\u001b[1mr\u001b[22m\u001b[0m\u001b[1mi\u001b[22m\u001b[0m\u001b[1md\u001b[22m adapted_\u001b[0m\u001b[1mg\u001b[22m\u001b[0m\u001b[1mr\u001b[22m\u001b[0m\u001b[1mi\u001b[22m\u001b[0m\u001b[1md\u001b[22m\n",
      "\n"
     ]
    },
    {
     "data": {
      "text/latex": [
       "\\begin{verbatim}\n",
       "Grid{dim, C<:AbstractCell, T<:Real} <: AbstractGrid}\n",
       "\\end{verbatim}\n",
       "A \\texttt{Grid} is a collection of \\texttt{Ferrite.AbstractCell}s and \\texttt{Ferrite.Node}s which covers the computational domain. Helper structures for applying boundary conditions or define subdomains are gathered in \\texttt{cellsets}, \\texttt{nodesets}, \\texttt{facetsets}, and \\texttt{vertexsets}.\n",
       "\n",
       "\\section{Fields}\n",
       "\\begin{itemize}\n",
       "\\item \\texttt{cells::Vector\\{C\\}}: stores all cells of the grid\n",
       "\n",
       "\n",
       "\\item \\texttt{nodes::Vector\\{Node\\{dim,T\\}\\}}: stores the \\texttt{dim} dimensional nodes of the grid\n",
       "\n",
       "\n",
       "\\item \\texttt{cellsets::Dict\\{String, OrderedSet\\{Int\\}\\}}: maps a \\texttt{String} key to an \\texttt{OrderedSet} of cell ids\n",
       "\n",
       "\n",
       "\\item \\texttt{nodesets::Dict\\{String, OrderedSet\\{Int\\}\\}}: maps a \\texttt{String} key to an \\texttt{OrderedSet} of global node ids\n",
       "\n",
       "\n",
       "\\item \\texttt{facetsets::Dict\\{String, OrderedSet\\{FacetIndex\\}\\}}: maps a \\texttt{String} to an \\texttt{OrderedSet} of \\texttt{FacetIndex}\n",
       "\n",
       "\n",
       "\\item \\texttt{vertexsets::Dict\\{String, OrderedSet\\{VertexIndex\\}\\}}: maps a \\texttt{String} key to an \\texttt{OrderedSet} of \\texttt{VertexIndex}\n",
       "\n",
       "\\end{itemize}\n"
      ],
      "text/markdown": [
       "```\n",
       "Grid{dim, C<:AbstractCell, T<:Real} <: AbstractGrid}\n",
       "```\n",
       "\n",
       "A `Grid` is a collection of `Ferrite.AbstractCell`s and `Ferrite.Node`s which covers the computational domain. Helper structures for applying boundary conditions or define subdomains are gathered in `cellsets`, `nodesets`, `facetsets`, and `vertexsets`.\n",
       "\n",
       "# Fields\n",
       "\n",
       "  * `cells::Vector{C}`: stores all cells of the grid\n",
       "  * `nodes::Vector{Node{dim,T}}`: stores the `dim` dimensional nodes of the grid\n",
       "  * `cellsets::Dict{String, OrderedSet{Int}}`: maps a `String` key to an `OrderedSet` of cell ids\n",
       "  * `nodesets::Dict{String, OrderedSet{Int}}`: maps a `String` key to an `OrderedSet` of global node ids\n",
       "  * `facetsets::Dict{String, OrderedSet{FacetIndex}}`: maps a `String` to an `OrderedSet` of `FacetIndex`\n",
       "  * `vertexsets::Dict{String, OrderedSet{VertexIndex}}`: maps a `String` key to an `OrderedSet` of `VertexIndex`\n"
      ],
      "text/plain": [
       "\u001b[36m  Grid{dim, C<:AbstractCell, T<:Real} <: AbstractGrid}\u001b[39m\n",
       "\n",
       "  A \u001b[36mGrid\u001b[39m is a collection of \u001b[36mFerrite.AbstractCell\u001b[39ms and \u001b[36mFerrite.Node\u001b[39ms which\n",
       "  covers the computational domain. Helper structures for applying boundary\n",
       "  conditions or define subdomains are gathered in \u001b[36mcellsets\u001b[39m, \u001b[36mnodesets\u001b[39m,\n",
       "  \u001b[36mfacetsets\u001b[39m, and \u001b[36mvertexsets\u001b[39m.\n",
       "\n",
       "\u001b[1m  Fields\u001b[22m\n",
       "\u001b[1m  ≡≡≡≡≡≡≡≡\u001b[22m\n",
       "\n",
       "    •  \u001b[36mcells::Vector{C}\u001b[39m: stores all cells of the grid\n",
       "\n",
       "    •  \u001b[36mnodes::Vector{Node{dim,T}}\u001b[39m: stores the \u001b[36mdim\u001b[39m dimensional nodes of\n",
       "       the grid\n",
       "\n",
       "    •  \u001b[36mcellsets::Dict{String, OrderedSet{Int}}\u001b[39m: maps a \u001b[36mString\u001b[39m key to an\n",
       "       \u001b[36mOrderedSet\u001b[39m of cell ids\n",
       "\n",
       "    •  \u001b[36mnodesets::Dict{String, OrderedSet{Int}}\u001b[39m: maps a \u001b[36mString\u001b[39m key to an\n",
       "       \u001b[36mOrderedSet\u001b[39m of global node ids\n",
       "\n",
       "    •  \u001b[36mfacetsets::Dict{String, OrderedSet{FacetIndex}}\u001b[39m: maps a \u001b[36mString\u001b[39m to\n",
       "       an \u001b[36mOrderedSet\u001b[39m of \u001b[36mFacetIndex\u001b[39m\n",
       "\n",
       "    •  \u001b[36mvertexsets::Dict{String, OrderedSet{VertexIndex}}\u001b[39m: maps a \u001b[36mString\u001b[39m\n",
       "       key to an \u001b[36mOrderedSet\u001b[39m of \u001b[36mVertexIndex\u001b[39m"
      ]
     },
     "execution_count": 15,
     "metadata": {},
     "output_type": "execute_result"
    }
   ],
   "source": [
    "?Grid"
   ]
  },
  {
   "cell_type": "code",
   "execution_count": 16,
   "id": "87822a40",
   "metadata": {},
   "outputs": [
    {
     "name": "stdout",
     "output_type": "stream",
     "text": [
      "search: \u001b[0m\u001b[1ma\u001b[22m\u001b[0m\u001b[1md\u001b[22m\u001b[0m\u001b[1md\u001b[22m\u001b[0m\u001b[1mc\u001b[22m\u001b[0m\u001b[1me\u001b[22m\u001b[0m\u001b[1ml\u001b[22m\u001b[0m\u001b[1ml\u001b[22m\u001b[0m\u001b[1ms\u001b[22m\u001b[0m\u001b[1me\u001b[22m\u001b[0m\u001b[1mt\u001b[22m\u001b[0m\u001b[1m!\u001b[22m \u001b[0m\u001b[1ma\u001b[22m\u001b[0m\u001b[1md\u001b[22m\u001b[0m\u001b[1md\u001b[22m_\u001b[0m\u001b[1mc\u001b[22m\u001b[0m\u001b[1me\u001b[22m\u001b[0m\u001b[1ml\u001b[22m\u001b[0m\u001b[1ml\u001b[22m_entrie\u001b[0m\u001b[1ms\u001b[22m!\n",
      "\n"
     ]
    },
    {
     "data": {
      "text/latex": [
       "\\begin{verbatim}\n",
       "addcellset!(grid::AbstractGrid, name::String, cellid::AbstractVecOrSet{Int})\n",
       "addcellset!(grid::AbstractGrid, name::String, f::function; all::Bool=true)\n",
       "\\end{verbatim}\n",
       "Adds a cellset to the grid with key \\texttt{name}. Cellsets are typically used to define subdomains of the problem, e.g. two materials in the computational domain. The \\texttt{DofHandler} can construct different fields which live not on the whole domain, but rather on a cellset. \\texttt{all=true} implies that \\texttt{f(x)} must return \\texttt{true} for all nodal coordinates \\texttt{x} in the cell if the cell should be added to the set, otherwise it suffices that \\texttt{f(x)} returns \\texttt{true} for one node.\n",
       "\n",
       "\\begin{verbatim}\n",
       "addcellset!(grid, \"left\", Set((1,3))) #add cells with id 1 and 3 to cellset left\n",
       "addcellset!(grid, \"right\", x -> norm(x[1]) < 2.0 ) #add cell to cellset right, if x[1] of each cell's node is smaller than 2.0\n",
       "\\end{verbatim}\n"
      ],
      "text/markdown": [
       "```\n",
       "addcellset!(grid::AbstractGrid, name::String, cellid::AbstractVecOrSet{Int})\n",
       "addcellset!(grid::AbstractGrid, name::String, f::function; all::Bool=true)\n",
       "```\n",
       "\n",
       "Adds a cellset to the grid with key `name`. Cellsets are typically used to define subdomains of the problem, e.g. two materials in the computational domain. The `DofHandler` can construct different fields which live not on the whole domain, but rather on a cellset. `all=true` implies that `f(x)` must return `true` for all nodal coordinates `x` in the cell if the cell should be added to the set, otherwise it suffices that `f(x)` returns `true` for one node.\n",
       "\n",
       "```julia\n",
       "addcellset!(grid, \"left\", Set((1,3))) #add cells with id 1 and 3 to cellset left\n",
       "addcellset!(grid, \"right\", x -> norm(x[1]) < 2.0 ) #add cell to cellset right, if x[1] of each cell's node is smaller than 2.0\n",
       "```\n"
      ],
      "text/plain": [
       "\u001b[36m  addcellset!(grid::AbstractGrid, name::String, cellid::AbstractVecOrSet{Int})\u001b[39m\n",
       "\u001b[36m  addcellset!(grid::AbstractGrid, name::String, f::function; all::Bool=true)\u001b[39m\n",
       "\n",
       "  Adds a cellset to the grid with key \u001b[36mname\u001b[39m. Cellsets are typically used to\n",
       "  define subdomains of the problem, e.g. two materials in the computational\n",
       "  domain. The \u001b[36mDofHandler\u001b[39m can construct different fields which live not on the\n",
       "  whole domain, but rather on a cellset. \u001b[36mall=true\u001b[39m implies that \u001b[36mf(x)\u001b[39m must\n",
       "  return \u001b[36mtrue\u001b[39m for all nodal coordinates \u001b[36mx\u001b[39m in the cell if the cell should be\n",
       "  added to the set, otherwise it suffices that \u001b[36mf(x)\u001b[39m returns \u001b[36mtrue\u001b[39m for one node.\n",
       "\n",
       "\u001b[36m  addcellset!(grid, \"left\", Set((1,3))) #add cells with id 1 and 3 to cellset left\u001b[39m\n",
       "\u001b[36m  addcellset!(grid, \"right\", x -> norm(x[1]) < 2.0 ) #add cell to cellset right, if x[1] of each cell's node is smaller than 2.0\u001b[39m"
      ]
     },
     "execution_count": 16,
     "metadata": {},
     "output_type": "execute_result"
    }
   ],
   "source": [
    "?addcellset!"
   ]
  },
  {
   "cell_type": "code",
   "execution_count": 17,
   "id": "0222421d",
   "metadata": {},
   "outputs": [
    {
     "name": "stdout",
     "output_type": "stream",
     "text": [
      "search: \u001b[0m\u001b[1mg\u001b[22m\u001b[0m\u001b[1me\u001b[22m\u001b[0m\u001b[1mt\u001b[22m\u001b[0m\u001b[1mc\u001b[22m\u001b[0m\u001b[1me\u001b[22m\u001b[0m\u001b[1ml\u001b[22m\u001b[0m\u001b[1ml\u001b[22m\u001b[0m\u001b[1ms\u001b[22m\u001b[0m\u001b[1me\u001b[22m\u001b[0m\u001b[1mt\u001b[22m \u001b[0m\u001b[1mg\u001b[22m\u001b[0m\u001b[1me\u001b[22m\u001b[0m\u001b[1mt\u001b[22m\u001b[0m\u001b[1mc\u001b[22m\u001b[0m\u001b[1me\u001b[22m\u001b[0m\u001b[1ml\u001b[22m\u001b[0m\u001b[1ml\u001b[22m\u001b[0m\u001b[1ms\u001b[22m \u001b[0m\u001b[1mg\u001b[22m\u001b[0m\u001b[1me\u001b[22m\u001b[0m\u001b[1mt\u001b[22mn\u001b[0m\u001b[1mc\u001b[22m\u001b[0m\u001b[1me\u001b[22m\u001b[0m\u001b[1ml\u001b[22m\u001b[0m\u001b[1ml\u001b[22m\u001b[0m\u001b[1ms\u001b[22m \u001b[0m\u001b[1mg\u001b[22m\u001b[0m\u001b[1me\u001b[22m\u001b[0m\u001b[1mt\u001b[22m\u001b[0m\u001b[1mc\u001b[22m\u001b[0m\u001b[1me\u001b[22m\u001b[0m\u001b[1ml\u001b[22m\u001b[0m\u001b[1ml\u001b[22mtype\n",
      "\n"
     ]
    },
    {
     "data": {
      "text/latex": [
       "\\begin{verbatim}\n",
       "getcellset(grid::AbstractGrid, setname::String)\n",
       "\\end{verbatim}\n",
       "Returns all cells as cellid in the set with name \\texttt{setname}.\n",
       "\n"
      ],
      "text/markdown": [
       "```\n",
       "getcellset(grid::AbstractGrid, setname::String)\n",
       "```\n",
       "\n",
       "Returns all cells as cellid in the set with name `setname`.\n"
      ],
      "text/plain": [
       "\u001b[36m  getcellset(grid::AbstractGrid, setname::String)\u001b[39m\n",
       "\n",
       "  Returns all cells as cellid in the set with name \u001b[36msetname\u001b[39m."
      ]
     },
     "execution_count": 17,
     "metadata": {},
     "output_type": "execute_result"
    }
   ],
   "source": [
    "?getcellset"
   ]
  },
  {
   "cell_type": "markdown",
   "id": "572c54cc",
   "metadata": {},
   "source": [
    "## Section 7: Initializing cellvalues using the CellValues() function \n",
    " \n",
    "The <i>CellValues</i> object facilitates the process of evaluating values of shape functions in the finite element cell. The <i>CellValues()</i> function has an optional third argument that is instance of a Interpolation which is used to interpolate the geometry."
   ]
  },
  {
   "cell_type": "code",
   "execution_count": 18,
   "id": "3a2ebc63",
   "metadata": {},
   "outputs": [
    {
     "name": "stdout",
     "output_type": "stream",
     "text": [
      "search: \u001b[0m\u001b[1mC\u001b[22m\u001b[0m\u001b[1me\u001b[22m\u001b[0m\u001b[1ml\u001b[22m\u001b[0m\u001b[1ml\u001b[22m\u001b[0m\u001b[1mV\u001b[22m\u001b[0m\u001b[1ma\u001b[22m\u001b[0m\u001b[1ml\u001b[22m\u001b[0m\u001b[1mu\u001b[22m\u001b[0m\u001b[1me\u001b[22m\u001b[0m\u001b[1ms\u001b[22m \u001b[0m\u001b[1mC\u001b[22m\u001b[0m\u001b[1me\u001b[22m\u001b[0m\u001b[1ml\u001b[22m\u001b[0m\u001b[1ml\u001b[22m\u001b[0m\u001b[1mV\u001b[22mectorV\u001b[0m\u001b[1ma\u001b[22m\u001b[0m\u001b[1ml\u001b[22m\u001b[0m\u001b[1mu\u001b[22m\u001b[0m\u001b[1me\u001b[22m\u001b[0m\u001b[1ms\u001b[22m \u001b[0m\u001b[1mC\u001b[22m\u001b[0m\u001b[1me\u001b[22m\u001b[0m\u001b[1ml\u001b[22m\u001b[0m\u001b[1ml\u001b[22mScalar\u001b[0m\u001b[1mV\u001b[22m\u001b[0m\u001b[1ma\u001b[22m\u001b[0m\u001b[1ml\u001b[22m\u001b[0m\u001b[1mu\u001b[22m\u001b[0m\u001b[1me\u001b[22m\u001b[0m\u001b[1ms\u001b[22m Abstra\u001b[0m\u001b[1mc\u001b[22mtC\u001b[0m\u001b[1me\u001b[22m\u001b[0m\u001b[1ml\u001b[22m\u001b[0m\u001b[1ml\u001b[22m\u001b[0m\u001b[1mV\u001b[22m\u001b[0m\u001b[1ma\u001b[22m\u001b[0m\u001b[1ml\u001b[22m\u001b[0m\u001b[1mu\u001b[22m\u001b[0m\u001b[1me\u001b[22m\u001b[0m\u001b[1ms\u001b[22m\n",
      "\n"
     ]
    },
    {
     "data": {
      "text/latex": [
       "\\begin{verbatim}\n",
       "CellValues([::Type{T},] quad_rule::QuadratureRule, func_interpol::Interpolation, [geom_interpol::Interpolation])\n",
       "\\end{verbatim}\n",
       "A \\texttt{CellValues} object facilitates the process of evaluating values of shape functions, gradients of shape functions, values of nodal functions, gradients and divergences of nodal functions etc. in the finite element cell.\n",
       "\n",
       "\\textbf{Arguments:}\n",
       "\n",
       "\\begin{itemize}\n",
       "\\item \\texttt{T}: an optional argument (default to \\texttt{Float64}) to determine the type the internal data is stored as.\n",
       "\n",
       "\n",
       "\\item \\texttt{quad\\_rule}: an instance of a \\href{@ref}{\\texttt{QuadratureRule}}\n",
       "\n",
       "\n",
       "\\item \\texttt{func\\_interpol}: an instance of an \\href{@ref}{\\texttt{Interpolation}} used to interpolate the approximated function\n",
       "\n",
       "\n",
       "\\item \\texttt{geom\\_interpol}: an optional instance of a \\href{@ref}{\\texttt{Interpolation}} which is used to interpolate the geometry. By default linear Lagrange interpolation is used. For embedded elements the geometric interpolations should be vectorized to the spatial dimension.\n",
       "\n",
       "\\end{itemize}\n",
       "\\textbf{Keyword arguments:} The following keyword arguments are experimental and may change in future minor releases\n",
       "\n",
       "\\begin{itemize}\n",
       "\\item \\texttt{update\\_gradients}: Specifies if the gradients of the shape functions should be updated (default true)\n",
       "\n",
       "\n",
       "\\item \\texttt{update\\_hessians}: Specifies if the hessians of the shape functions should be updated (default false)\n",
       "\n",
       "\n",
       "\\item \\texttt{update\\_detJdV}: Specifies if the volume associated with each quadrature point should be updated (default true)\n",
       "\n",
       "\\end{itemize}\n",
       "\\textbf{Common methods:}\n",
       "\n",
       "\\begin{itemize}\n",
       "\\item \\href{@ref}{\\texttt{reinit!}}\n",
       "\n",
       "\n",
       "\\item \\href{@ref}{\\texttt{getnquadpoints}}\n",
       "\n",
       "\n",
       "\\item \\href{@ref}{\\texttt{getdetJdV}}\n",
       "\n",
       "\n",
       "\\item \\href{@ref}{\\texttt{shape\\_value}}\n",
       "\n",
       "\n",
       "\\item \\href{@ref}{\\texttt{shape\\_gradient}}\n",
       "\n",
       "\n",
       "\\item \\href{@ref}{\\texttt{shape\\_symmetric\\_gradient}}\n",
       "\n",
       "\n",
       "\\item \\href{@ref}{\\texttt{shape\\_divergence}}\n",
       "\n",
       "\n",
       "\\item \\href{@ref}{\\texttt{function\\_value}}\n",
       "\n",
       "\n",
       "\\item \\href{@ref}{\\texttt{function\\_gradient}}\n",
       "\n",
       "\n",
       "\\item \\href{@ref}{\\texttt{function\\_symmetric\\_gradient}}\n",
       "\n",
       "\n",
       "\\item \\href{@ref}{\\texttt{function\\_divergence}}\n",
       "\n",
       "\n",
       "\\item \\href{@ref}{\\texttt{spatial\\_coordinate}}\n",
       "\n",
       "\\end{itemize}\n"
      ],
      "text/markdown": [
       "```\n",
       "CellValues([::Type{T},] quad_rule::QuadratureRule, func_interpol::Interpolation, [geom_interpol::Interpolation])\n",
       "```\n",
       "\n",
       "A `CellValues` object facilitates the process of evaluating values of shape functions, gradients of shape functions, values of nodal functions, gradients and divergences of nodal functions etc. in the finite element cell.\n",
       "\n",
       "**Arguments:**\n",
       "\n",
       "  * `T`: an optional argument (default to `Float64`) to determine the type the internal data is stored as.\n",
       "  * `quad_rule`: an instance of a [`QuadratureRule`](@ref)\n",
       "  * `func_interpol`: an instance of an [`Interpolation`](@ref) used to interpolate the approximated function\n",
       "  * `geom_interpol`: an optional instance of a [`Interpolation`](@ref) which is used to interpolate the geometry. By default linear Lagrange interpolation is used. For embedded elements the geometric interpolations should be vectorized to the spatial dimension.\n",
       "\n",
       "**Keyword arguments:** The following keyword arguments are experimental and may change in future minor releases\n",
       "\n",
       "  * `update_gradients`: Specifies if the gradients of the shape functions should be updated (default true)\n",
       "  * `update_hessians`: Specifies if the hessians of the shape functions should be updated (default false)\n",
       "  * `update_detJdV`: Specifies if the volume associated with each quadrature point should be updated (default true)\n",
       "\n",
       "**Common methods:**\n",
       "\n",
       "  * [`reinit!`](@ref)\n",
       "  * [`getnquadpoints`](@ref)\n",
       "  * [`getdetJdV`](@ref)\n",
       "  * [`shape_value`](@ref)\n",
       "  * [`shape_gradient`](@ref)\n",
       "  * [`shape_symmetric_gradient`](@ref)\n",
       "  * [`shape_divergence`](@ref)\n",
       "  * [`function_value`](@ref)\n",
       "  * [`function_gradient`](@ref)\n",
       "  * [`function_symmetric_gradient`](@ref)\n",
       "  * [`function_divergence`](@ref)\n",
       "  * [`spatial_coordinate`](@ref)\n"
      ],
      "text/plain": [
       "\u001b[36m  CellValues([::Type{T},] quad_rule::QuadratureRule, func_interpol::Interpolation, [geom_interpol::Interpolation])\u001b[39m\n",
       "\n",
       "  A \u001b[36mCellValues\u001b[39m object facilitates the process of evaluating values of shape\n",
       "  functions, gradients of shape functions, values of nodal functions,\n",
       "  gradients and divergences of nodal functions etc. in the finite element\n",
       "  cell.\n",
       "\n",
       "  \u001b[1mArguments:\u001b[22m\n",
       "\n",
       "    •  \u001b[36mT\u001b[39m: an optional argument (default to \u001b[36mFloat64\u001b[39m) to determine the type\n",
       "       the internal data is stored as.\n",
       "\n",
       "    •  \u001b[36mquad_rule\u001b[39m: an instance of a \u001b[36mQuadratureRule\u001b[39m\n",
       "\n",
       "    •  \u001b[36mfunc_interpol\u001b[39m: an instance of an \u001b[36mInterpolation\u001b[39m used to interpolate\n",
       "       the approximated function\n",
       "\n",
       "    •  \u001b[36mgeom_interpol\u001b[39m: an optional instance of a \u001b[36mInterpolation\u001b[39m which is\n",
       "       used to interpolate the geometry. By default linear Lagrange\n",
       "       interpolation is used. For embedded elements the geometric\n",
       "       interpolations should be vectorized to the spatial dimension.\n",
       "\n",
       "  \u001b[1mKeyword arguments:\u001b[22m The following keyword arguments are experimental and may\n",
       "  change in future minor releases\n",
       "\n",
       "    •  \u001b[36mupdate_gradients\u001b[39m: Specifies if the gradients of the shape\n",
       "       functions should be updated (default true)\n",
       "\n",
       "    •  \u001b[36mupdate_hessians\u001b[39m: Specifies if the hessians of the shape functions\n",
       "       should be updated (default false)\n",
       "\n",
       "    •  \u001b[36mupdate_detJdV\u001b[39m: Specifies if the volume associated with each\n",
       "       quadrature point should be updated (default true)\n",
       "\n",
       "  \u001b[1mCommon methods:\u001b[22m\n",
       "\n",
       "    •  \u001b[36mreinit!\u001b[39m\n",
       "\n",
       "    •  \u001b[36mgetnquadpoints\u001b[39m\n",
       "\n",
       "    •  \u001b[36mgetdetJdV\u001b[39m\n",
       "\n",
       "    •  \u001b[36mshape_value\u001b[39m\n",
       "\n",
       "    •  \u001b[36mshape_gradient\u001b[39m\n",
       "\n",
       "    •  \u001b[36mshape_symmetric_gradient\u001b[39m\n",
       "\n",
       "    •  \u001b[36mshape_divergence\u001b[39m\n",
       "\n",
       "    •  \u001b[36mfunction_value\u001b[39m\n",
       "\n",
       "    •  \u001b[36mfunction_gradient\u001b[39m\n",
       "\n",
       "    •  \u001b[36mfunction_symmetric_gradient\u001b[39m\n",
       "\n",
       "    •  \u001b[36mfunction_divergence\u001b[39m\n",
       "\n",
       "    •  \u001b[36mspatial_coordinate\u001b[39m"
      ]
     },
     "execution_count": 18,
     "metadata": {},
     "output_type": "execute_result"
    }
   ],
   "source": [
    "?CellValues"
   ]
  },
  {
   "cell_type": "code",
   "execution_count": 19,
   "id": "933cf128",
   "metadata": {},
   "outputs": [],
   "source": [
    "#?QuadratureRule"
   ]
  },
  {
   "cell_type": "code",
   "execution_count": 20,
   "id": "d045fae0",
   "metadata": {},
   "outputs": [],
   "source": [
    "dim = 2\n",
    "order = 1\n",
    "ip = Lagrange{RefQuadrilateral, order}()\n",
    "qr = QuadratureRule{RefQuadrilateral}(2*order+1)\n",
    "cellvalues = CellValues(qr, ip);"
   ]
  },
  {
   "cell_type": "code",
   "execution_count": 21,
   "id": "9b9c94dc",
   "metadata": {},
   "outputs": [],
   "source": [
    "#dump(cellvalues)"
   ]
  },
  {
   "cell_type": "code",
   "execution_count": 22,
   "id": "ba12f8bb",
   "metadata": {},
   "outputs": [],
   "source": [
    "#cellvalues.N"
   ]
  },
  {
   "cell_type": "markdown",
   "id": "1b579414",
   "metadata": {},
   "source": [
    "## Section 8: Initialize DOF Handler and Loop over Elements \n",
    "Requires extension to describe the constraint handler. "
   ]
  },
  {
   "cell_type": "code",
   "execution_count": 52,
   "id": "e4ac7899",
   "metadata": {},
   "outputs": [],
   "source": [
    "nels  = (3, 3)            # number of elements in each spatial direction\n",
    "left  = Vec((0.0, 0.0))   # start point for geometry: lower-left point of the square \n",
    "right = Vec((1.0, 1.0,))  # end point for geometry: upper-right point of the square\n",
    "grid = generate_grid(Quadrilateral, nels,left, right) \n",
    "\n",
    "dh = DofHandler(grid)\n",
    "add!(dh, :u, ip)\n",
    "close!(dh);"
   ]
  },
  {
   "cell_type": "code",
   "execution_count": 53,
   "id": "5a029d53",
   "metadata": {},
   "outputs": [
    {
     "data": {
      "text/plain": [
       "DofHandler{2, Grid{2, Quadrilateral, Float64}}\n",
       "  Fields:\n",
       "    :u, Lagrange{RefQuadrilateral, 1}()\n",
       "  Dofs per cell: 4\n",
       "  Total dofs: 16"
      ]
     },
     "execution_count": 53,
     "metadata": {},
     "output_type": "execute_result"
    }
   ],
   "source": [
    "dh"
   ]
  },
  {
   "cell_type": "code",
   "execution_count": 54,
   "id": "ebcbc68d",
   "metadata": {},
   "outputs": [
    {
     "name": "stdout",
     "output_type": "stream",
     "text": [
      "search: \u001b[0m\u001b[1mg\u001b[22m\u001b[0m\u001b[1me\u001b[22m\u001b[0m\u001b[1mt\u001b[22m\u001b[0m\u001b[1mc\u001b[22m\u001b[0m\u001b[1me\u001b[22m\u001b[0m\u001b[1ml\u001b[22m\u001b[0m\u001b[1ml\u001b[22m\u001b[0m\u001b[1ms\u001b[22m\u001b[0m\u001b[1me\u001b[22m\u001b[0m\u001b[1mt\u001b[22m \u001b[0m\u001b[1mg\u001b[22m\u001b[0m\u001b[1me\u001b[22m\u001b[0m\u001b[1mt\u001b[22m\u001b[0m\u001b[1mc\u001b[22m\u001b[0m\u001b[1me\u001b[22m\u001b[0m\u001b[1ml\u001b[22m\u001b[0m\u001b[1ml\u001b[22m\u001b[0m\u001b[1ms\u001b[22m \u001b[0m\u001b[1mg\u001b[22m\u001b[0m\u001b[1me\u001b[22m\u001b[0m\u001b[1mt\u001b[22mn\u001b[0m\u001b[1mc\u001b[22m\u001b[0m\u001b[1me\u001b[22m\u001b[0m\u001b[1ml\u001b[22m\u001b[0m\u001b[1ml\u001b[22m\u001b[0m\u001b[1ms\u001b[22m \u001b[0m\u001b[1mg\u001b[22m\u001b[0m\u001b[1me\u001b[22m\u001b[0m\u001b[1mt\u001b[22m\u001b[0m\u001b[1mc\u001b[22m\u001b[0m\u001b[1me\u001b[22m\u001b[0m\u001b[1ml\u001b[22m\u001b[0m\u001b[1ml\u001b[22mtype\n",
      "\n"
     ]
    },
    {
     "data": {
      "text/latex": [
       "\\begin{verbatim}\n",
       "getcellset(grid::AbstractGrid, setname::String)\n",
       "\\end{verbatim}\n",
       "Returns all cells as cellid in the set with name \\texttt{setname}.\n",
       "\n"
      ],
      "text/markdown": [
       "```\n",
       "getcellset(grid::AbstractGrid, setname::String)\n",
       "```\n",
       "\n",
       "Returns all cells as cellid in the set with name `setname`.\n"
      ],
      "text/plain": [
       "\u001b[36m  getcellset(grid::AbstractGrid, setname::String)\u001b[39m\n",
       "\n",
       "  Returns all cells as cellid in the set with name \u001b[36msetname\u001b[39m."
      ]
     },
     "execution_count": 54,
     "metadata": {},
     "output_type": "execute_result"
    }
   ],
   "source": [
    "?getcellset"
   ]
  },
  {
   "cell_type": "code",
   "execution_count": 55,
   "id": "22e6d28d",
   "metadata": {},
   "outputs": [
    {
     "data": {
      "text/plain": [
       "1"
      ]
     },
     "metadata": {},
     "output_type": "display_data"
    },
    {
     "data": {
      "text/plain": [
       "2"
      ]
     },
     "metadata": {},
     "output_type": "display_data"
    },
    {
     "data": {
      "text/plain": [
       "3"
      ]
     },
     "metadata": {},
     "output_type": "display_data"
    },
    {
     "data": {
      "text/plain": [
       "4"
      ]
     },
     "metadata": {},
     "output_type": "display_data"
    },
    {
     "data": {
      "text/plain": [
       "5"
      ]
     },
     "metadata": {},
     "output_type": "display_data"
    },
    {
     "data": {
      "text/plain": [
       "6"
      ]
     },
     "metadata": {},
     "output_type": "display_data"
    },
    {
     "data": {
      "text/plain": [
       "7"
      ]
     },
     "metadata": {},
     "output_type": "display_data"
    },
    {
     "data": {
      "text/plain": [
       "8"
      ]
     },
     "metadata": {},
     "output_type": "display_data"
    },
    {
     "data": {
      "text/plain": [
       "9"
      ]
     },
     "metadata": {},
     "output_type": "display_data"
    }
   ],
   "source": [
    "# loop over elements and retrieve coordinate of the nodes of each cell \n",
    "for cell in CellIterator(dh)\n",
    "    data = cellid(cell)\n",
    "    display(data)\n",
    "end"
   ]
  },
  {
   "cell_type": "code",
   "execution_count": 56,
   "id": "fc243a63",
   "metadata": {},
   "outputs": [],
   "source": [
    "# loop over quadrature points in all cells \n",
    "for (cellcount, cell) in enumerate(CellIterator(dh))\n",
    "    coords = getcoordinates(cell)\n",
    "    # display(coords)\n",
    "    reinit!(cellvalues, cell)\n",
    "    for q_point in 1:getnquadpoints(cellvalues)\n",
    "        coords_qp = spatial_coordinate(cellvalues, q_point, coords)\n",
    "        # display(coords_qp) \n",
    "     end\n",
    "end"
   ]
  },
  {
   "cell_type": "markdown",
   "id": "550943d4-9b63-4be6-882f-e1eab4c487dc",
   "metadata": {},
   "source": [
    "### Section 1.8: Sub-DOF Handler\n",
    "How do find indices of fields? "
   ]
  },
  {
   "cell_type": "code",
   "execution_count": 57,
   "id": "7d75f65d-9d05-4382-b4bc-cf5d4863c8c0",
   "metadata": {},
   "outputs": [
    {
     "data": {
      "text/plain": [
       "1:4"
      ]
     },
     "execution_count": 57,
     "metadata": {},
     "output_type": "execute_result"
    }
   ],
   "source": [
    "dof_range(dh,:u)"
   ]
  },
  {
   "cell_type": "code",
   "execution_count": 64,
   "id": "4b28deb7-d3cc-41f2-89a5-d4bfb08255c6",
   "metadata": {},
   "outputs": [
    {
     "data": {
      "text/latex": [
       "\\begin{verbatim}\n",
       "DofOrder.FieldWise()\n",
       "DofOrder.FieldWise(target_blocks::Vector{Int})\n",
       "\\end{verbatim}\n",
       "Dof order passed to \\href{@ref}{\\texttt{renumber!}} to renumber global dofs field wise resulting in a globally blocked system.\n",
       "\n",
       "The default behavior is to group dofs of each field into their own block, with the same order as in the DofHandler. This can be customized by passing a vector of the same length as the total number of fields in the DofHandler (see \\texttt{getfieldnames(dh)}) that maps each field to a \"target block\": to renumber a DofHandler with three fields \\texttt{:u}, \\texttt{:v}, \\texttt{:w} such that dofs for \\texttt{:u} and \\texttt{:w} end up in the first global block, and dofs for \\texttt{:v} in the second global block use \\texttt{DofOrder.FieldWise([1, 2, 1])}.\n",
       "\n",
       "This renumbering is stable such that the original relative ordering of dofs within each target block is maintained.\n",
       "\n"
      ],
      "text/markdown": [
       "```\n",
       "DofOrder.FieldWise()\n",
       "DofOrder.FieldWise(target_blocks::Vector{Int})\n",
       "```\n",
       "\n",
       "Dof order passed to [`renumber!`](@ref) to renumber global dofs field wise resulting in a globally blocked system.\n",
       "\n",
       "The default behavior is to group dofs of each field into their own block, with the same order as in the DofHandler. This can be customized by passing a vector of the same length as the total number of fields in the DofHandler (see `getfieldnames(dh)`) that maps each field to a \"target block\": to renumber a DofHandler with three fields `:u`, `:v`, `:w` such that dofs for `:u` and `:w` end up in the first global block, and dofs for `:v` in the second global block use `DofOrder.FieldWise([1, 2, 1])`.\n",
       "\n",
       "This renumbering is stable such that the original relative ordering of dofs within each target block is maintained.\n"
      ],
      "text/plain": [
       "\u001b[36m  DofOrder.FieldWise()\u001b[39m\n",
       "\u001b[36m  DofOrder.FieldWise(target_blocks::Vector{Int})\u001b[39m\n",
       "\n",
       "  Dof order passed to \u001b[36mrenumber!\u001b[39m to renumber global dofs field wise resulting\n",
       "  in a globally blocked system.\n",
       "\n",
       "  The default behavior is to group dofs of each field into their own block,\n",
       "  with the same order as in the DofHandler. This can be customized by passing\n",
       "  a vector of the same length as the total number of fields in the DofHandler\n",
       "  (see \u001b[36mgetfieldnames(dh)\u001b[39m) that maps each field to a \"target block\": to\n",
       "  renumber a DofHandler with three fields \u001b[36m:u\u001b[39m, \u001b[36m:v\u001b[39m, \u001b[36m:w\u001b[39m such that dofs for \u001b[36m:u\u001b[39m and\n",
       "  \u001b[36m:w\u001b[39m end up in the first global block, and dofs for \u001b[36m:v\u001b[39m in the second global\n",
       "  block use \u001b[36mDofOrder.FieldWise([1, 2, 1])\u001b[39m.\n",
       "\n",
       "  This renumbering is stable such that the original relative ordering of dofs\n",
       "  within each target block is maintained."
      ]
     },
     "execution_count": 64,
     "metadata": {},
     "output_type": "execute_result"
    }
   ],
   "source": [
    "?DofOrder.FieldWise()"
   ]
  },
  {
   "cell_type": "code",
   "execution_count": 66,
   "id": "d0b04322-61ae-40b5-ad08-da4dbb34fb18",
   "metadata": {},
   "outputs": [
    {
     "ename": "LoadError",
     "evalue": "MethodError: no method matching iterate(::Symbol)\n\n\u001b[0mClosest candidates are:\n\u001b[0m  iterate(\u001b[91m::Union{LinRange, StepRangeLen}\u001b[39m)\n\u001b[0m\u001b[90m   @\u001b[39m \u001b[90mBase\u001b[39m \u001b[90m\u001b[4mrange.jl:880\u001b[24m\u001b[39m\n\u001b[0m  iterate(\u001b[91m::Union{LinRange, StepRangeLen}\u001b[39m, \u001b[91m::Integer\u001b[39m)\n\u001b[0m\u001b[90m   @\u001b[39m \u001b[90mBase\u001b[39m \u001b[90m\u001b[4mrange.jl:880\u001b[24m\u001b[39m\n\u001b[0m  iterate(\u001b[91m::T\u001b[39m) where T<:Union{Base.KeySet{<:Any, <:Dict}, Base.ValueIterator{<:Dict}}\n\u001b[0m\u001b[90m   @\u001b[39m \u001b[90mBase\u001b[39m \u001b[90m\u001b[4mdict.jl:698\u001b[24m\u001b[39m\n\u001b[0m  ...\n",
     "output_type": "error",
     "traceback": [
      "MethodError: no method matching iterate(::Symbol)\n\n\u001b[0mClosest candidates are:\n\u001b[0m  iterate(\u001b[91m::Union{LinRange, StepRangeLen}\u001b[39m)\n\u001b[0m\u001b[90m   @\u001b[39m \u001b[90mBase\u001b[39m \u001b[90m\u001b[4mrange.jl:880\u001b[24m\u001b[39m\n\u001b[0m  iterate(\u001b[91m::Union{LinRange, StepRangeLen}\u001b[39m, \u001b[91m::Integer\u001b[39m)\n\u001b[0m\u001b[90m   @\u001b[39m \u001b[90mBase\u001b[39m \u001b[90m\u001b[4mrange.jl:880\u001b[24m\u001b[39m\n\u001b[0m  iterate(\u001b[91m::T\u001b[39m) where T<:Union{Base.KeySet{<:Any, <:Dict}, Base.ValueIterator{<:Dict}}\n\u001b[0m\u001b[90m   @\u001b[39m \u001b[90mBase\u001b[39m \u001b[90m\u001b[4mdict.jl:698\u001b[24m\u001b[39m\n\u001b[0m  ...\n",
      "",
      "Stacktrace:",
      " [1] isempty(itr::Symbol)",
      "   @ Base ./essentials.jl:881",
      " [2] _check_target_blocks(x::Symbol)",
      "   @ Ferrite.DofOrder ~/.julia/packages/Ferrite/Iyg5J/src/Dofs/DofRenumbering.jl:10",
      " [3] Ferrite.DofOrder.FieldWise(x::Symbol)",
      "   @ Ferrite.DofOrder ~/.julia/packages/Ferrite/Iyg5J/src/Dofs/DofRenumbering.jl:20",
      " [4] top-level scope",
      "   @ In[66]:1"
     ]
    }
   ],
   "source": [
    "DofOrder.FieldWise(:u)"
   ]
  },
  {
   "cell_type": "code",
   "execution_count": 61,
   "id": "f85e7900-8cc1-4d82-b670-628fe6a406f5",
   "metadata": {},
   "outputs": [
    {
     "name": "stdout",
     "output_type": "stream",
     "text": [
      "search: \u001b[0m\u001b[1mr\u001b[22m\u001b[0m\u001b[1me\u001b[22m\u001b[0m\u001b[1mn\u001b[22m\u001b[0m\u001b[1mu\u001b[22m\u001b[0m\u001b[1mm\u001b[22m\u001b[0m\u001b[1mb\u001b[22m\u001b[0m\u001b[1me\u001b[22m\u001b[0m\u001b[1mr\u001b[22m\u001b[0m\u001b[1m!\u001b[22m\n",
      "\n"
     ]
    },
    {
     "data": {
      "text/latex": [
       "\\begin{verbatim}\n",
       "renumber!(dh::AbstractDofHandler, order)\n",
       "renumber!(dh::AbstractDofHandler, ch::ConstraintHandler, order)\n",
       "\\end{verbatim}\n",
       "Renumber the degrees of freedom in the DofHandler and/or ConstraintHandler according to the ordering \\texttt{order}.\n",
       "\n",
       "\\texttt{order} can be given by one of the following options:\n",
       "\n",
       "\\begin{itemize}\n",
       "\\item A permutation vector \\texttt{perm::AbstractVector\\{Int\\}} such that dof \\texttt{i} is renumbered to \\texttt{perm[i]}.\n",
       "\n",
       "\n",
       "\\item \\href{@ref}{\\texttt{DofOrder.FieldWise()}} for renumbering dofs field wise.\n",
       "\n",
       "\n",
       "\\item \\href{@ref}{\\texttt{DofOrder.ComponentWise()}} for renumbering dofs component wise.\n",
       "\n",
       "\n",
       "\\item \\texttt{DofOrder.Ext\\{T\\}} for \"external\" renumber permutations, see documentation for \\texttt{DofOrder.Ext} for details.\n",
       "\n",
       "\\end{itemize}\n",
       "\\begin{quote}\n",
       "\\textbf{warning}\n",
       "\n",
       "Warning\n",
       "\n",
       "The dof numbering in the DofHandler and ConstraintHandler \\emph{must always be consistent}. It is therefore necessary to either renumber \\emph{before} creating the ConstraintHandler in the first place, or to renumber the DofHandler and the ConstraintHandler \\emph{together}.\n",
       "\n",
       "\\end{quote}\n"
      ],
      "text/markdown": [
       "```\n",
       "renumber!(dh::AbstractDofHandler, order)\n",
       "renumber!(dh::AbstractDofHandler, ch::ConstraintHandler, order)\n",
       "```\n",
       "\n",
       "Renumber the degrees of freedom in the DofHandler and/or ConstraintHandler according to the ordering `order`.\n",
       "\n",
       "`order` can be given by one of the following options:\n",
       "\n",
       "  * A permutation vector `perm::AbstractVector{Int}` such that dof `i` is renumbered to `perm[i]`.\n",
       "  * [`DofOrder.FieldWise()`](@ref) for renumbering dofs field wise.\n",
       "  * [`DofOrder.ComponentWise()`](@ref) for renumbering dofs component wise.\n",
       "  * `DofOrder.Ext{T}` for \"external\" renumber permutations, see documentation for `DofOrder.Ext` for details.\n",
       "\n",
       "!!! warning\n",
       "    The dof numbering in the DofHandler and ConstraintHandler *must always be consistent*. It is therefore necessary to either renumber *before* creating the ConstraintHandler in the first place, or to renumber the DofHandler and the ConstraintHandler *together*.\n",
       "\n"
      ],
      "text/plain": [
       "\u001b[36m  renumber!(dh::AbstractDofHandler, order)\u001b[39m\n",
       "\u001b[36m  renumber!(dh::AbstractDofHandler, ch::ConstraintHandler, order)\u001b[39m\n",
       "\n",
       "  Renumber the degrees of freedom in the DofHandler and/or ConstraintHandler\n",
       "  according to the ordering \u001b[36morder\u001b[39m.\n",
       "\n",
       "  \u001b[36morder\u001b[39m can be given by one of the following options:\n",
       "\n",
       "    •  A permutation vector \u001b[36mperm::AbstractVector{Int}\u001b[39m such that dof \u001b[36mi\u001b[39m is\n",
       "       renumbered to \u001b[36mperm[i]\u001b[39m.\n",
       "\n",
       "    •  \u001b[36mDofOrder.FieldWise()\u001b[39m for renumbering dofs field wise.\n",
       "\n",
       "    •  \u001b[36mDofOrder.ComponentWise()\u001b[39m for renumbering dofs component wise.\n",
       "\n",
       "    •  \u001b[36mDofOrder.Ext{T}\u001b[39m for \"external\" renumber permutations, see\n",
       "       documentation for \u001b[36mDofOrder.Ext\u001b[39m for details.\n",
       "\n",
       "\u001b[33m\u001b[1m  │ \u001b[22m\u001b[39m\u001b[33m\u001b[1mWarning\u001b[22m\u001b[39m\n",
       "\u001b[33m\u001b[1m  │\u001b[22m\u001b[39m\n",
       "\u001b[33m\u001b[1m  │\u001b[22m\u001b[39m  The dof numbering in the DofHandler and ConstraintHandler \u001b[4mmust\n",
       "\u001b[33m\u001b[1m  │\u001b[22m\u001b[39m  always be consistent\u001b[24m. It is therefore necessary to either renumber\n",
       "\u001b[33m\u001b[1m  │\u001b[22m\u001b[39m  \u001b[4mbefore\u001b[24m creating the ConstraintHandler in the first place, or to\n",
       "\u001b[33m\u001b[1m  │\u001b[22m\u001b[39m  renumber the DofHandler and the ConstraintHandler \u001b[4mtogether\u001b[24m."
      ]
     },
     "execution_count": 61,
     "metadata": {},
     "output_type": "execute_result"
    }
   ],
   "source": [
    "?renumber!"
   ]
  },
  {
   "cell_type": "code",
   "execution_count": 68,
   "id": "59143ed9-ec89-4605-a1ec-2f1a4a551948",
   "metadata": {},
   "outputs": [],
   "source": [
    "dd = renumber!(dh, DofOrder.FieldWise() )"
   ]
  },
  {
   "cell_type": "code",
   "execution_count": 72,
   "id": "4e8245f7-29d6-4b89-9acd-bea71bc63e93",
   "metadata": {},
   "outputs": [
    {
     "data": {
      "text/plain": [
       "4-element Vector{Int64}:\n",
       "  4\n",
       "  3\n",
       "  9\n",
       " 10"
      ]
     },
     "execution_count": 72,
     "metadata": {},
     "output_type": "execute_result"
    }
   ],
   "source": [
    "celldofs(dh,4)"
   ]
  },
  {
   "cell_type": "code",
   "execution_count": 58,
   "id": "d4b588c0-6d33-4959-8496-efd7685168a6",
   "metadata": {},
   "outputs": [
    {
     "data": {
      "text/plain": [
       "(1, 1)"
      ]
     },
     "execution_count": 58,
     "metadata": {},
     "output_type": "execute_result"
    }
   ],
   "source": [
    "sdh = dh.subdofhandlers[1]\n",
    "# getfieldnames(sdh)                     # does not work yet \n",
    "field_idx = find_field(dh, :u) # does not work yet"
   ]
  },
  {
   "cell_type": "code",
   "execution_count": 39,
   "id": "fae16c49-e460-40de-93b6-64ea71580a7f",
   "metadata": {},
   "outputs": [
    {
     "data": {
      "text/plain": [
       "my_loop_dh (generic function with 1 method)"
      ]
     },
     "execution_count": 39,
     "metadata": {},
     "output_type": "execute_result"
    }
   ],
   "source": [
    "function my_loop_dh(dh::DofHandler)\n",
    "\n",
    "    for (sdh, ip_geo) in zip(dh.subdofhandlers, ip_geos)\n",
    "        field_idx = find_field(sdh, fieldname)\n",
    "        ip_fun = getfieldinterpolation(sdh, field_idx)\n",
    "    end\n",
    "    return 0;\n",
    "end"
   ]
  },
  {
   "cell_type": "code",
   "execution_count": null,
   "id": "6b56ee4d-0a6b-4a82-950a-f3eb01ae9d60",
   "metadata": {},
   "outputs": [],
   "source": [
    "my_loop_dh(dh)"
   ]
  },
  {
   "cell_type": "markdown",
   "id": "f1ea2444-4d58-4732-84d6-c8a741b35af8",
   "metadata": {},
   "source": [
    "### Use of the function apply_analytical() to set the initial condition"
   ]
  },
  {
   "cell_type": "code",
   "execution_count": null,
   "id": "153b8ebb-cb13-4a7a-b544-43509c9befe8",
   "metadata": {},
   "outputs": [],
   "source": []
  },
  {
   "cell_type": "code",
   "execution_count": null,
   "id": "7d9b0aac-3f97-462a-a63b-4eb5ac4bb6bf",
   "metadata": {},
   "outputs": [],
   "source": []
  },
  {
   "cell_type": "code",
   "execution_count": 45,
   "id": "a4970bfd-d90e-45b3-a1c1-e796439b29c8",
   "metadata": {},
   "outputs": [
    {
     "data": {
      "text/plain": [
       "_find_field"
      ]
     },
     "execution_count": 45,
     "metadata": {},
     "output_type": "execute_result"
    }
   ],
   "source": [
    "function find_field(dh::DofHandler, field_name::Symbol)\n",
    "    for (sdh_idx, sdh) in pairs(dh.subdofhandlers)\n",
    "        field_idx = _find_field(sdh, field_name)\n",
    "        !isnothing(field_idx) && return (sdh_idx, field_idx)\n",
    "    end\n",
    "    error(\"Did not find field :$field_name in DofHandler (existing fields: $(getfieldnames(dh))).\")\n",
    "end\n",
    "\"\"\"\n",
    "    _find_field(sdh::SubDofHandler, field_name::Symbol)::Int\n",
    "\n",
    "Return the index of the field with name `field_name` in the `SubDofHandler` `sdh`. Return\n",
    "`nothing` if the field is not found.\n",
    "\n",
    "See also: [`find_field(dh::DofHandler, field_name::Symbol)`](@ref), [`find_field(sdh::SubDofHandler, field_name::Symbol)`](@ref).\n",
    "\"\"\"\n",
    "function _find_field(sdh::SubDofHandler, field_name::Symbol)\n",
    "    return findfirst(x -> x === field_name, sdh.field_names)\n",
    "end"
   ]
  },
  {
   "cell_type": "code",
   "execution_count": null,
   "id": "f325d8cc-cd97-44da-ba55-58ef4a2e0bad",
   "metadata": {},
   "outputs": [],
   "source": []
  },
  {
   "cell_type": "code",
   "execution_count": null,
   "id": "33e94c2d-3edd-4d24-9e30-3df3fed9c985",
   "metadata": {},
   "outputs": [],
   "source": []
  },
  {
   "cell_type": "code",
   "execution_count": 37,
   "id": "b8e107a1-8e89-433d-af0f-90305126b811",
   "metadata": {},
   "outputs": [
    {
     "data": {
      "text/plain": [
       "apply_analytical! (generic function with 2 methods)"
      ]
     },
     "execution_count": 37,
     "metadata": {},
     "output_type": "execute_result"
    }
   ],
   "source": [
    "function apply_analytical!(\n",
    "        a::AbstractVector, dh::DofHandler, fieldname::Symbol, f::Function,\n",
    "        cellset = 1:getncells(get_grid(dh))\n",
    "    )\n",
    "\n",
    "    fieldname ∉ getfieldnames(dh) && error(\"The fieldname $fieldname was not found in the dof handler\")\n",
    "    ip_geos = _geometric_interpolations(dh)\n",
    "\n",
    "    for (sdh, ip_geo) in zip(dh.subdofhandlers, ip_geos)\n",
    "        isnothing(_find_field(sdh, fieldname)) && continue\n",
    "        field_idx = find_field(sdh, fieldname)\n",
    "        ip_fun = getfieldinterpolation(sdh, field_idx)\n",
    "        field_dim = n_components(sdh, field_idx)\n",
    "        celldofinds = dof_range(sdh, fieldname)\n",
    "        set_intersection = if length(cellset) == length(sdh.cellset) == getncells(get_grid(dh))\n",
    "            BitSet(1:getncells(get_grid(dh)))\n",
    "        else\n",
    "            intersect(BitSet(sdh.cellset), BitSet(cellset))\n",
    "        end\n",
    "        isempty(set_intersection) && continue\n",
    "        _apply_analytical!(a, dh, celldofinds, field_dim, ip_fun, ip_geo, f, set_intersection)\n",
    "    end\n",
    "    return a\n",
    "end\n",
    "\n",
    "function _apply_analytical!(\n",
    "        a::AbstractVector, dh::AbstractDofHandler, celldofinds, field_dim,\n",
    "        ip_fun::Interpolation{RefShape}, ip_geo::Interpolation, f::Function, cellset\n",
    "    ) where {dim, RefShape <: AbstractRefShape{dim}}\n",
    "\n",
    "    coords = getcoordinates(get_grid(dh), first(cellset))\n",
    "    ref_points = reference_coordinates(ip_fun)\n",
    "    dummy_weights = zeros(length(ref_points))\n",
    "    qr = QuadratureRule{RefShape}(dummy_weights, ref_points)\n",
    "    # Note: Passing ip_geo as the function interpolation here, it is just a dummy.\n",
    "    cv = CellValues(qr, ip_geo, ip_geo)\n",
    "    c_dofs = celldofs(dh, first(cellset))\n",
    "    f_dofs = zeros(Int, length(celldofinds))\n",
    "\n",
    "    # Check f before looping\n",
    "    length(f(first(coords))) == field_dim || error(\"length(f(x)) must be equal to dimension of the field ($field_dim)\")\n",
    "\n",
    "    for cellnr in cellset\n",
    "        getcoordinates!(coords, get_grid(dh), cellnr)\n",
    "        celldofs!(c_dofs, dh, cellnr)\n",
    "        for (i, celldofind) in enumerate(celldofinds)\n",
    "            f_dofs[i] = c_dofs[celldofind]\n",
    "        end\n",
    "        _apply_analytical!(a, f_dofs, coords, field_dim, cv, f)\n",
    "    end\n",
    "    return a\n",
    "end\n",
    "\n",
    "function _apply_analytical!(a::AbstractVector, dofs::Vector{Int}, coords::Vector{<:Vec}, field_dim, cv::CellValues, f)\n",
    "    for i_dof in 1:getnquadpoints(cv)\n",
    "        x_dof = spatial_coordinate(cv, i_dof, coords)\n",
    "        for (idim, icval) in enumerate(f(x_dof))\n",
    "            a[dofs[field_dim * (i_dof - 1) + idim]] = icval\n",
    "        end\n",
    "    end\n",
    "    return a\n",
    "end"
   ]
  },
  {
   "cell_type": "code",
   "execution_count": null,
   "id": "4c401d0c-5704-43c3-bfa5-d84f179ac84c",
   "metadata": {},
   "outputs": [],
   "source": [
    "nelem = 50\n",
    "H = 0.25; L = 4*H \n",
    "nels  = (4*nelem, nelem) # number of elements in each spatial direction\n",
    "left  = Vec((0., 0.))    # start point for geometry \n",
    "right = Vec((L, H,)) # end point for geometry\n",
    "grid = generate_grid(Quadrilateral,nels,left,right);\n",
    "\n",
    "dim = 2 \n",
    "degree = 2\n",
    "\n",
    "# Interpolations\n",
    "ipu = Lagrange{RefQuadrilateral,degree+1}() ^ dim # quadratic for 3 velocity components \n",
    "ipp = Lagrange{RefQuadrilateral,degree}()         # linear for scalar pressure \n",
    "\n",
    "# Dofs\n",
    "dh = DofHandler(grid)\n",
    "add!(dh, :u, ipu)\n",
    "add!(dh, :p, ipp)\n",
    "close!(dh) \n",
    "\n",
    "uinit = zeros(ndofs(dh))\n",
    "apply_analytical!(uinit, dh, :p, x -> (x[1]^2 - 1) * (x[2]^2 - 1)); # init condition for pressure \n",
    "apply_analytical!(uinit, dh, :u, x -> [x[2]*sin(pi*x[1]), x[1]*cos(pi*x[2])]); # init condition for velocity \n",
    "\n",
    "VTKGridFile(\"stokes_2d_channel_init\", dh) do vtk\n",
    "    write_solution(vtk, dh, uinit)\n",
    "end"
   ]
  },
  {
   "cell_type": "markdown",
   "id": "815c087d",
   "metadata": {},
   "source": [
    "### Ferrite.jl Howto: What does re-init do? "
   ]
  },
  {
   "cell_type": "code",
   "execution_count": 28,
   "id": "3dadd90b",
   "metadata": {},
   "outputs": [],
   "source": [
    "#?reinit!"
   ]
  },
  {
   "cell_type": "markdown",
   "id": "a5d830e4",
   "metadata": {},
   "source": [
    "### Ferrite.jl Howto:  How to get coords and coord_qp?\n",
    "Obtain coordinates of quadrature points in each cell by \n",
    "1. loop over cells in the mesh using CellIterator(dh), where dh = DofHandler(grid);\n",
    "2. for each cell, retrieve the coordinates for each cell using getcoordinates() yielding coord as output; \n",
    "3. reinit cellvalues for each cell using reinit!;   \n",
    "4. loop over quad points of cell and retrieve spatial coordinate for each quad point in the cell using spatial_coordinate() and coords as input; "
   ]
  },
  {
   "cell_type": "markdown",
   "id": "620165ec",
   "metadata": {},
   "source": [
    "### Ferrite.jl Howto:  What is RefCube? What are alternative values? "
   ]
  },
  {
   "cell_type": "code",
   "execution_count": 29,
   "id": "2b2fc77e",
   "metadata": {},
   "outputs": [
    {
     "data": {
      "text/html": [
       "# 0 methods for type constructor<ul></ul>"
      ],
      "text/plain": [
       "# 0 methods for type constructor"
      ]
     },
     "execution_count": 29,
     "metadata": {},
     "output_type": "execute_result"
    }
   ],
   "source": [
    "methods(QuadratureRule)"
   ]
  },
  {
   "cell_type": "markdown",
   "id": "10940afd-3adb-4172-965a-9196f0c260ff",
   "metadata": {},
   "source": [
    "## Section 9: Updating Vectors and Matrices within Non-Linear or Time Loop\n",
    "\n",
    "What is the difference between <i>apply!</i>, <i>apply_rhs!</i> and <i>update!</i>. "
   ]
  },
  {
   "cell_type": "code",
   "execution_count": null,
   "id": "b7758e34-3287-41b6-b0dd-8b50e7ffa753",
   "metadata": {},
   "outputs": [],
   "source": []
  },
  {
   "cell_type": "markdown",
   "id": "17af6185",
   "metadata": {},
   "source": [
    "## Section 10: Mesh Convergence for the 1D Poisson Equation"
   ]
  },
  {
   "cell_type": "code",
   "execution_count": 27,
   "id": "09e6f388",
   "metadata": {},
   "outputs": [
    {
     "data": {
      "text/plain": [
       "assemble_element! (generic function with 1 method)"
      ]
     },
     "execution_count": 27,
     "metadata": {},
     "output_type": "execute_result"
    }
   ],
   "source": [
    "# define spatially varying diffusion coefficient \n",
    "function my_diff_coeff(x)\n",
    "    return 1.  \n",
    "end \n",
    "\n",
    "# define spatially varying source functin \n",
    "function my_source(x)\n",
    "    return -pi^2*x[1]*(x[1]-1)*sin(pi*x[1])+2*pi*x[1]*cos(pi*x[1])+2*pi*(x[1]-1)*cos(pi*x[1])+2*sin(pi*x[1])\n",
    "end \n",
    "\n",
    "# Ke: added spatially varying diffusion coefficient \n",
    "# fe: forces zero source term \n",
    "function assemble_element!(Ke::Matrix, fe::Vector, cellvalues::CellScalarValues, mycoords)\n",
    "    n_basefuncs = getnbasefunctions(cellvalues)\n",
    "    # Reset to 0\n",
    "    fill!(Ke, 0)\n",
    "    fill!(fe, 0)\n",
    "    # Loop over quadrature points\n",
    "    for q_point in 1:getnquadpoints(cellvalues)\n",
    "        # Get the quadrature weight\n",
    "        dΩ = getdetJdV(cellvalues, q_point)\n",
    "        # ADDED: Get coord of quadrature point\n",
    "        coords_qp = spatial_coordinate(cellvalues, q_point, mycoords)\n",
    "        # ADDED: Evaluate spatially dependent diffusion coefficient in quad point \n",
    "        val_diff_coeff = my_diff_coeff(coords_qp)\n",
    "        # ADDED: Evaluate spatially dependent source term in quad point \n",
    "        val_source = my_source(coords_qp)        \n",
    "        # Loop over test shape functions\n",
    "        for i in 1:n_basefuncs\n",
    "            δu  = shape_value(cellvalues, q_point, i)\n",
    "            ∇δu = shape_gradient(cellvalues, q_point, i)\n",
    "            # Add contribution to fe\n",
    "            fe[i] += val_source * δu * dΩ\n",
    "            # Loop over trial shape functions\n",
    "            for j in 1:n_basefuncs\n",
    "                ∇u = shape_gradient(cellvalues, q_point, j)\n",
    "                # MODIFIED: Add contribution to Ke\n",
    "                Ke[i, j] += val_diff_coeff * (∇δu ⋅ ∇u) * dΩ\n",
    "            end\n",
    "        end\n",
    "    end\n",
    "    return Ke, fe\n",
    "end"
   ]
  },
  {
   "cell_type": "code",
   "execution_count": 28,
   "id": "3a9f0153",
   "metadata": {},
   "outputs": [
    {
     "data": {
      "text/plain": [
       "assemble_global (generic function with 1 method)"
      ]
     },
     "execution_count": 28,
     "metadata": {},
     "output_type": "execute_result"
    }
   ],
   "source": [
    "function assemble_global(cellvalues::CellScalarValues, K::SparseMatrixCSC, dh::DofHandler)\n",
    "    # Allocate the element stiffness matrix and element force vector\n",
    "    n_basefuncs = getnbasefunctions(cellvalues)\n",
    "    Ke = zeros(n_basefuncs, n_basefuncs)\n",
    "    fe = zeros(n_basefuncs)\n",
    "    # Allocate global force vector f\n",
    "    f = zeros(ndofs(dh))\n",
    "    # Create an assembler\n",
    "    assembler = start_assemble(K, f)\n",
    "    # Loop over all cels\n",
    "    for cell in CellIterator(dh)\n",
    "        # Added: Get coordinates from current cell \n",
    "        coords = getcoordinates(cell)\n",
    "        # Reinitialize cellvalues for this cell\n",
    "        reinit!(cellvalues, cell)\n",
    "        # Modified - Compute element contribution\n",
    "        assemble_element!(Ke, fe, cellvalues, coords)\n",
    "        # Assemble Ke and fe into K and f\n",
    "        assemble!(assembler, celldofs(cell), Ke, fe)\n",
    "    end\n",
    "    return K, f\n",
    "end"
   ]
  },
  {
   "cell_type": "markdown",
   "id": "cd0a87f6",
   "metadata": {},
   "source": [
    "### First Order (Linear) Shape Functions   \n",
    "\n",
    "Observe that: \n",
    "1. max-error-norm reduces quadratically with mesh size in case that low order quadrature is used; \n",
    "2. in case that high order quadrature rule is used, the max-error-norm reduces faster; "
   ]
  },
  {
   "cell_type": "code",
   "execution_count": 33,
   "id": "09b134fd",
   "metadata": {},
   "outputs": [
    {
     "ename": "LoadError",
     "evalue": "DeprecationError: The `CellScalarValues` interface has been reworked for Ferrite.jl 0.4.0:\n\n - `CellScalarValues` and `CellVectorValues` have been merged into a single type: `CellValues`\n - \"Vectorization\" of (scalar) interpolations should now be done on the interpolation\n   instead of implicitly in the `CellValues` constructor.\n\nUpgrade as follows:\n - Scalar fields: Replace usage of\n       CellScalarValues(quad_rule, interpolation)\n   with\n       CellValues(quad_rule, interpolation)\n - Vector fields: Replace usage of\n       CellVectorValues(quad_rule, interpolation)\n   with\n       CellValues(quad_rule, interpolation^dim)\n   where `dim` is the dimension to vectorize to.\n\nSee CHANGELOG.md (https://github.com/Ferrite-FEM/Ferrite.jl/blob/master/CHANGELOG.md) for more details.\n",
     "output_type": "error",
     "traceback": [
      "DeprecationError: The `CellScalarValues` interface has been reworked for Ferrite.jl 0.4.0:\n\n - `CellScalarValues` and `CellVectorValues` have been merged into a single type: `CellValues`\n - \"Vectorization\" of (scalar) interpolations should now be done on the interpolation\n   instead of implicitly in the `CellValues` constructor.\n\nUpgrade as follows:\n - Scalar fields: Replace usage of\n       CellScalarValues(quad_rule, interpolation)\n   with\n       CellValues(quad_rule, interpolation)\n - Vector fields: Replace usage of\n       CellVectorValues(quad_rule, interpolation)\n   with\n       CellValues(quad_rule, interpolation^dim)\n   where `dim` is the dimension to vectorize to.\n\nSee CHANGELOG.md (https://github.com/Ferrite-FEM/Ferrite.jl/blob/master/CHANGELOG.md) for more details.\n",
      "",
      "Stacktrace:",
      " [1] CellScalarValues(::QuadratureRule{RefLine, Vector{Float64}, Vector{Vec{1, Float64}}}, ::Vararg{Any})",
      "   @ Ferrite ~/.julia/packages/Ferrite/Iyg5J/src/deprecations.jl:208",
      " [2] top-level scope",
      "   @ In[33]:8"
     ]
    }
   ],
   "source": [
    "nels  = (16,)        # number of elements in each spatial direction\n",
    "left  = Vec((0.,))   # start point for geometry: lower-left point of the square \n",
    "right = Vec((1.,))   # end point for geometry: upper-right point of the square\n",
    "grid = generate_grid(Line,nels,left,right)\n",
    "\n",
    "dim = 1\n",
    "ip = Lagrange{RefLine, 1}()\n",
    "qr = QuadratureRule{RefLine}(1)\n",
    "cellvalues = CellScalarValues(qr, ip);\n",
    "\n",
    "dh = DofHandler(grid)\n",
    "add!(dh, :u, 1)\n",
    "close!(dh);\n",
    "\n",
    "K = create_sparsity_pattern(dh)\n",
    "\n",
    "ch = ConstraintHandler(dh)\n",
    "\n",
    "∂Ω = union(\n",
    "    getfaceset(grid, \"left\"),\n",
    "    getfaceset(grid, \"right\")\n",
    ")\n",
    "\n",
    "dbc = Dirichlet(:u, ∂Ω, (x, t) -> 0)\n",
    "add!(ch, dbc)\n",
    "close!(ch)\n",
    "\n",
    "K, f = assemble_global(cellvalues, K, dh);\n",
    "\n",
    "apply!(K, f, ch)\n",
    "u = K \\ f;\n",
    "\n",
    "# define analytical solution \n",
    "u_anal(x::Vec) = -x[1]*(x[1]-1)*sin(pi*x[1])\n",
    "u_anal(node::Node) = u_anal(node.x)\n",
    "\n",
    "# initialize vector holding the analytical solution \n",
    "u_appl_analytical = zeros(ndofs(dh))\n",
    "\n",
    "# set the analytical solution at the DOFS - note use of function with a bang \n",
    "apply_analytical!(u_appl_analytical, dh, :u, u_anal)\n",
    "\n",
    "# set the analytical solution at the nodes - applies reordering - out is a matrix \n",
    "u_appl_analytical_at_nodes = reshape_to_nodes(dh, u_appl_analytical, :u)\n",
    "\n",
    "# set numerical solution at the nodes - applies reordering - out is a matrix\n",
    "u_computed_at_nodes = reshape_to_nodes(dh, u, :u)\n",
    "\n",
    "p1 = plot(u_computed_at_nodes[1,:])\n",
    "p2 = plot(u_appl_analytical_at_nodes[1,:])\n",
    "p3 = plot(abs.(u_computed_at_nodes[1,:]-u_appl_analytical_at_nodes[1,:]))\n",
    "plot(p1,p2,p3, layout = (3,1))\n",
    "# plot(p3)"
   ]
  },
  {
   "cell_type": "markdown",
   "id": "7aa14fd3",
   "metadata": {},
   "source": [
    "### Second Order (Quadratic) Shape Functions\n",
    "\n",
    "Observe that: \n",
    "1. error is smaller than first order elements \n",
    "2. max-error-norm reduces cubically with mesh size in case that appropriate order quadrature is used; "
   ]
  },
  {
   "cell_type": "code",
   "execution_count": 30,
   "id": "2cb89299",
   "metadata": {},
   "outputs": [
    {
     "ename": "LoadError",
     "evalue": "DeprecationError: \u001b[31m`Lagrange{1, RefCube, 2}()`\u001b[39m is deprecated, use \u001b[32m`Lagrange{RefLine, 2}()`\u001b[39m instead.",
     "output_type": "error",
     "traceback": [
      "DeprecationError: \u001b[31m`Lagrange{1, RefCube, 2}()`\u001b[39m is deprecated, use \u001b[32m`Lagrange{RefLine, 2}()`\u001b[39m instead.",
      "",
      "Stacktrace:",
      " [1] Lagrange{1, RefCube, 2}()",
      "   @ Ferrite ~/.julia/packages/Ferrite/Iyg5J/src/deprecations.jl:236",
      " [2] top-level scope",
      "   @ In[30]:7"
     ]
    }
   ],
   "source": [
    "nels  = (16,)        # number of elements in each spatial direction\n",
    "left  = Vec((0.,))   # start point for geometry: lower-left point of the square \n",
    "right = Vec((1.,))   # end point for geometry: upper-right point of the square\n",
    "grid = generate_grid(QuadraticLine,nels,left,right)\n",
    "\n",
    "dim = 1\n",
    "ip = Lagrange{dim, RefCube, 2}()\n",
    "qr = QuadratureRule{dim, RefCube}(8)\n",
    "cellvalues = CellScalarValues(qr, ip);\n",
    "\n",
    "dh = DofHandler(grid)\n",
    "add!(dh, :u, 1)\n",
    "close!(dh);\n",
    "\n",
    "K = create_sparsity_pattern(dh)\n",
    "\n",
    "ch = ConstraintHandler(dh)\n",
    "\n",
    "∂Ω = union(\n",
    "    getfaceset(grid, \"left\"),\n",
    "    getfaceset(grid, \"right\")\n",
    ")\n",
    "\n",
    "dbc = Dirichlet(:u, ∂Ω, (x, t) -> 0)\n",
    "add!(ch, dbc)\n",
    "close!(ch)\n",
    "\n",
    "K, f = assemble_global(cellvalues, K, dh);\n",
    "\n",
    "apply!(K, f, ch)\n",
    "u = K \\ f;\n",
    "\n",
    "# define analytical solution \n",
    "u_anal(x::Vec) = -x[1]*(x[1]-1)*sin(pi*x[1])\n",
    "u_anal(node::Node) = u_anal(node.x)\n",
    "\n",
    "# initialize vector holding the analytical solution \n",
    "u_appl_analytical = zeros(ndofs(dh))\n",
    "\n",
    "# set the analytical solution at the DOFS - note use of function with a bang \n",
    "apply_analytical!(u_appl_analytical, dh, :u, u_anal) \n",
    "\n",
    "# set the analytical solution at the nodes - applies reordering - out is a matrix \n",
    "u_appl_analytical_at_nodes = reshape_to_nodes(dh, u_appl_analytical, :u) \n",
    "\n",
    "# set numerical solution at the nodes - applies reordering - out is a matrix\n",
    "u_computed_at_nodes = reshape_to_nodes(dh, u, :u)\n",
    "\n",
    "p1 = plot(u_computed_at_nodes[1,:])\n",
    "p2 = plot(u_appl_analytical_at_nodes[1,:])\n",
    "p3 = plot(abs.(u_computed_at_nodes[1,:]-u_appl_analytical_at_nodes[1,:]))\n",
    "plot(p1,p2,p3, layout = (3,1))"
   ]
  },
  {
   "cell_type": "markdown",
   "id": "4efeccc4",
   "metadata": {},
   "source": [
    "## Section 11: Mesh Convergence for the 2D Poisson Equation "
   ]
  },
  {
   "cell_type": "code",
   "execution_count": null,
   "id": "b0d2843c",
   "metadata": {},
   "outputs": [],
   "source": [
    "# define spatially varying diffusion coefficient \n",
    "function my_diff_coeff(x)\n",
    "    xbound = abs(x[1])<0.3\n",
    "    ybound = abs(x[2])<0.1 \n",
    "    inPlate = xbound*ybound\n",
    "    inAir   = 1-inPlate\n",
    "    return 1 # 4*pi*1e-6*(inAir+1/100*inPlate) \n",
    "end \n",
    "\n",
    "# define spatially varying source functin \n",
    "function my_source(x)\n",
    "    return 2*pi^2*sin(pi*x[1])*sin(pi*x[2]) \n",
    "end \n",
    "\n",
    "# Ke: added spatially varying diffusion coefficient \n",
    "# fe: forces zero source term \n",
    "function assemble_element!(Ke::Matrix, fe::Vector, cellvalues::CellScalarValues, mycoords)\n",
    "    n_basefuncs = getnbasefunctions(cellvalues)\n",
    "    # Reset to 0\n",
    "    fill!(Ke, 0)\n",
    "    fill!(fe, 0)\n",
    "    # Loop over quadrature points\n",
    "    for q_point in 1:getnquadpoints(cellvalues)\n",
    "        # Get the quadrature weight\n",
    "        dΩ = getdetJdV(cellvalues, q_point)\n",
    "        # ADDED: Get coord of quadrature point\n",
    "        coords_qp = spatial_coordinate(cellvalues, q_point, mycoords)\n",
    "        # ADDED: Evaluate spatially dependent diffusion coefficient in quad point \n",
    "        val_diff_coeff = my_diff_coeff(coords_qp)\n",
    "        # ADDED: Evaluate spatially dependent source term in quad point \n",
    "        val_source = my_source(coords_qp)        \n",
    "        # Loop over test shape functions\n",
    "        for i in 1:n_basefuncs\n",
    "            δu  = shape_value(cellvalues, q_point, i)\n",
    "            ∇δu = shape_gradient(cellvalues, q_point, i)\n",
    "            # Add contribution to fe\n",
    "            fe[i] += val_source * δu * dΩ\n",
    "            # Loop over trial shape functions\n",
    "            for j in 1:n_basefuncs\n",
    "                ∇u = shape_gradient(cellvalues, q_point, j)\n",
    "                # MODIFIED: Add contribution to Ke\n",
    "                Ke[i, j] += val_diff_coeff * (∇δu ⋅ ∇u) * dΩ\n",
    "            end\n",
    "        end\n",
    "    end\n",
    "    return Ke, fe\n",
    "end"
   ]
  },
  {
   "cell_type": "code",
   "execution_count": null,
   "id": "118c25c7",
   "metadata": {},
   "outputs": [],
   "source": [
    "function assemble_global(cellvalues::CellScalarValues, K::SparseMatrixCSC, dh::DofHandler)\n",
    "    # Allocate the element stiffness matrix and element force vector\n",
    "    n_basefuncs = getnbasefunctions(cellvalues)\n",
    "    Ke = zeros(n_basefuncs, n_basefuncs)\n",
    "    fe = zeros(n_basefuncs)\n",
    "    # Allocate global force vector f\n",
    "    f = zeros(ndofs(dh))\n",
    "    # Create an assembler\n",
    "    assembler = start_assemble(K, f)\n",
    "    # Loop over all cels\n",
    "    for cell in CellIterator(dh)\n",
    "        # Added: Get coordinates from current cell \n",
    "        coords = getcoordinates(cell)\n",
    "        # Reinitialize cellvalues for this cell\n",
    "        reinit!(cellvalues, cell)\n",
    "        # Modified - Compute element contribution\n",
    "        assemble_element!(Ke, fe, cellvalues, coords)\n",
    "        # Assemble Ke and fe into K and f\n",
    "        assemble!(assembler, celldofs(cell), Ke, fe)\n",
    "    end\n",
    "    return K, f\n",
    "end"
   ]
  },
  {
   "cell_type": "markdown",
   "id": "af45dd1c",
   "metadata": {},
   "source": [
    "### First Order (Linear) Shape Functions   "
   ]
  },
  {
   "cell_type": "code",
   "execution_count": null,
   "id": "aaee908f",
   "metadata": {},
   "outputs": [],
   "source": [
    "?apply_analytical!"
   ]
  },
  {
   "cell_type": "code",
   "execution_count": null,
   "id": "f6697159",
   "metadata": {},
   "outputs": [],
   "source": [
    "nelem = 32\n",
    "nels  = (nelem, nelem) # number of elements in each spatial direction\n",
    "left  = Vec((0., 0.))    # start point for geometry \n",
    "right = Vec((1.0, 1.0,)) # end point for geometry\n",
    "grid = generate_grid(Quadrilateral,nels,left,right);\n",
    "\n",
    "dim = 2\n",
    "ip = Lagrange{dim, RefCube, 1}()\n",
    "qr = QuadratureRule{dim, RefCube}(4)\n",
    "cellvalues = CellScalarValues(qr, ip);\n",
    "\n",
    "dh = DofHandler(grid)\n",
    "add!(dh, :u, 1)\n",
    "close!(dh);\n",
    "\n",
    "K = create_sparsity_pattern(dh)\n",
    "\n",
    "ch = ConstraintHandler(dh)\n",
    "\n",
    "∂Ω = union(\n",
    "    getfaceset(grid, \"left\"),\n",
    "    getfaceset(grid, \"right\"),\n",
    "    getfaceset(grid, \"top\"),\n",
    "    getfaceset(grid, \"bottom\"),\n",
    ")\n",
    "\n",
    "dbc = Dirichlet(:u, ∂Ω, (x, t) -> 0)\n",
    "add!(ch, dbc)\n",
    "close!(ch)\n",
    "\n",
    "K, f = assemble_global(cellvalues, K, dh);\n",
    "\n",
    "apply!(K, f, ch)\n",
    "u = K \\ f;\n",
    "\n",
    "# initialize vector holding the analytical solution \n",
    "u_appl_analytical = zeros(ndofs(dh))\n",
    "\n",
    "# set the analytical solution at the DOFS - note use of function with a bang \n",
    "# apply_analytical!(u_appl_analytical, dh, :u, u4_anal)\n",
    "apply_analytical!(u_appl_analytical, dh, :u, x->sin(pi*x[1])*sin(pi*x[2]))\n",
    "\n",
    "# set the analytical solution at the nodes - applies reordering - out is a matrix \n",
    "u_appl_analytical_at_nodes = reshape_to_nodes(dh, u_appl_analytical, :u)\n",
    "\n",
    "# set numerical solution at the nodes - applies reordering - out is a matrix\n",
    "u_computed_at_nodes = reshape_to_nodes(dh, u, :u)\n",
    "\n",
    "p1 = plot(u_computed_at_nodes[1,:])\n",
    "p2 = plot(u_appl_analytical_at_nodes[1,:])\n",
    "p3 = plot(abs.(u_computed_at_nodes[1,:]-u_appl_analytical_at_nodes[1,:]))\n",
    "plot(p1,p2,p3, layout = (3,1))\n",
    "#plot(p3)"
   ]
  },
  {
   "cell_type": "markdown",
   "id": "fdbfe1dd",
   "metadata": {},
   "source": [
    "### Second Order (Quadratic) Shape Functions   "
   ]
  },
  {
   "cell_type": "code",
   "execution_count": null,
   "id": "35d16e60",
   "metadata": {},
   "outputs": [],
   "source": [
    "nelem = 16 \n",
    "nels  = (nelem, nelem) # number of elements in each spatial direction\n",
    "left  = Vec((0., 0.))    # start point for geometry \n",
    "right = Vec((1.0, 1.0,)) # end point for geometry\n",
    "grid = generate_grid(QuadraticQuadrilateral,nels,left,right);\n",
    "\n",
    "dim = 2\n",
    "ip = Lagrange{dim, RefCube, 2}()\n",
    "qr = QuadratureRule{dim, RefCube}(4)\n",
    "cellvalues = CellScalarValues(qr, ip);\n",
    "\n",
    "dh = DofHandler(grid)\n",
    "add!(dh, :u, 1)\n",
    "close!(dh);\n",
    "\n",
    "K = create_sparsity_pattern(dh)\n",
    "\n",
    "ch = ConstraintHandler(dh)\n",
    "\n",
    "∂Ω = union(\n",
    "    getfaceset(grid, \"left\"),\n",
    "    getfaceset(grid, \"right\"),\n",
    "    getfaceset(grid, \"top\"),\n",
    "    getfaceset(grid, \"bottom\"),\n",
    ")\n",
    "\n",
    "dbc = Dirichlet(:u, ∂Ω, (x, t) -> 0)\n",
    "add!(ch, dbc)\n",
    "close!(ch)\n",
    "\n",
    "K, f = assemble_global(cellvalues, K, dh);\n",
    "\n",
    "apply!(K, f, ch)\n",
    "u = K \\ f;\n",
    "\n",
    "# initialize vector holding the analytical solution \n",
    "u_appl_analytical = zeros(ndofs(dh))\n",
    "\n",
    "# set the analytical solution at the DOFS - note use of function with a bang \n",
    "# apply_analytical!(u_appl_analytical, dh, :u, u4_anal)\n",
    "apply_analytical!(u_appl_analytical, dh, :u, x->sin(pi*x[1])*sin(pi*x[2]))\n",
    "\n",
    "# set the analytical solution at the nodes - applies reordering - out is a matrix \n",
    "u_appl_analytical_at_nodes = reshape_to_nodes(dh, u_appl_analytical, :u)\n",
    "\n",
    "# set numerical solution at the nodes - applies reordering - out is a matrix\n",
    "u_computed_at_nodes = reshape_to_nodes(dh, u, :u)\n",
    "\n",
    "p1 = plot(u_computed_at_nodes[1,:])\n",
    "p2 = plot(u_appl_analytical_at_nodes[1,:])\n",
    "p3 = plot(abs.(u_computed_at_nodes[1,:]-u_appl_analytical_at_nodes[1,:]))\n",
    "plot(p1,p2,p3, layout = (3,1))\n",
    "#plot(p3)"
   ]
  },
  {
   "cell_type": "code",
   "execution_count": null,
   "id": "dca83ed4",
   "metadata": {},
   "outputs": [],
   "source": []
  },
  {
   "cell_type": "markdown",
   "id": "03c1120e",
   "metadata": {},
   "source": [
    "## Section 12: Computing Fluxes"
   ]
  },
  {
   "cell_type": "code",
   "execution_count": null,
   "id": "575f2a21",
   "metadata": {},
   "outputs": [],
   "source": [
    "function my_get_coords(dh::DofHandler)\n",
    "    # Loop over all cels\n",
    "    for (cellcount, cell) in enumerate(CellIterator(dh))\n",
    "        coords = getcoordinates(cell)\n",
    "        display(coords)\n",
    "        reinit!(cellvalues, cell)\n",
    "        for q_point in 1:getnquadpoints(cellvalues)\n",
    "            coords_qp = spatial_coordinate(cellvalues, q_point, coords)\n",
    "            # display(my_diff_coeff(coords_qp)) \n",
    "        end\n",
    "    end\n",
    "    return 0\n",
    "end"
   ]
  },
  {
   "cell_type": "code",
   "execution_count": null,
   "id": "2b000328",
   "metadata": {},
   "outputs": [],
   "source": [
    "# define spatially varying diffusion coefficient \n",
    "function my_diff_coeff(coord_qp)\n",
    "    xbound = abs(coord_qp[1])<0.3\n",
    "    ybound = abs(coord_qp[2])<0.2 \n",
    "    inPlate = xbound*ybound\n",
    "    inAir   = 1-inPlate\n",
    "    return 4*pi*1e-6*(inAir+1/100*inPlate) \n",
    "end "
   ]
  },
  {
   "cell_type": "code",
   "execution_count": null,
   "id": "a9eaa43d",
   "metadata": {},
   "outputs": [],
   "source": [
    "function compute_hfield(cellvalues::CellScalarValues{dim,T}, dh::DofHandler, a) where {dim,T}\n",
    "\n",
    "    n = getnbasefunctions(cellvalues)\n",
    "    cell_dofs = zeros(Int, n)\n",
    "    nqp = getnquadpoints(cellvalues)\n",
    "\n",
    "    # Allocate storage for the fluxes to store\n",
    "    q = [Vec{2,T}[] for _ in 1:getncells(dh.grid)]\n",
    "\n",
    "    for (cell_num, cell) in enumerate(CellIterator(dh))\n",
    "        q_cell = q[cell_num]\n",
    "        celldofs!(cell_dofs, dh, cell_num)\n",
    "        aᵉ = a[cell_dofs]\n",
    "        reinit!(cellvalues, cell)\n",
    "\n",
    "        for q_point in 1:nqp\n",
    "            q_qp = - function_gradient(cellvalues, q_point, aᵉ)\n",
    "            push!(q_cell, q_qp)\n",
    "        end\n",
    "    end\n",
    "    return q\n",
    "end\n",
    "\n",
    "function compute_bfield(cellvalues::CellScalarValues{dim,T}, dh::DofHandler, a) where {dim,T}\n",
    "\n",
    "    n = getnbasefunctions(cellvalues)\n",
    "    cell_dofs = zeros(Int, n)\n",
    "    nqp = getnquadpoints(cellvalues)\n",
    "\n",
    "    # Allocate storage for the fluxes to store\n",
    "    q = [Vec{2,T}[] for _ in 1:getncells(dh.grid)]\n",
    "\n",
    "    for (cell_num, cell) in enumerate(CellIterator(dh))\n",
    "        q_cell = q[cell_num]\n",
    "        celldofs!(cell_dofs, dh, cell_num)\n",
    "        aᵉ = a[cell_dofs]\n",
    "        reinit!(cellvalues, cell)\n",
    "        coords = getcoordinates(cell)\n",
    "        \n",
    "        for q_point in 1:nqp\n",
    "            coords_qp = spatial_coordinate(cellvalues, q_point, coords)\n",
    "            val_diff_coeff = my_diff_coeff(coords_qp)\n",
    "            q_qp = - val_diff_coeff*function_gradient(cellvalues, q_point, aᵉ)\n",
    "            push!(q_cell, q_qp)\n",
    "        end\n",
    "    end\n",
    "    return q\n",
    "end"
   ]
  },
  {
   "cell_type": "code",
   "execution_count": null,
   "id": "72cbe085",
   "metadata": {},
   "outputs": [],
   "source": [
    "h_gp = compute_hfield(cellvalues, dh, u);\n",
    "b_gp = compute_bfield(cellvalues, dh, u);\n",
    "#q_gp"
   ]
  },
  {
   "cell_type": "code",
   "execution_count": null,
   "id": "04b720a9",
   "metadata": {},
   "outputs": [],
   "source": [
    "?L2Projector"
   ]
  },
  {
   "cell_type": "code",
   "execution_count": null,
   "id": "28cc61ba",
   "metadata": {},
   "outputs": [],
   "source": [
    "projector = L2Projector(ip, grid);\n",
    "#projector "
   ]
  },
  {
   "cell_type": "code",
   "execution_count": null,
   "id": "63000e7a",
   "metadata": {},
   "outputs": [],
   "source": [
    "h_projected = project(projector, h_gp, qr; project_to_nodes=false);\n",
    "b_projected = project(projector, b_gp, qr; project_to_nodes=false);\n",
    "# q_projected"
   ]
  },
  {
   "cell_type": "markdown",
   "id": "994647f8",
   "metadata": {},
   "source": [
    "## Section 13: Exporting to VTK "
   ]
  },
  {
   "cell_type": "code",
   "execution_count": null,
   "id": "4f2e0248",
   "metadata": {},
   "outputs": [],
   "source": [
    "#?vtk_point_data"
   ]
  },
  {
   "cell_type": "code",
   "execution_count": null,
   "id": "abb978bc",
   "metadata": {},
   "outputs": [],
   "source": [
    "vtk_grid(\"2d_uniform_magn_plate\", dh) do vtk\n",
    "    vtk_point_data(vtk, dh, u, \"Vm\")\n",
    "    vtk_point_data(vtk, projector, h_projected, \"H\")\n",
    "    vtk_point_data(vtk, projector, b_projected, \"B\")\n",
    "end"
   ]
  },
  {
   "cell_type": "code",
   "execution_count": null,
   "id": "358941bb",
   "metadata": {},
   "outputs": [],
   "source": []
  },
  {
   "cell_type": "code",
   "execution_count": null,
   "id": "3fb31bf0",
   "metadata": {},
   "outputs": [],
   "source": []
  }
 ],
 "metadata": {
  "kernelspec": {
   "display_name": "Julia 1.9.1",
   "language": "julia",
   "name": "julia-1.9"
  },
  "language_info": {
   "file_extension": ".jl",
   "mimetype": "application/julia",
   "name": "julia",
   "version": "1.9.1"
  }
 },
 "nbformat": 4,
 "nbformat_minor": 5
}
