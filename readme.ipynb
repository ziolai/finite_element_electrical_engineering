{
 "cells": [
  {
   "cell_type": "markdown",
   "id": "f0c7601a",
   "metadata": {},
   "source": [
    "# Finite Element Methods for Electrical Engineering Applications (EE4375)"
   ]
  },
  {
   "cell_type": "markdown",
   "id": "d354058d",
   "metadata": {},
   "source": [
    "## Section 1: Introduction\n",
    "\n",
    "This course consists of three consequitively blocks. The first and second block are intended as stepping stone to the second and third block, respectively.  \n",
    "\n",
    "### Section 1.1: Learning Activities \n",
    "The course consists of two hours of lectures and four hours of computer lab sessions each week. We will use the programing language julia (see julialang.org) and Jupiter notebooks to develop the assignments. We will use the gmsh mesh generation software. You are kindly requested to install Julia, the Jupiter notebook system and the Julia interface to gmsh (Gmsh.jl) on your laptop. You are most welcome to give a look at the references below. \n",
    "\n",
    "###  Section 2.1: Assessment \n",
    "Each block will be concluded with a graded homework assignment. The three homework assignments have to be defended during the oral exam. \n",
    "\n",
    "## Section 2: First Block: 1D and 2D Finite Difference Method  \n",
    "In the first block we discuss the finite difference method to solve the Poisson equation in one and two spatial dimensions. We restrict ourselves to the interval and the square discretized by a uniform mesh. The Poisson equation models a diffusion process and typically appears in the computation of electrostatic and magneto-static fields. Our motivation is to introduce initial problem formulations and simplified numerical solution methods. \n",
    "\n",
    "### Section 1.2: Lecture Slides \n",
    "1. [first block lecture slides](https://github.com/ziolai/finite_element_electrical_engineering/blob/main/slides/block1-finite-difference-method.pdf)\n",
    "2. [mathematical preliminaries slides](https://github.com/ziolai/finite_element_electrical_engineering/blob/main/slides/mathematical-preliminaries.pdf)\n",
    "\n",
    "### Section 2.2: Lab Sessions \n",
    "1. [first lab session](lab-sessions/1-lab-session.ipynb): getting started \n",
    "2. [second lab session](lab-sessions/2-lab-session.ipynb): 1D Finite Difference Method \n",
    "3. [third lab session](lab-sessions/3-lab-session.ipynb): 2D Finite Difference Method\n",
    "\n",
    "### Section 3.2: References \n",
    "1. [wiki on the Laplace equation](https://en.wikipedia.org/wiki/Laplace's_equation)\n",
    "2. [wiki on the Poisson equation](https://en.wikipedia.org/wiki/Poisson%27s_equation): including an example on electrostatics\n",
    "3. [wiki on boundary value problem](https://en.wikipedia.org/wiki/Boundary_value_problem)\n",
    "4. [wiki on electrostatics](https://en.wikipedia.org/wiki/Electrostatics)\n",
    "5. [wiki on magnetostatics](https://en.wikipedia.org/wiki/Magnetostatics)\n",
    "6. [wiki on discrete Poisson matrix](https://en.wikipedia.org/wiki/Discrete_Poisson_equation)  \n",
    "7. [wiki on finite difference method](https://en.wikipedia.org/wiki/Finite_difference_method) \n",
    "8. [Electromagnetic Fields and Energy by Hauss, Melcher, Zahn and Silva](https://ocw.mit.edu/courses/res-6-001-electromagnetic-fields-and-energy-spring-2008/)\n",
    " \n",
    "## Section 3: Second Block: 1D Finite Element Method\n",
    "In the second block we discuss the variational formulation of the Poisson equation in one spatial dimension. This variational formulation allows to subsequently solve the problem by a finite element method using non-uniform meshes. We show that the versatility of the finite element method in solving problems that are more complex than in the first block. \n",
    "\n",
    "### Section 1.3: Lecture Slides \n",
    "1. [second block lecture slides](https://github.com/ziolai/finite_element_electrical_engineering/blob/main/slides/block2-finite-element-method-1d.pdf)\n",
    "2. [mathematical preliminaries slides](https://github.com/ziolai/finite_element_electrical_engineering/blob/main/slides/mathematical-preliminaries.pdf)\n",
    "   \n",
    "### Section 2.3: Lab Sessions \n",
    "1. [fourth lab session](lab-sessions/4-lab-session.ipynb): 1D Finite Element Method \n",
    "\n",
    "### Section 3.4: References\n",
    "1. See Third Block\n",
    "   \n",
    "## Section 4: Third Block: 2D Finite Element Method\n",
    "In the third and last block we discuss the finite element solution of the Poisson equation in two spatial dimension. We discuss the mesh generation using triangle and the construction of the discrete problem using a loop over all elements. We illustrate the method in the computation of magnetostatic fields in transformers and electrical machines.  \n",
    "\n",
    "### Section 1.4: Lecture Slides \n",
    "1. [third block lecture slides](https://github.com/ziolai/finite_element_electrical_engineering/blob/main/slides/block3-finite-element-method-applications.pdf)\n",
    "2. [mathematical preliminaries slides](https://github.com/ziolai/finite_element_electrical_engineering/blob/main/slides/mathematical-preliminaries.pdf)\n",
    "   \n",
    "### Section 2.4: Lab Sessions \n",
    "1. [fifth lab session](lab-sessions/5-lab-session.ipynb): using GMSH \n",
    "2. [sixth lab session](lab-sessions/6-lab-session.ipynb): unit square \n",
    "3. [seventh lab session](lab-sessions/7-lab-session.ipynb): more complex 2D geometries \n",
    "\n",
    "### Section 3.4: References\n",
    "1. [Introduction to Numerical Methods for Variational Problems](https://link.springer.com/book/10.1007/978-3-030-23788-2) by Hans Petter Langtangen and Kent-Andre Mardal. The [book](https://link.springer.com/book/10.1007/978-3-030-23788-2) is freely available; \n",
    "2. [Wolfgang Bangerth's video lectures](https://www.math.colostate.edu/~bangerth/videos.html); \n",
    "3. [wiki Finite Element Method](https://en.wikipedia.org/wiki/Finite_element_method): Section 3 for the weak form and Section 4 for the finite element discretization;  \n",
    "4. [Comsol Multiphysics Finite Element Method](https://www.comsol.com/multiphysics/finite-element-method): more information and illustrations; \n",
    "5. [Comsol Multiphysics Brief Introduction to the Weak Form](https://www.comsol.com/blogs/brief-introduction-weak-form): good introduction to a theoretical concept that provides a basis for the finite element method; \n",
    "6. [Ferrite Introduction to FEM](https://ferrite-fem.github.io/Ferrite.jl/stable/manual/fe_intro/)\n",
    "7. [Sphinx Finite Element Method](http://hplgit.github.io/INF5620/doc/pub/sphinx-fem/): reference for implementation;"
   ]
  },
  {
   "cell_type": "code",
   "execution_count": null,
   "id": "4a0da8f6",
   "metadata": {},
   "outputs": [],
   "source": []
  }
 ],
 "metadata": {
  "kernelspec": {
   "display_name": "Julia 1.9.1",
   "language": "julia",
   "name": "julia-1.9"
  },
  "language_info": {
   "file_extension": ".jl",
   "mimetype": "application/julia",
   "name": "julia",
   "version": "1.9.1"
  }
 },
 "nbformat": 4,
 "nbformat_minor": 5
}
